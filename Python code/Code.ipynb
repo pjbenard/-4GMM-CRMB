{
 "cells": [
  {
   "cell_type": "code",
   "execution_count": 171,
   "metadata": {},
   "outputs": [],
   "source": [
    "import numpy as np\n",
    "import numpy.linalg as npl\n",
    "import scipy as sp\n",
    "import scipy.sparse.linalg as spspl\n",
    "import matplotlib.pyplot as plt"
   ]
  },
  {
   "cell_type": "markdown",
   "metadata": {},
   "source": [
    "### SVD"
   ]
  },
  {
   "cell_type": "code",
   "execution_count": 113,
   "metadata": {},
   "outputs": [],
   "source": [
    "def svd(U_delta):\n",
    "    \"\"\"This is not a simple svd, it's the svd we need for our project.\"\"\"\n",
    "    N,M = U_delta.shape\n",
    "    wU = U_delta/np.sqrt(M)\n",
    "    U,s,V = alg.svd(wU,False)\n",
    "    S = s**2\n",
    "    return U,S,V"
   ]
  },
  {
   "cell_type": "markdown",
   "metadata": {},
   "source": [
    "## offline procedure"
   ]
  },
  {
   "cell_type": "code",
   "execution_count": 233,
   "metadata": {},
   "outputs": [],
   "source": [
    "def POD_offline_procedure(total_model_solver,training_set,tol):\n",
    "    U_delta_list = []\n",
    "    for mu_loop in training_set:\n",
    "        U_delta_list.append(total_model_solver(mu_loop))\n",
    "    U_delta = np.array(U_delta_list)\n",
    "    _,S,V = svd(U_delta)\n",
    "    cumul_relat_vp = 0\n",
    "    sum_vp = np.sum(S)\n",
    "    for rank,vp in enumerate(S):\n",
    "        cumul_relat_vp += vp/sum_vp\n",
    "        if 1-cumul_relat_vp < tol:\n",
    "            tronk_rank = rank\n",
    "            break\n",
    "    V_tr = V[:,:tronk_rank+1]\n",
    "    return V_tr,1-cumul_relat_vp\n",
    "#    return U_tr.T.dot(np.expand_dims(S[:tronk_rank+1],-1) * U_tr),1-cumul_relat_vp"
   ]
  },
  {
   "cell_type": "code",
   "execution_count": 133,
   "metadata": {},
   "outputs": [],
   "source": [
    "def solver(mu,plot = False):\n",
    "    # 2 args\n",
    "    # mu = [lambda_0, T_0]\n",
    "    n = 5\n",
    "    N_diff = 2**n\n",
    "    x_diff_plot = sp.linspace(0,1,N_diff+2)\n",
    "    x_diff = x_diff_plot[:-1]\n",
    "    f_diff = np.zeros(len(x_diff))\n",
    "    f_diff[0] = 1\n",
    "    \n",
    "    #construction de la matrice A en format sparse\n",
    "    tab_A_0 = [np.repeat([1,0],[N_diff//2,N_diff//2],0),np.repeat([0,-2,-1,0],[1,N_diff//2-1,1,N_diff//2],0),np.repeat([0,1,0],[1,N_diff//2-1,N_diff//2],0)]\n",
    "    tab_A_1 = [np.repeat([0,((N_diff+2)**2)],[N_diff//2,N_diff//2],0),np.repeat([1,0,-((N_diff+2)**2),-2*((N_diff+2)**2)],[1,N_diff//2-1,1,N_diff//2],0),np.repeat([0,((N_diff+2)**2)],[N_diff//2,N_diff//2],0)]\n",
    "    #print(N_diff+1,len(tab_A_0[0]),len(tab_A_0[1]),len(tab_A_0[2]),\"\\n\",len(tab_A_1[0]),len(tab_A_1[1]),len(tab_A_1[2]))\n",
    "    A_0 = sp.sparse.diags(tab_A_0,[-1,0,1],(N_diff+1,N_diff+1))*((N_diff+2)**2)\n",
    "    A_1 = sp.sparse.diags(tab_A_1,[-1,0,1],(N_diff+1,N_diff+1))\n",
    "    #NPA_0 = A_0.todense()\n",
    "    #NPA_1 = A_1.todense()\n",
    "    #print(NPA_0+NPA_1)\n",
    "    #print(NPA_1)\n",
    "\n",
    "    #print(mu)\n",
    "    A = A_1 + mu[0]*A_0\n",
    "    f = mu[1] * f_diff\n",
    "    #résolution des diff finies (Au=f)\n",
    "    U_diff = spspl.spsolve(A,f)\n",
    "\n",
    "    #préparation au plot\n",
    "    U_diff_plot = sp.zeros(N_diff+2)\n",
    "    U_diff_plot[:-1] = U_diff\n",
    "    \n",
    "    if plot:\n",
    "        return x_diff_plot, U_diff_plot\n",
    "    \n",
    "    return U_diff_plot"
   ]
  },
  {
   "cell_type": "code",
   "execution_count": 119,
   "metadata": {},
   "outputs": [],
   "source": [
    "def training_set_creator(*args):\n",
    "    \"\"\"\n",
    "    args are a non-zero number of lists of size 3.\n",
    "    Example of use: we want the creation of an iteratable representing all possible elements on a n-dimensional grid\n",
    "    first dimension goes from a to b with c elements, then you pass \"[a,b,c]\" as a first argument.\n",
    "    return: n-dimensional grid on which you can iterate.\n",
    "    \n",
    "    \"\"\"\n",
    "    linspace_args = (np.linspace(arg[0],arg[1],arg[2]) for arg in args)\n",
    "    pools = [tuple(pool) for pool in linspace_args]\n",
    "    result = [[]]\n",
    "    for pool in pools:\n",
    "        result = [x+[y] for x in result for y in pool]\n",
    "    for prod in result:\n",
    "        yield tuple(prod)"
   ]
  },
  {
   "cell_type": "code",
   "execution_count": 235,
   "metadata": {},
   "outputs": [],
   "source": [
    "#résolution par diff finies\n",
    "def pre_computer(Base):\n",
    "    n = 5\n",
    "    N_diff = 2**n\n",
    "    f_diff = np.zeros(N_diff+2)\n",
    "    f_diff[0] = 1\n",
    "    \n",
    "    #construction des matrices A en format sparse\n",
    "    tab_A_0 = [np.repeat([1,0],[N_diff//2,N_diff//2+1],0),np.repeat([0,-2,-1,0],[1,N_diff//2-1,1,N_diff//2+1],0),np.repeat([0,1,0],[1,N_diff//2-1,N_diff//2+1],0)]\n",
    "    tab_A_1 = [np.repeat([0,((N_diff+2)**2),0],[N_diff//2,N_diff//2,1],0),np.repeat([1,0,-((N_diff+2)**2),-2*((N_diff+2)**2),1],[1,N_diff//2-1,1,N_diff//2,1],0),np.repeat([0,((N_diff+2)**2)],[N_diff//2,N_diff//2+1],0)]\n",
    "    A_0 = sp.sparse.diags(tab_A_0,[-1,0,1],(N_diff+2,N_diff+2))*((N_diff+2)**2)\n",
    "    A_1 = sp.sparse.diags(tab_A_1,[-1,0,1],(N_diff+2,N_diff+2))\n",
    "    \n",
    "    #A = A_1 + mu[0]*A_0\n",
    "    #f = mu[1] * f_diff\n",
    "    return [Base.T.dot(A_0.todense().dot(Base)),Base.T.dot(A_1.todense().dot(Base)),Base.T.dot(f_diff),Base.T.dot(0*f_diff)],[0,1,2,3]"
   ]
  },
  {
   "cell_type": "code",
   "execution_count": 236,
   "metadata": {},
   "outputs": [],
   "source": [
    "def reduced_solver(mu,A_q,shape):\n",
    "    A = A_q[shape[0]]*mu[0] + A_q[shape[1]]\n",
    "    f = A_q[shape[2]]*mu[1] + A_q[shape[3]]\n",
    "    return npl.solve(A,f)"
   ]
  },
  {
   "cell_type": "code",
   "execution_count": 239,
   "metadata": {},
   "outputs": [
    {
     "name": "stdout",
     "output_type": "stream",
     "text": [
      "1.1102230246251565e-16\n"
     ]
    },
    {
     "data": {
      "image/png": "[encoded data removed]",
      "text/plain": [
       "<matplotlib.figure.Figure at 0x1478b2b2f28>"
      ]
     },
     "metadata": {},
     "output_type": "display_data"
    }
   ],
   "source": [
    "T = np.array([[1,50,50],[1,5,20]])\n",
    "T0 = T[0,:]\n",
    "T1 = T[1,:]\n",
    "training_set = training_set_creator(T0,T1)\n",
    "#for i,mu_loop in enumerate(training_set):\n",
    "#    print(\"iteration : \",i,\" mu = \",mu_loop)\n",
    "Base,error = POD_offline_procedure(solver,training_set,0.0001)\n",
    "print(error)\n",
    "A_q,shape = pre_computer(Base)\n",
    "U_rb = reduced_solver((1,1),A_q,shape)\n",
    "X,U_true = solver((1,1),True)\n",
    "plt.plot(X,U_true,label=\"true_sol\")\n",
    "plt.plot(X,Base.dot(U_rb),label=\"reduced_sol\")\n",
    "plt.legend()\n",
    "plt.show()"
   ]
  },
  {
   "cell_type": "markdown",
   "metadata": {},
   "source": [
    "## ancien code"
   ]
  },
  {
   "cell_type": "code",
   "execution_count": null,
   "metadata": {},
   "outputs": [],
   "source": [
    "class dimension_not_allowed_error(Exception):\n",
    "    def __init__(self,l,k):\n",
    "        self.l = l\n",
    "        self.k = k\n",
    "    def __str__(self):\n",
    "        return \"An error has occured while adding a new vector of size \"+str(self.k)+\" in basis of space of size \"+str(self.l)\n",
    "\n",
    "class base_orthonormee:\n",
    "    \n",
    "    def __init__(self,l,ps):\n",
    "        self.Cardinal = 0\n",
    "        self.Length = l\n",
    "        self.Scalar_Product = ps\n",
    "        self.Basis_Set = np.zeros((self.Length,self.Cardinal))\n",
    "    \n",
    "    def add(self,v):\n",
    "        if self.Length != len(v):\n",
    "            raise dimension_not_allowed_error(self.Length,len(v))\n",
    "        v -= self.Scalar_Product(self.Basis_Set.T,self.Scalar_Product(self.Basis_Set,v))\n",
    "        self.Basis_Set = np.concatenate((self.Basis_Set,v/np.sqrt(self.Scalar_Product(v,v))),axis=1)\n",
    "        self.Cardinal += 1\n",
    "    \n",
    "    def matrix(self):\n",
    "        return self.Basis_Set\n",
    "    \n",
    "    def show(self):\n",
    "        print(\"vector length : \",self.Length)\n",
    "        print(\"cardinal : \",self.Cardinal)\n",
    "        print(\"matrix : \",self.Basis_Set)\n",
    "\n",
    "def offline_procedure(total_model_solver,reduced_basis_solver,ps,pre_computing,training_set,tol,l):\n",
    "    \"\"\" \n",
    "    this function takes the problem and a sample of the parameter space and computes the reduced basis\n",
    "    (following greedy algorithm steps) that approximates the space (V_delta) so that the maximum error is less than the tolerance.\n",
    "    \n",
    "        function \"total model solver\" is the true solver.\n",
    "                                                Input: mu\n",
    "                                                Output: u_delta(mu)\n",
    "        function \"reduced basis solver\" solves the linear system A^mu_rb . u^mu_rb = f^mu_rb\n",
    "                                                Input: mu, Ta, Tf (pre_computed elements of A and f)\n",
    "                                                Output: u_rb(mu), s_rb(mu) = nu(mu)\n",
    "        function \"ps\" is the scalar product for normalization and orthogonalization.\n",
    "                                                Input: 2 vectors\n",
    "                                                Output: scalar_product result\n",
    "        function \"pre computing\" performs the precomputing step\n",
    "                                                Input: V (current V_rb basis)\n",
    "                                                Ouput: Ta,Tf (na partial A-matrices and nf f-vectors from affine assumption)\n",
    "        array \"training set\" is the sample of the parameter space\n",
    "        \n",
    "        float \"tol\" is the tolerance for stopping criteria\n",
    "        \n",
    "        integer \"l\" determines current vector length\n",
    "        \n",
    "    \"\"\"\n",
    "    mu = training_set[0]\n",
    "    max_nu = np.Inf\n",
    "    V = base_orthonormee(l,ps)\n",
    "    while max_nu > tol:\n",
    "        #gram-schmidt pour que V ressemble à une base\n",
    "        V.add(total_model_solver(mu))\n",
    "        #pre-computing\n",
    "        Ta,Tf = pre_computing(V.matrix)\n",
    "        #calcul de u_rb(mu) pour tout les mu\n",
    "        max_nu = 0\n",
    "        for mu_loop in training_set :\n",
    "            u_rb,nu = reduced_basis_solver(Ta,Tf,mu_loop)\n",
    "            if max_nu < nu and nu > tol:\n",
    "                max_nu = nu\n",
    "                mu = mu_loop\n",
    "    return V\n",
    "        "
   ]
  },
  {
   "cell_type": "code",
   "execution_count": null,
   "metadata": {},
   "outputs": [],
   "source": [
    "def ps(u,v):\n",
    "    return u.T.dot(v)\n",
    "def pre_computing(V):\n",
    "    "
   ]
  },
  {
   "cell_type": "code",
   "execution_count": null,
   "metadata": {},
   "outputs": [],
   "source": [
    "## Test base orthonormee\n",
    "#v1 = np.zeros((3,1))\n",
    "#v2 = np.zeros((3,1))\n",
    "#v3 = np.zeros((3,1))\n",
    "#v1 = np.asarray([[1.],[1.],[1.]])\n",
    "#v2 = np.asarray([[1.],[-1.],[0.]])\n",
    "#v3 = np.asarray([[-1.],[-9.],[-9.]])\n",
    "#test = base_orthonormee(v1,ps)\n",
    "#test.show()\n",
    "#test.add(v2)\n",
    "#test.show()\n",
    "#test.add(v3)\n",
    "#test.show()"
   ]
  }
 ],
 "metadata": {
  "kernelspec": {
   "display_name": "Python 3",
   "language": "python",
   "name": "python3"
  },
  "language_info": {
   "codemirror_mode": {
    "name": "ipython",
    "version": 3
   },
   "file_extension": ".py",
   "mimetype": "text/x-python",
   "name": "python",
   "nbconvert_exporter": "python",
   "pygments_lexer": "ipython3",
   "version": "3.6.4"
  }
 },
 "nbformat": 4,
 "nbformat_minor": 2
}
