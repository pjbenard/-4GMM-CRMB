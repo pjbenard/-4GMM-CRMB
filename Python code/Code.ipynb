{
 "cells": [
  {
   "cell_type": "code",
   "execution_count": null,
   "metadata": {},
   "outputs": [],
   "source": [
    "import numpy as np\n",
    "import numpy.linalg as alg"
   ]
  },
  {
   "cell_type": "markdown",
   "metadata": {},
   "source": [
    "### SVD"
   ]
  },
  {
   "cell_type": "code",
   "execution_count": null,
   "metadata": {},
   "outputs": [],
   "source": []
  },
  {
   "cell_type": "code",
   "execution_count": null,
   "metadata": {},
   "outputs": [],
   "source": [
    "def svd(U_delta):\n",
    "    \"\"\"This is not a simple svd, it's the svd we need for our project.\"\"\"\n",
    "    N,M = U_delta.shape\n",
    "    wU = U_delta/np.sqrt(M)\n",
    "    U,s,V = alg.svd(wU,False)\n",
    "    S = s**2\n",
    "    return U,S,V"
   ]
  },
  {
   "cell_type": "code",
   "execution_count": null,
   "metadata": {},
   "outputs": [],
   "source": [
    "A = np.random.rand(20,53)\n",
    "U,S,V = svd(A)\n",
    "print(U.shape,S.shape,V.shape)\n",
    "print(S)"
   ]
  },
  {
   "cell_type": "markdown",
   "metadata": {},
   "source": [
    "## offline procedure"
   ]
  },
  {
   "cell_type": "code",
   "execution_count": null,
   "metadata": {},
   "outputs": [],
   "source": [
    "class dimension_not_allowed_error(Exception):\n",
    "    def __init__(self,l,k):\n",
    "        self.l = l\n",
    "        self.k = k\n",
    "    def __str__(self):\n",
    "        return \"An error has occured while adding a new vector of size \"+str(self.k)+\" in basis of space of size \"+str(self.l)\n",
    "\n",
    "class base_orthonormee:\n",
    "    \n",
    "    def __init__(self,l,ps):\n",
    "        self.Cardinal = 0\n",
    "        self.Length = l\n",
    "        self.Scalar_Product = ps\n",
    "        self.Basis_Set = np.zeros((self.Length,self.Cardinal))\n",
    "    \n",
    "    def add(self,v):\n",
    "        if self.Length != len(v):\n",
    "            raise dimension_not_allowed_error(self.Length,len(v))\n",
    "        v -= self.Scalar_Product(self.Basis_Set.T,self.Scalar_Product(self.Basis_Set,v))\n",
    "        self.Basis_Set = np.concatenate((self.Basis_Set,v/np.sqrt(self.Scalar_Product(v,v))),axis=1)\n",
    "        self.Cardinal += 1\n",
    "    \n",
    "    def matrix(self):\n",
    "        return self.Basis_Set\n",
    "    \n",
    "    def show(self):\n",
    "        print(\"vector length : \",self.Length)\n",
    "        print(\"cardinal : \",self.Cardinal)\n",
    "        print(\"matrix : \",self.Basis_Set)\n",
    "\n",
    "def offline_procedure(total_model_solver,reduced_basis_solver,ps,pre_computing,training_set,tol,l):\n",
    "    \"\"\" \n",
    "    this function takes the problem and a sample of the parameter space and computes the reduced basis\n",
    "    (following greedy algorithm steps) that approximates the space (V_delta) so that the maximum error is less than the tolerance.\n",
    "    \n",
    "        function \"total model solver\" is the true solver.\n",
    "                                                Input: mu\n",
    "                                                Output: u_delta(mu)\n",
    "        function \"reduced basis solver\" solves the linear system A^mu_rb . u^mu_rb = f^mu_rb\n",
    "                                                Input: mu, T (pre_computed elements of A and f)\n",
    "                                                Output: u_rb(mu), s_rb(mu) = nu(mu)\n",
    "        function \"ps\" is the scalar product for normalization and orthogonalization.\n",
    "                                                Input: 2 vectors\n",
    "                                                Output: scalar_product result\n",
    "        function \"pre computing\" performs the precomputing step\n",
    "                                                Input: V,n (current V_rb basis)\n",
    "                                                Ouput: T (n partial A-matrices and f-vectors from affine assumption)\n",
    "        array \"training set\" is the sample of the parameter space\n",
    "        \n",
    "        float \"tol\" is the tolerance for stopping criteria\n",
    "        \n",
    "        integer \"l\" determines current vector length\n",
    "        \n",
    "    \"\"\"\n",
    "    mu = training_set[0]\n",
    "    max_nu = np.Inf\n",
    "    V = base_orthonormee(l,ps)\n",
    "    while max_nu > tol:\n",
    "        #gram-schmidt pour que V ressemble à une base\n",
    "        V.add(total_model_solver(mu))\n",
    "        #pre-computing\n",
    "        T = pre_computing(V.matrix)\n",
    "        #calcul de u_rb(mu) pour tout les mu\n",
    "        max_nu = 0\n",
    "        for mu_loop in training_set :\n",
    "            u_rb,nu = reduced_basis_solver(T,mu_loop)\n",
    "            if max_nu < nu and nu > tol:\n",
    "                max_nu = nu\n",
    "                mu = mu_loop\n",
    "    return V\n",
    "        "
   ]
  },
  {
   "cell_type": "code",
   "execution_count": null,
   "metadata": {},
   "outputs": [],
   "source": [
    "def ps(u,v):\n",
    "    return u.T.dot(v)"
   ]
  },
  {
   "cell_type": "code",
   "execution_count": null,
   "metadata": {},
   "outputs": [],
   "source": [
    "## Test base orthonormee\n",
    "#v1 = np.zeros((3,1))\n",
    "#v2 = np.zeros((3,1))\n",
    "#v3 = np.zeros((3,1))\n",
    "#v1 = np.asarray([[1.],[1.],[1.]])\n",
    "#v2 = np.asarray([[1.],[-1.],[0.]])\n",
    "#v3 = np.asarray([[-1.],[-9.],[-9.]])\n",
    "#test = base_orthonormee(v1,ps)\n",
    "#test.show()\n",
    "#test.add(v2)\n",
    "#test.show()\n",
    "#test.add(v3)\n",
    "#test.show()"
   ]
  }
 ],
 "metadata": {
  "kernelspec": {
   "display_name": "Python 3",
   "language": "python",
   "name": "python3"
  },
  "language_info": {
   "codemirror_mode": {
    "name": "ipython",
    "version": 3
   },
   "file_extension": ".py",
   "mimetype": "text/x-python",
   "name": "python",
   "nbconvert_exporter": "python",
   "pygments_lexer": "ipython3",
   "version": "3.6.4"
  }
 },
 "nbformat": 4,
 "nbformat_minor": 2
}
