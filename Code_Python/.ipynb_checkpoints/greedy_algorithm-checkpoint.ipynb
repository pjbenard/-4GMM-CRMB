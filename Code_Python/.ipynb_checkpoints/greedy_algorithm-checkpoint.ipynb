{
 "cells": [
  {
   "cell_type": "code",
   "execution_count": 1,
   "metadata": {},
   "outputs": [],
   "source": [
    "import numpy as np\n",
    "import numpy.linalg as npl\n",
    "import matplotlib.pyplot as plt"
   ]
  },
  {
   "cell_type": "code",
   "execution_count": 100,
   "metadata": {},
   "outputs": [],
   "source": [
    "def project(vector, matrix):\n",
    "    return vector @ matrix\n",
    "\n",
    "def resize(arr):\n",
    "    shape = arr.shape\n",
    "    size = arr.size\n",
    "    \n",
    "    if len(shape) < 2:\n",
    "        return np.resize(arr, (1, shape[0])) \n",
    "    \n",
    "    else:\n",
    "        return arr"
   ]
  },
  {
   "cell_type": "code",
   "execution_count": 139,
   "metadata": {},
   "outputs": [],
   "source": [
    "def greedy(vectors, error):\n",
    "    list_approx_base = None\n",
    "    \n",
    "    approx_error = 1e10\n",
    "    while approx_error > error and vectors.shape[0] > 0:\n",
    "        best_vec = vectors[0]\n",
    "        best_idx = 0\n",
    "        print(list_approx_base)\n",
    "        \n",
    "        \n",
    "        for idx, projector in enumerate(vectors):\n",
    "            if list_approx_base is None:\n",
    "                temp_new_base = np.copy(projector)\n",
    "            else:\n",
    "                projector = np.resize(projector, [projector.shape[0], 1])\n",
    "                print(projector)\n",
    "                temp_new_base = np.vstack((list_approx_base, projector))\n",
    "                \n",
    "            temp_new_base = resize(temp_new_base)\n",
    "            \n",
    "            print(vectors.shape, temp_new_base.shape)\n",
    "            to_normalize = vectors @ temp_new_base.T\n",
    "            normalized = np.zeros_like(to_normalize)\n",
    "            \n",
    "            for idx_comp in range(to_normalize.shape[1]):\n",
    "                norm = npl.norm(temp_new_base[:, idx_comp])\n",
    "                normalized[:, idx_comp] = to_normalize[:, idx_comp] / (norm ** 2)\n",
    "\n",
    "            temp_error = npl.norm(np.outer(to_normalize, \n",
    "                                           temp_new_base))\n",
    "    \n",
    "            if temp_error < approx_error:\n",
    "                approx_error = temp_error\n",
    "                best_idx = idx\n",
    "                best_vec = np.copy(projector)\n",
    "        \n",
    "        if list_approx_base is None:\n",
    "            list_approx_base = best_vec\n",
    "        else:\n",
    "            list_approx_base = np.vstack((list_approx_base, best_vec))\n",
    "\n",
    "        shape = list_approx_base.shape\n",
    "        size = list_approx_base.size\n",
    "        list_approx_base = np.resize(list_approx_base, (shape[0], size//shape[0]))\n",
    "        \n",
    "        vectors = np.delete(vectors, best_idx, axis=0)\n",
    "    \n",
    "    return list_approx_base"
   ]
  },
  {
   "cell_type": "code",
   "execution_count": 140,
   "metadata": {},
   "outputs": [
    {
     "name": "stdout",
     "output_type": "stream",
     "text": [
      "None\n",
      "(10, 2) (1, 2)\n",
      "(10, 2) (1, 2)\n",
      "(10, 2) (1, 2)\n",
      "(10, 2) (1, 2)\n",
      "(10, 2) (1, 2)\n",
      "(10, 2) (1, 2)\n",
      "(10, 2) (1, 2)\n",
      "(10, 2) (1, 2)\n",
      "(10, 2) (1, 2)\n",
      "(10, 2) (1, 2)\n",
      "[[ 0.5421853 ]\n",
      " [-0.09660828]]\n",
      "[[-0.44625071]\n",
      " [-0.61269567]]\n",
      "(9, 2) (4, 1)\n"
     ]
    },
    {
     "ename": "ValueError",
     "evalue": "matmul: Input operand 1 has a mismatch in its core dimension 0, with gufunc signature (n?,k),(k,m?)->(n?,m?) (size 1 is different from 2)",
     "output_type": "error",
     "traceback": [
      "\u001b[0;31m---------------------------------------------------------------------------\u001b[0m",
      "\u001b[0;31mValueError\u001b[0m                                Traceback (most recent call last)",
      "\u001b[0;32m<ipython-input-140-9c39fffce915>\u001b[0m in \u001b[0;36m<module>\u001b[0;34m\u001b[0m\n\u001b[0;32m----> 1\u001b[0;31m \u001b[0mgreedy\u001b[0m\u001b[0;34m(\u001b[0m\u001b[0mvectors\u001b[0m\u001b[0;34m,\u001b[0m \u001b[0;36m0.1\u001b[0m\u001b[0;34m)\u001b[0m\u001b[0;34m\u001b[0m\u001b[0;34m\u001b[0m\u001b[0m\n\u001b[0m",
      "\u001b[0;32m<ipython-input-139-92293c77ed67>\u001b[0m in \u001b[0;36mgreedy\u001b[0;34m(vectors, error)\u001b[0m\n\u001b[1;32m     20\u001b[0m \u001b[0;34m\u001b[0m\u001b[0m\n\u001b[1;32m     21\u001b[0m             \u001b[0mprint\u001b[0m\u001b[0;34m(\u001b[0m\u001b[0mvectors\u001b[0m\u001b[0;34m.\u001b[0m\u001b[0mshape\u001b[0m\u001b[0;34m,\u001b[0m \u001b[0mtemp_new_base\u001b[0m\u001b[0;34m.\u001b[0m\u001b[0mshape\u001b[0m\u001b[0;34m)\u001b[0m\u001b[0;34m\u001b[0m\u001b[0;34m\u001b[0m\u001b[0m\n\u001b[0;32m---> 22\u001b[0;31m             \u001b[0mto_normalize\u001b[0m \u001b[0;34m=\u001b[0m \u001b[0mvectors\u001b[0m \u001b[0;34m@\u001b[0m \u001b[0mtemp_new_base\u001b[0m\u001b[0;34m.\u001b[0m\u001b[0mT\u001b[0m\u001b[0;34m\u001b[0m\u001b[0;34m\u001b[0m\u001b[0m\n\u001b[0m\u001b[1;32m     23\u001b[0m             \u001b[0mnormalized\u001b[0m \u001b[0;34m=\u001b[0m \u001b[0mnp\u001b[0m\u001b[0;34m.\u001b[0m\u001b[0mzeros_like\u001b[0m\u001b[0;34m(\u001b[0m\u001b[0mto_normalize\u001b[0m\u001b[0;34m)\u001b[0m\u001b[0;34m\u001b[0m\u001b[0;34m\u001b[0m\u001b[0m\n\u001b[1;32m     24\u001b[0m \u001b[0;34m\u001b[0m\u001b[0m\n",
      "\u001b[0;31mValueError\u001b[0m: matmul: Input operand 1 has a mismatch in its core dimension 0, with gufunc signature (n?,k),(k,m?)->(n?,m?) (size 1 is different from 2)"
     ]
    }
   ],
   "source": [
    "greedy(vectors, 0.1)"
   ]
  },
  {
   "cell_type": "code",
   "execution_count": 115,
   "metadata": {},
   "outputs": [
    {
     "data": {
      "text/plain": [
       "(5, 30)"
      ]
     },
     "execution_count": 115,
     "metadata": {},
     "output_type": "execute_result"
    }
   ],
   "source": [
    "base = np.random.random((5, 5)) * 2 - 1\n",
    "vectors = np.random.random((30, 5)) * 2 - 1\n",
    "\n",
    "projection = base @ vectors.T\n",
    "projection.shape"
   ]
  },
  {
   "cell_type": "code",
   "execution_count": 126,
   "metadata": {},
   "outputs": [
    {
     "name": "stdout",
     "output_type": "stream",
     "text": [
      "[[1 1]]\n",
      "[[-0.44625071 -0.61269567]\n",
      " [ 0.42021093 -0.82713823]\n",
      " [-0.64811608  0.72714287]\n",
      " [-0.9200178   0.34410864]\n",
      " [-0.44371029 -0.94203805]\n",
      " [-0.77506017  0.62146661]\n",
      " [ 0.30389944 -0.99094948]\n",
      " [ 0.06478839 -0.52875579]\n",
      " [ 0.5421853  -0.09660828]\n",
      " [-0.74661298  0.26078018]]\n",
      "[[-1.05894638 -0.4069273   0.07902679 -0.57590916 -1.38574834 -0.15359357\n",
      "  -0.68705004 -0.4639674   0.44557702 -0.4858328 ]]\n",
      "[[-0.44625071 -0.61269567]\n",
      " [ 0.42021093 -0.82713823]\n",
      " [-0.64811608  0.72714287]\n",
      " [-0.9200178   0.34410864]\n",
      " [-0.44371029 -0.94203805]\n",
      " [-0.77506017  0.62146661]\n",
      " [ 0.30389944 -0.99094948]\n",
      " [ 0.06478839 -0.52875579]\n",
      " [ 0.5421853  -0.09660828]\n",
      " [-0.74661298  0.26078018]]\n",
      "(1, 10)\n",
      "[[-1.05894638 -0.4069273   0.07902679 -0.57590916 -1.38574834 -0.15359357\n",
      "  -0.68705004 -0.4639674   0.44557702 -0.4858328 ]]\n"
     ]
    },
    {
     "data": {
      "image/png": "[encoded data removed]",
      "text/plain": [
       "<Figure size 360x360 with 1 Axes>"
      ]
     },
     "metadata": {
      "needs_background": "light"
     },
     "output_type": "display_data"
    }
   ],
   "source": [
    "base = np.array([[1,1]])\n",
    "\n",
    "vectors = np.random.random((10,2)) * 2 - 1\n",
    "print(base)\n",
    "print(vectors)\n",
    "\n",
    "print(base @ vectors.T)\n",
    "\n",
    "kwargs = {'angles':'xy', 'scale_units':'xy', 'scale':1}\n",
    "\n",
    "origin = [0], [0] # origin point\n",
    "\n",
    "vec = vectors\n",
    "print(vec)\n",
    "\n",
    "plt.figure(figsize=(5,5))\n",
    "## BASE\n",
    "plt.quiver(*origin, base[:, 0], base[:, 1], **kwargs)\n",
    "## VECTORS\n",
    "plt.quiver(*origin, vec[:,0], vec[:,1], color=['b'], **kwargs)\n",
    "## PROJ\n",
    "temp = base @ vec.T\n",
    "print(temp.shape)\n",
    "print(temp)\n",
    "\n",
    "proj = np.outer(base @ vec.T / npl.norm(base)**2, base)\n",
    "# print(proj)\n",
    "plt.quiver(*origin, proj[:,0], proj[:,1], color=['r'], **kwargs)\n",
    "antiproj = vec- proj\n",
    "# print(antiproj)\n",
    "plt.quiver(proj[:,0], proj[:,1], antiproj[:,0], antiproj[:,1], color=['g'], **kwargs)\n",
    "plt.xlim(-1, 1)\n",
    "plt.ylim(-1, 1)\n",
    "plt.show()"
   ]
  },
  {
   "cell_type": "code",
   "execution_count": null,
   "metadata": {},
   "outputs": [],
   "source": []
  }
 ],
 "metadata": {
  "kernelspec": {
   "display_name": "Python 3",
   "language": "python",
   "name": "python3"
  },
  "language_info": {
   "codemirror_mode": {
    "name": "ipython",
    "version": 3
   },
   "file_extension": ".py",
   "mimetype": "text/x-python",
   "name": "python",
   "nbconvert_exporter": "python",
   "pygments_lexer": "ipython3",
   "version": "3.7.7"
  }
 },
 "nbformat": 4,
 "nbformat_minor": 4
}
