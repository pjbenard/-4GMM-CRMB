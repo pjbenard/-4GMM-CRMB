{
 "cells": [
  {
   "cell_type": "code",
   "execution_count": 121,
   "metadata": {},
   "outputs": [],
   "source": [
    "import numpy as np\n",
    "import numpy.linalg as npl\n",
    "import matplotlib.pyplot as plt"
   ]
  },
  {
   "cell_type": "code",
   "execution_count": 2,
   "metadata": {},
   "outputs": [],
   "source": [
    "def project(vector, matrix):\n",
    "    return vector @ matrix"
   ]
  },
  {
   "cell_type": "code",
   "execution_count": 95,
   "metadata": {},
   "outputs": [],
   "source": [
    "def greedy(vectors, error):\n",
    "    list_approx_base = np.empty((vectors[0].size,))\n",
    "    approx_error = 1e10\n",
    "    \n",
    "    while approx_error > error and vectors.shape[0] > 0:\n",
    "        best_vec = vectors[0]\n",
    "        best_idx = 0\n",
    "        \n",
    "        for idx, projector in enumerate(vectors):\n",
    "            temp_new_base = np.copy(list_approx_base)\n",
    "            temp_new_base = np.vstack((temp_new_base, projector))\n",
    "            temp_error = npl.norm(np.outer(vector @ temp_new_base, \n",
    "                                           temp_new_base))\n",
    "            if temp_error < approx_error:\n",
    "                approx_error = temp_error\n",
    "                best_idx = idx\n",
    "                best_vec = projector\n",
    "        \n",
    "        list_approx_base = np.vstack((list_approx_base, vector[idx]))\n",
    "    \n",
    "    return list_approx_base"
   ]
  },
  {
   "cell_type": "code",
   "execution_count": 120,
   "metadata": {},
   "outputs": [
    {
     "data": {
      "text/plain": [
       "(5, 30)"
      ]
     },
     "execution_count": 120,
     "metadata": {},
     "output_type": "execute_result"
    }
   ],
   "source": [
    "base = np.random.random((5, 5)) * 2 - 1\n",
    "vectors = np.random.random((30, 5)) * 2 - 1\n",
    "\n",
    "projection = base @ vectors.T\n",
    "projection.shape"
   ]
  },
  {
   "cell_type": "code",
   "execution_count": 123,
   "metadata": {},
   "outputs": [
    {
     "name": "stdout",
     "output_type": "stream",
     "text": [
      "[[1 1]]\n",
      "[[ 0.16669779  0.57909474]\n",
      " [ 0.93527914  0.32960477]\n",
      " [-0.25570632  0.25937669]\n",
      " [ 0.32290061  0.72211104]\n",
      " [ 0.51364211  0.82542281]\n",
      " [-0.8655638   0.02098009]\n",
      " [ 0.77339508  0.94487836]\n",
      " [ 0.1023743   0.6956972 ]\n",
      " [ 0.42082455 -0.08638267]\n",
      " [ 0.20367057  0.23072632]]\n",
      "[[ 0.74579253  1.2648839   0.00367036  1.04501165  1.33906492 -0.84458371\n",
      "   1.71827345  0.7980715   0.33444188  0.43439689]]\n",
      "[[ 0.16669779  0.57909474]\n",
      " [ 0.93527914  0.32960477]\n",
      " [-0.25570632  0.25937669]\n",
      " [ 0.32290061  0.72211104]\n",
      " [ 0.51364211  0.82542281]\n",
      " [-0.8655638   0.02098009]\n",
      " [ 0.77339508  0.94487836]\n",
      " [ 0.1023743   0.6956972 ]\n",
      " [ 0.42082455 -0.08638267]\n",
      " [ 0.20367057  0.23072632]]\n",
      "(1, 10)\n",
      "[[ 0.74579253  1.2648839   0.00367036  1.04501165  1.33906492 -0.84458371\n",
      "   1.71827345  0.7980715   0.33444188  0.43439689]]\n"
     ]
    },
    {
     "data": {
      "image/png": "[encoded data removed]",
      "text/plain": [
       "<Figure size 360x360 with 1 Axes>"
      ]
     },
     "metadata": {
      "needs_background": "light"
     },
     "output_type": "display_data"
    }
   ],
   "source": [
    "base = np.array([[1,1]])\n",
    "\n",
    "vectors = np.random.random((10,2)) * 2 - 1\n",
    "print(base)\n",
    "print(vectors)\n",
    "\n",
    "print(base @ vectors.T)\n",
    "\n",
    "kwargs = {'angles':'xy', 'scale_units':'xy', 'scale':1}\n",
    "\n",
    "origin = [0], [0] # origin point\n",
    "\n",
    "vec = vectors\n",
    "print(vec)\n",
    "\n",
    "plt.figure(figsize=(5,5))\n",
    "## BASE\n",
    "plt.quiver(*origin, base[:, 0], base[:, 1], **kwargs)\n",
    "## VECTORS\n",
    "plt.quiver(*origin, vec[:,0], vec[:,1], color=['b'], **kwargs)\n",
    "## PROJ\n",
    "temp = base @ vec.T\n",
    "print(temp.shape)\n",
    "print(temp)\n",
    "proj = np.outer(base @ vec.T, base)\n",
    "# print(proj)\n",
    "plt.quiver(*origin, proj[:,0], proj[:,1], color=['r'], **kwargs)\n",
    "antiproj = vec- proj\n",
    "# print(antiproj)\n",
    "plt.quiver(proj[:,0], proj[:,1], antiproj[:,0], antiproj[:,1], color=['g'], **kwargs)\n",
    "plt.xlim(-1, 1)\n",
    "plt.ylim(-1, 1)\n",
    "plt.show()"
   ]
  },
  {
   "cell_type": "code",
   "execution_count": null,
   "metadata": {},
   "outputs": [],
   "source": []
  }
 ],
 "metadata": {
  "kernelspec": {
   "display_name": "Python 3",
   "language": "python",
   "name": "python3"
  },
  "language_info": {
   "codemirror_mode": {
    "name": "ipython",
    "version": 3
   },
   "file_extension": ".py",
   "mimetype": "text/x-python",
   "name": "python",
   "nbconvert_exporter": "python",
   "pygments_lexer": "ipython3",
   "version": "3.7.6"
  }
 },
 "nbformat": 4,
 "nbformat_minor": 4
}
