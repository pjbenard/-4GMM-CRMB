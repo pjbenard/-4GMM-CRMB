{
 "cells": [
  {
   "cell_type": "code",
   "execution_count": 1,
   "metadata": {},
   "outputs": [
    {
     "name": "stdout",
     "output_type": "stream",
     "text": [
      "Populating the interactive namespace from numpy and matplotlib\n"
     ]
    }
   ],
   "source": [
    "import numpy as np\n",
    "import time\n",
    "import numpy.linalg as npl\n",
    "import scipy as sp\n",
    "import scipy.sparse.linalg as spspl\n",
    "import matplotlib.pyplot as plt\n",
    "%pylab inline\n",
    "from dolfin import *\n",
    "import seaborn as sns"
   ]
  },
  {
   "cell_type": "markdown",
   "metadata": {},
   "source": [
    "## Définition des classes et paramètres"
   ]
  },
  {
   "cell_type": "code",
   "execution_count": 2,
   "metadata": {},
   "outputs": [],
   "source": [
    "# Rayon du disque\n",
    "r = 0.3\n",
    "\n",
    "# Nombre de noeuds sur l'arête\n",
    "N = 20\n",
    "\n",
    "# Classes des domaines\n",
    "class Left(SubDomain):\n",
    "    def inside(self, x, on_boundary):\n",
    "        return near(x[0], 0.0)\n",
    "class Right(SubDomain):\n",
    "    def inside(self, x, on_boundary):\n",
    "        return near(x[0], 1.0)\n",
    "class Bottom(SubDomain):\n",
    "    def inside(self, x, on_boundary):\n",
    "        return near(x[1], 0.0)\n",
    "class Top(SubDomain):\n",
    "    def inside(self, x, on_boundary):\n",
    "        return near(x[1], 1.0)\n",
    "class Gamma0(SubDomain):\n",
    "    def inside(self, x, on_boundary):\n",
    "        return (x[1]-0.5)**2<=r**2-(x[0]-0.5)**2 and (x[1]-0.5)**2<=r**2-(x[0]-0.5)**2\n",
    "\n",
    "# Initialize sub-domain instances\n",
    "left   = Left()\n",
    "top    = Top()\n",
    "right  = Right()\n",
    "bottom = Bottom()\n",
    "gamma  = Gamma0()\n",
    "\n",
    "# Define mesh\n",
    "mesh = UnitSquareMesh(N,N)\n",
    "\n",
    "# Initialize mesh function for interior domains\n",
    "domains = MeshFunction(\"size_t\", mesh, mesh.topology().dim())\n",
    "domains.set_all(0)         #domains 0 = all space\n",
    "gamma.mark(domains, 1)     #domains 1 = all gamma0\n",
    "\n",
    "# Initialize mesh function for boundary domains\n",
    "boundaries = MeshFunction(\"size_t\", mesh, mesh.topology().dim()-1) #1d domains\n",
    "boundaries.set_all(0)      #boundaries 0 = all boundaries\n",
    "left.mark(boundaries, 1)   #boundaries 1 = left (Neumann)\n",
    "top.mark(boundaries, 2)    #boundaries 2 = top (Dirichlet)\n",
    "right.mark(boundaries, 3)  #boundaries 3 = right (Neumann)\n",
    "bottom.mark(boundaries, 4) #boundaries 4 = bottom (Neumann parametrized)\n",
    "\n",
    "# Define function space and basis functions\n",
    "V = FunctionSpace(mesh, \"CG\", 1)\n",
    "u = TrialFunction(V)\n",
    "v = TestFunction(V)\n",
    "\n",
    "# Define Dirichlet boundary conditions at top and bottom boundaries\n",
    "bcs = [DirichletBC(V, 0.0, boundaries, 2)]\n",
    "\n",
    "# Define new measures associated with the interior domains and\n",
    "# exterior boundaries\n",
    "dx = Measure('dx', domain=mesh, subdomain_data=domains)\n",
    "ds = Measure('ds', domain=mesh, subdomain_data=boundaries)"
   ]
  },
  {
   "cell_type": "markdown",
   "metadata": {},
   "source": [
    "## Solver du problème 2D"
   ]
  },
  {
   "cell_type": "code",
   "execution_count": 3,
   "metadata": {},
   "outputs": [],
   "source": [
    "def Solver(mu):\n",
    "    # Define input data\n",
    "    mu0 = Constant(mu[0])  \n",
    "    mu1 = Constant(mu[1])\n",
    "    \n",
    "    # Separate left and right hand sides of equation\n",
    "    a0= inner(grad(u),grad(v))*dx(0)\n",
    "    def a1(mu0):\n",
    "        return inner(mu0*grad(u),grad(v))*dx(1)\n",
    "    a = a0 + a1(mu0) #+ inner(mu1*grad(u),grad(v))*ds(4)\n",
    "    L0 = v*ds(4)\n",
    "    L = mu1*L0\n",
    "    \n",
    "    # Passage en nd.array\n",
    "    A = assemble(a)\n",
    "    b = assemble(L)\n",
    "    A2 = np.copy(A.array())\n",
    "    b2 = np.copy(b.get_local())\n",
    "    \n",
    "    # Conditions de Dirichlet\n",
    "    n=0\n",
    "    niter=2\n",
    "    for i in range((N+1)**2):\n",
    "        for j in range((N+1)**2):\n",
    "            if (i == n)and(i<=int((N+1)**2)/2):\n",
    "                A2[i,:] = 0\n",
    "                A2[i,i] = 1\n",
    "                n += niter\n",
    "                niter += 1\n",
    "    \n",
    "    # Résolution du système linéaire\n",
    "    u2 = npl.solve(A2,b2)\n",
    "    \n",
    "    # Passage en dolfin.Function\n",
    "    Sol = Function(V)\n",
    "    Sol.vector().set_local(u2)\n",
    "    #c = plot(Sol)\n",
    "    #plt.colorbar(c)\n",
    "\n",
    "    return np.array([Sol,A2,b2])"
   ]
  },
  {
   "cell_type": "code",
   "execution_count": 4,
   "metadata": {},
   "outputs": [
    {
     "name": "stdout",
     "output_type": "stream",
     "text": [
      "CPU times: user 121 ms, sys: 672 µs, total: 122 ms\n",
      "Wall time: 80.1 ms\n"
     ]
    }
   ],
   "source": [
    "%%time\n",
    "mu_test = np.array([10,0.1])\n",
    "A = Solver(mu_test)[0]"
   ]
  },
  {
   "cell_type": "code",
   "execution_count": 5,
   "metadata": {},
   "outputs": [
    {
     "data": {
      "text/plain": [
       "<matplotlib.colorbar.Colorbar at 0x7ff6f0fe4d30>"
      ]
     },
     "execution_count": 5,
     "metadata": {},
     "output_type": "execute_result"
    },
    {
     "data": {
      "image/png": "[encoded data removed]",
      "text/plain": [
       "<Figure size 432x288 with 2 Axes>"
      ]
     },
     "metadata": {
      "needs_background": "light"
     },
     "output_type": "display_data"
    }
   ],
   "source": [
    "c = plot(A)\n",
    "plt.colorbar(c)"
   ]
  },
  {
   "cell_type": "code",
   "execution_count": 6,
   "metadata": {},
   "outputs": [
    {
     "name": "stdout",
     "output_type": "stream",
     "text": [
      "(441,)\n"
     ]
    }
   ],
   "source": [
    "print(A.vector().get_local().shape)"
   ]
  },
  {
   "cell_type": "markdown",
   "metadata": {},
   "source": [
    "## Offline procedure"
   ]
  },
  {
   "cell_type": "code",
   "execution_count": 7,
   "metadata": {},
   "outputs": [],
   "source": [
    "def PODlight(total_model_solver,training_set,N,tol=1e-5):\n",
    "    start = time.time()\n",
    "    U,S,V = svd(U_delta.T)\n",
    "    cumul_relat_vp = 0\n",
    "    sum_vp = np.sum(S)\n",
    "    for rank,vp in enumerate(S):\n",
    "        cumul_relat_vp += vp/sum_vp\n",
    "        if 1-cumul_relat_vp < tol:\n",
    "            tronk_rank = rank\n",
    "            break\n",
    "    U_tr = U[:,:N]\n",
    "    temps = start - time.time()\n",
    "    return U_delta.dot(U_tr),temps,1-cumul_relat_vp"
   ]
  },
  {
   "cell_type": "code",
   "execution_count": 8,
   "metadata": {},
   "outputs": [],
   "source": [
    "def svd(U_delta):\n",
    "    \"\"\"\n",
    "    This is not a simple svd, it's a svd-based algorithm described in \n",
    "    \"Linear algebra box: Proper Orthogonal Decomposition (POD)\" p.33\n",
    "    \"\"\"\n",
    "    N,M = U_delta.shape\n",
    "    wU = U_delta/np.sqrt(M)\n",
    "    U,s,V = npl.svd(wU,False)\n",
    "    S = s**2\n",
    "    return U,S,V"
   ]
  },
  {
   "cell_type": "code",
   "execution_count": 9,
   "metadata": {},
   "outputs": [],
   "source": [
    "def training_set_creator(*args):\n",
    "    \"\"\"\n",
    "    args are a non-zero number of lists of size 3.\n",
    "    Example of use: we want the creation of an iteratable representing all possible elements on a n-dimensional grid\n",
    "    first dimension goes from a to b with c elements, then you pass \"[a,b,c]\" as a first argument.\n",
    "    return: n-dimensional grid on which you can iterate.\n",
    "    \n",
    "    \"\"\"\n",
    "    linspace_args = (np.linspace(*arg) for arg in args)\n",
    "    \n",
    "    meshes = np.meshgrid(*linspace_args)\n",
    "    dimensions = map(np.ravel, meshes)\n",
    "#     dimensions = [mesh.ravel() for mesh in meshes]\n",
    "    \n",
    "    tuples = zip(*dimensions)\n",
    "    return list(tuples)\n",
    "#     for tup in tuples:\n",
    "#         yield(tuple(tup))"
   ]
  },
  {
   "cell_type": "code",
   "execution_count": 10,
   "metadata": {},
   "outputs": [],
   "source": [
    "def reduced_solver(mu,A_q,shape):\n",
    "    \"\"\"\n",
    "    from output of pre_computer and a mu: computes A_rb and f_rb and u_rb, the solution of A_rb.u_rb=f_rb\n",
    "    \"\"\"\n",
    "    A = np.copy(A_q[1])\n",
    "    f = np.copy(A_q[3])\n",
    "    for i in range(shape):\n",
    "        A += A_q[0][i]*mu[i]\n",
    "    for i in range(shape,len(mu)):\n",
    "        f += A_q[2][i-shape]*mu[i]\n",
    "    A1 = np.copy(A)\n",
    "    f1 = np.copy(f)\n",
    "    return npl.solve(A1,f1)"
   ]
  },
  {
   "cell_type": "code",
   "execution_count": 11,
   "metadata": {},
   "outputs": [],
   "source": [
    "def pre_computer(Base):\n",
    "    \"\"\"\n",
    "    pre_computer take as input a reduced_base and pre_computes all quantities used for a reduced_solver.\n",
    "    output: [[A_rb^q](0<= i <=n1),A_rb^0,[f_rb^q](0<= i <=n2),f_rb^0],n\n",
    "    with A_rb = sum_(i in 0..n1){ mu[i]*A_rb^(q_1)_i } + A_rb^0\n",
    "    and  f_rb = sum_(i in n1+1..n2){ mu[i]*f_rb^(q_1)_i } + f_rb^0\n",
    "            n = n1+1\n",
    "    \"\"\"\n",
    "    #mu0 = Constant(mu[0])\n",
    "    #mu1 = Constant(mu[1])\n",
    "    # Separate left and right hand sides of equation\n",
    "    a0= inner(grad(u),grad(v))*dx(0)\n",
    "    #def a1(mu0):\n",
    "    #    return inner(grad(u),grad(v))*dx(1)\n",
    "    a1 = inner(grad(u),grad(v))*dx(1)\n",
    "\n",
    "    L0 = v*ds(4)\n",
    "    #L = mu1*L0\n",
    "    \n",
    "    A_0M = assemble(a0)\n",
    "    A_1M = assemble(a1)\n",
    "    b = assemble(L0)\n",
    "    A_0 = np.copy(A_0M.array())\n",
    "    A_1 = np.copy(A_1M.array())\n",
    "    b_0 = np.copy(b.get_local())\n",
    "    #n=0\n",
    "    #niter=2\n",
    "    #for i in range((N+1)**2):\n",
    "    #    for j in range((N+1)**2):\n",
    "    #        if (i == n)and(i<=int((N+1)**2)/2):\n",
    "    #            A_0[i,:] = 0\n",
    "    #            A_0[i,i] = 1\n",
    "    #            n += niter\n",
    "    #            niter += 1\n",
    "                \n",
    "    \n",
    "    A0B = [np.array(Base.T.dot(A_1.dot(Base)))]\n",
    "    A1B = np.array(Base.T.dot(A_0.dot(Base)))\n",
    "    b1 = [np.array(Base.T.dot(b_0))]\n",
    "    b2 = np.array(Base.T.dot(np.zeros(b_0.shape)))\n",
    "    \n",
    "    #At = assemble(a0 + a1(mu0))\n",
    "    #bt = assemble(L)\n",
    "    #A = np.copy(At.array())\n",
    "    #b = np.copy(bt.get_local())\n",
    "    \n",
    "    return [A0B,A1B,b1,b2],1 #[Base.T.dot(A.dot(Base)),Base.T.dot(b)],1"
   ]
  },
  {
   "cell_type": "code",
   "execution_count": 12,
   "metadata": {},
   "outputs": [],
   "source": [
    "def greedylight(MUs,N,tol):\n",
    "    start_time = time.time()\n",
    "    U_delta_mu1 = np.copy(U_delta[:,0])\n",
    "    rang = np.array(np.arange(0,U_delta.shape[1],1),'int')\n",
    "    np.delete(rang,0)\n",
    "    B = np.copy(np.array(U_delta_mu1)).reshape(len(np.array(U_delta_mu1)),1)\n",
    "    err = 1e10\n",
    "    n=1 \n",
    "    while err > tol and len(rang) > 0 and n<N:\n",
    "        eta = np.zeros(len(rang))\n",
    "        for idx_mu, mu in enumerate(MUs):\n",
    "            A_delta_mu = np.copy(A_delta[:,:,idx_mu])\n",
    "            f_delta_mu = np.copy(F_delta[:,idx_mu])\n",
    "            u_delta_mu = np.copy(U_delta[:,idx_mu])\n",
    "            u_rb_mu = npl.solve(B.T.dot(A_delta_mu.dot(B)), B.T.dot(f_delta_mu))\n",
    "            eta[idx_mu] = npl.norm(u_delta_mu - B.dot(u_rb_mu), ord=2)\n",
    "        idx_worst_mu = np.argmax(eta)\n",
    "        add = np.zeros((len(U_delta),1))\n",
    "        add[:,0] = np.copy(U_delta[:,idx_worst_mu])\n",
    "        add = add.T\n",
    "        B = np.vstack((B.T,add/npl.norm(add))).T\n",
    "        MUs.pop(idx_worst_mu)\n",
    "        np.delete(U_delta, idx_worst_mu,axis=1)\n",
    "        err = eta[idx_worst_mu]\n",
    "        n += 1\n",
    "    base = np.copy(B)\n",
    "    temps = time.time() - start_time\n",
    "    return base,temps,err"
   ]
  },
  {
   "cell_type": "markdown",
   "metadata": {},
   "source": [
    "# Données"
   ]
  },
  {
   "cell_type": "code",
   "execution_count": 63,
   "metadata": {},
   "outputs": [
    {
     "name": "stdout",
     "output_type": "stream",
     "text": [
      "CPU times: user 521 µs, sys: 28 µs, total: 549 µs\n",
      "Wall time: 490 µs\n"
     ]
    }
   ],
   "source": [
    "%%time\n",
    "N_max_vectors = 1        #nombre max de vecteurs dans la base\n",
    "N_training_set = 3      #taille du training set\n",
    "tol = 1e-5               #tolérance max\n",
    "T0 = np.array([1,10,N_training_set])\n",
    "T1 = np.array([-1,1,N_training_set])\n",
    "MUs = training_set_creator(T0,T1)"
   ]
  },
  {
   "cell_type": "code",
   "execution_count": 64,
   "metadata": {},
   "outputs": [],
   "source": [
    "start_time = time.time()\n",
    "U_delta = np.zeros((441,len(MUs)))\n",
    "A_delta = np.zeros((441,441,len(MUs)))\n",
    "F_delta = np.zeros((441,len(MUs)))\n",
    "n = 0\n",
    "for mu_loop in MUs:\n",
    "    U,A,F = Solver(mu_loop)\n",
    "    A_delta[:,:,n] = A\n",
    "    F_delta[:,n] = F\n",
    "    U_delta[:,n] = U.vector().get_local()\n",
    "    n+=1\n",
    "temps = time.time() - start_time"
   ]
  },
  {
   "cell_type": "code",
   "execution_count": 65,
   "metadata": {},
   "outputs": [
    {
     "name": "stdout",
     "output_type": "stream",
     "text": [
      "0.5946900844573975\n"
     ]
    }
   ],
   "source": [
    "print(temps)"
   ]
  },
  {
   "cell_type": "code",
   "execution_count": 46,
   "metadata": {},
   "outputs": [
    {
     "name": "stdout",
     "output_type": "stream",
     "text": [
      "9\n"
     ]
    },
    {
     "ename": "IndexError",
     "evalue": "pop from empty list",
     "output_type": "error",
     "traceback": [
      "\u001b[0;31m---------------------------------------------------------------------------\u001b[0m",
      "\u001b[0;31mIndexError\u001b[0m                                Traceback (most recent call last)",
      "\u001b[0;32m<ipython-input-46-2dbd1ed4b390>\u001b[0m in \u001b[0;36m<module>\u001b[0;34m\u001b[0m\n\u001b[0;32m----> 1\u001b[0;31m \u001b[0mBaseG\u001b[0m\u001b[0;34m,\u001b[0m\u001b[0mtempsG\u001b[0m\u001b[0;34m,\u001b[0m\u001b[0merrorG\u001b[0m \u001b[0;34m=\u001b[0m \u001b[0mgreedylight\u001b[0m\u001b[0;34m(\u001b[0m\u001b[0mMUs\u001b[0m\u001b[0;34m,\u001b[0m\u001b[0mN\u001b[0m\u001b[0;34m=\u001b[0m\u001b[0;36m2\u001b[0m\u001b[0;34m,\u001b[0m\u001b[0mtol\u001b[0m\u001b[0;34m=\u001b[0m\u001b[0;36m1e-5\u001b[0m\u001b[0;34m)\u001b[0m\u001b[0;34m\u001b[0m\u001b[0;34m\u001b[0m\u001b[0m\n\u001b[0m\u001b[1;32m      2\u001b[0m \u001b[0mprint\u001b[0m\u001b[0;34m(\u001b[0m\u001b[0mBaseG\u001b[0m\u001b[0;34m.\u001b[0m\u001b[0mshape\u001b[0m\u001b[0;34m)\u001b[0m\u001b[0;34m\u001b[0m\u001b[0;34m\u001b[0m\u001b[0m\n\u001b[1;32m      3\u001b[0m \u001b[0mprint\u001b[0m\u001b[0;34m(\u001b[0m\u001b[0merrorG\u001b[0m\u001b[0;34m)\u001b[0m\u001b[0;34m\u001b[0m\u001b[0;34m\u001b[0m\u001b[0m\n\u001b[1;32m      4\u001b[0m \u001b[0mprint\u001b[0m\u001b[0;34m(\u001b[0m\u001b[0mtempsG\u001b[0m\u001b[0;34m)\u001b[0m\u001b[0;34m\u001b[0m\u001b[0;34m\u001b[0m\u001b[0m\n",
      "\u001b[0;32m<ipython-input-35-d9c8657b417a>\u001b[0m in \u001b[0;36mgreedylight\u001b[0;34m(MUs, N, tol)\u001b[0m\n\u001b[1;32m     21\u001b[0m         \u001b[0madd\u001b[0m \u001b[0;34m=\u001b[0m \u001b[0madd\u001b[0m\u001b[0;34m.\u001b[0m\u001b[0mT\u001b[0m\u001b[0;34m\u001b[0m\u001b[0;34m\u001b[0m\u001b[0m\n\u001b[1;32m     22\u001b[0m         \u001b[0mB\u001b[0m \u001b[0;34m=\u001b[0m \u001b[0mnp\u001b[0m\u001b[0;34m.\u001b[0m\u001b[0mvstack\u001b[0m\u001b[0;34m(\u001b[0m\u001b[0;34m(\u001b[0m\u001b[0mB\u001b[0m\u001b[0;34m.\u001b[0m\u001b[0mT\u001b[0m\u001b[0;34m,\u001b[0m\u001b[0madd\u001b[0m\u001b[0;34m/\u001b[0m\u001b[0mnpl\u001b[0m\u001b[0;34m.\u001b[0m\u001b[0mnorm\u001b[0m\u001b[0;34m(\u001b[0m\u001b[0madd\u001b[0m\u001b[0;34m)\u001b[0m\u001b[0;34m)\u001b[0m\u001b[0;34m)\u001b[0m\u001b[0;34m.\u001b[0m\u001b[0mT\u001b[0m\u001b[0;34m\u001b[0m\u001b[0;34m\u001b[0m\u001b[0m\n\u001b[0;32m---> 23\u001b[0;31m         \u001b[0mMUs\u001b[0m\u001b[0;34m.\u001b[0m\u001b[0mpop\u001b[0m\u001b[0;34m(\u001b[0m\u001b[0midx_worst_mu\u001b[0m\u001b[0;34m)\u001b[0m\u001b[0;34m\u001b[0m\u001b[0;34m\u001b[0m\u001b[0m\n\u001b[0m\u001b[1;32m     24\u001b[0m         \u001b[0mnp\u001b[0m\u001b[0;34m.\u001b[0m\u001b[0mdelete\u001b[0m\u001b[0;34m(\u001b[0m\u001b[0mU_delta\u001b[0m\u001b[0;34m,\u001b[0m \u001b[0midx_worst_mu\u001b[0m\u001b[0;34m,\u001b[0m\u001b[0maxis\u001b[0m\u001b[0;34m=\u001b[0m\u001b[0;36m1\u001b[0m\u001b[0;34m)\u001b[0m\u001b[0;34m\u001b[0m\u001b[0;34m\u001b[0m\u001b[0m\n\u001b[1;32m     25\u001b[0m         \u001b[0merr\u001b[0m \u001b[0;34m=\u001b[0m \u001b[0meta\u001b[0m\u001b[0;34m[\u001b[0m\u001b[0midx_worst_mu\u001b[0m\u001b[0;34m]\u001b[0m\u001b[0;34m\u001b[0m\u001b[0;34m\u001b[0m\u001b[0m\n",
      "\u001b[0;31mIndexError\u001b[0m: pop from empty list"
     ]
    }
   ],
   "source": [
    "BaseG,tempsG,errorG = greedylight(MUs,N=2,tol=1e-5)\n",
    "print(BaseG.shape)\n",
    "print(errorG)\n",
    "print(tempsG)"
   ]
  },
  {
   "cell_type": "code",
   "execution_count": 107,
   "metadata": {},
   "outputs": [
    {
     "name": "stdout",
     "output_type": "stream",
     "text": [
      "(441, 5)\n",
      "-0.07399296760559082\n",
      "5.913692101566781e-07\n"
     ]
    }
   ],
   "source": [
    "Base5,tempsP,errorP = PODlight(Solver,MUs,5)\n",
    "print(BaseP.shape)\n",
    "print(tempsP)\n",
    "print(errorP)"
   ]
  },
  {
   "cell_type": "code",
   "execution_count": 110,
   "metadata": {},
   "outputs": [
    {
     "name": "stdout",
     "output_type": "stream",
     "text": [
      "(441, 4)\n",
      "-0.0749664306640625\n",
      "5.913692101566781e-07\n"
     ]
    }
   ],
   "source": [
    "Base4,tempsP,errorP = PODlight(Solver,MUs,4)\n",
    "print(Base4.shape)\n",
    "print(tempsP)\n",
    "print(errorP)"
   ]
  },
  {
   "cell_type": "code",
   "execution_count": 207,
   "metadata": {},
   "outputs": [
    {
     "name": "stdout",
     "output_type": "stream",
     "text": [
      "108.7514411500097\n",
      "108.7514411500097\n"
     ]
    }
   ],
   "source": [
    "print(npl.norm(Base))\n",
    "print(npl.norm(Base2))"
   ]
  },
  {
   "cell_type": "code",
   "execution_count": 102,
   "metadata": {},
   "outputs": [
    {
     "name": "stdout",
     "output_type": "stream",
     "text": [
      "(1.0, -1.0)\n",
      "<class 'numpy.ndarray'>\n",
      "(2.0, -1.0)\n",
      "<class 'numpy.ndarray'>\n",
      "(3.0, -1.0)\n",
      "<class 'numpy.ndarray'>\n",
      "(4.0, -1.0)\n",
      "<class 'numpy.ndarray'>\n",
      "(5.0, -1.0)\n",
      "<class 'numpy.ndarray'>\n",
      "(6.0, -1.0)\n",
      "<class 'numpy.ndarray'>\n",
      "(7.0, -1.0)\n",
      "<class 'numpy.ndarray'>\n",
      "(8.0, -1.0)\n",
      "<class 'numpy.ndarray'>\n",
      "(9.0, -1.0)\n",
      "<class 'numpy.ndarray'>\n",
      "(10.0, -1.0)\n",
      "<class 'numpy.ndarray'>\n"
     ]
    },
    {
     "ename": "LinAlgError",
     "evalue": "Singular matrix",
     "output_type": "error",
     "traceback": [
      "\u001b[0;31m---------------------------------------------------------------------------\u001b[0m",
      "\u001b[0;31mLinAlgError\u001b[0m                               Traceback (most recent call last)",
      "\u001b[0;32m<ipython-input-102-15421c3ea07e>\u001b[0m in \u001b[0;36m<module>\u001b[0;34m\u001b[0m\n\u001b[1;32m     13\u001b[0m     \u001b[0mstart_time\u001b[0m \u001b[0;34m=\u001b[0m \u001b[0mtime\u001b[0m\u001b[0;34m.\u001b[0m\u001b[0mtime\u001b[0m\u001b[0;34m(\u001b[0m\u001b[0;34m)\u001b[0m\u001b[0;34m\u001b[0m\u001b[0;34m\u001b[0m\u001b[0m\n\u001b[1;32m     14\u001b[0m     \u001b[0mprint\u001b[0m\u001b[0;34m(\u001b[0m\u001b[0mmu\u001b[0m\u001b[0;34m)\u001b[0m\u001b[0;34m\u001b[0m\u001b[0;34m\u001b[0m\u001b[0m\n\u001b[0;32m---> 15\u001b[0;31m     \u001b[0mU_rb\u001b[0m \u001b[0;34m=\u001b[0m \u001b[0mnp\u001b[0m\u001b[0;34m.\u001b[0m\u001b[0mcopy\u001b[0m\u001b[0;34m(\u001b[0m\u001b[0mreduced_solver\u001b[0m\u001b[0;34m(\u001b[0m\u001b[0mmu\u001b[0m\u001b[0;34m,\u001b[0m\u001b[0mnp\u001b[0m\u001b[0;34m.\u001b[0m\u001b[0marray\u001b[0m\u001b[0;34m(\u001b[0m\u001b[0mA_q\u001b[0m\u001b[0;34m)\u001b[0m\u001b[0;34m,\u001b[0m\u001b[0mshape\u001b[0m\u001b[0;34m)\u001b[0m\u001b[0;34m)\u001b[0m\u001b[0;34m\u001b[0m\u001b[0;34m\u001b[0m\u001b[0m\n\u001b[0m\u001b[1;32m     16\u001b[0m     \u001b[0mtimes\u001b[0m \u001b[0;34m+=\u001b[0m \u001b[0;34m[\u001b[0m\u001b[0mtime\u001b[0m\u001b[0;34m.\u001b[0m\u001b[0mtime\u001b[0m\u001b[0;34m(\u001b[0m\u001b[0;34m)\u001b[0m \u001b[0;34m-\u001b[0m \u001b[0mstart_time\u001b[0m\u001b[0;34m]\u001b[0m\u001b[0;34m\u001b[0m\u001b[0;34m\u001b[0m\u001b[0m\n\u001b[1;32m     17\u001b[0m     \u001b[0mRES\u001b[0m \u001b[0;34m=\u001b[0m \u001b[0mBase\u001b[0m\u001b[0;34m.\u001b[0m\u001b[0mdot\u001b[0m\u001b[0;34m(\u001b[0m\u001b[0mU_rb\u001b[0m\u001b[0;34m)\u001b[0m\u001b[0;34m\u001b[0m\u001b[0;34m\u001b[0m\u001b[0m\n",
      "\u001b[0;32m<ipython-input-89-14ec56ce4f3b>\u001b[0m in \u001b[0;36mreduced_solver\u001b[0;34m(mu, A_q, shape)\u001b[0m\n\u001b[1;32m     12\u001b[0m     \u001b[0mA1\u001b[0m \u001b[0;34m=\u001b[0m \u001b[0mnp\u001b[0m\u001b[0;34m.\u001b[0m\u001b[0marray\u001b[0m\u001b[0;34m(\u001b[0m\u001b[0mA\u001b[0m\u001b[0;34m)\u001b[0m\u001b[0;34m\u001b[0m\u001b[0;34m\u001b[0m\u001b[0m\n\u001b[1;32m     13\u001b[0m     \u001b[0mf1\u001b[0m \u001b[0;34m=\u001b[0m \u001b[0mnp\u001b[0m\u001b[0;34m.\u001b[0m\u001b[0marray\u001b[0m\u001b[0;34m(\u001b[0m\u001b[0mf\u001b[0m\u001b[0;34m)\u001b[0m\u001b[0;34m\u001b[0m\u001b[0;34m\u001b[0m\u001b[0m\n\u001b[0;32m---> 14\u001b[0;31m     \u001b[0;32mreturn\u001b[0m \u001b[0mnpl\u001b[0m\u001b[0;34m.\u001b[0m\u001b[0msolve\u001b[0m\u001b[0;34m(\u001b[0m\u001b[0mA1\u001b[0m\u001b[0;34m,\u001b[0m\u001b[0mf1\u001b[0m\u001b[0;34m)\u001b[0m\u001b[0;34m\u001b[0m\u001b[0;34m\u001b[0m\u001b[0m\n\u001b[0m",
      "\u001b[0;32m<__array_function__ internals>\u001b[0m in \u001b[0;36msolve\u001b[0;34m(*args, **kwargs)\u001b[0m\n",
      "\u001b[0;32m~/anaconda3/envs/fenicsproject/lib/python3.8/site-packages/numpy/linalg/linalg.py\u001b[0m in \u001b[0;36msolve\u001b[0;34m(a, b)\u001b[0m\n\u001b[1;32m    397\u001b[0m     \u001b[0msignature\u001b[0m \u001b[0;34m=\u001b[0m \u001b[0;34m'DD->D'\u001b[0m \u001b[0;32mif\u001b[0m \u001b[0misComplexType\u001b[0m\u001b[0;34m(\u001b[0m\u001b[0mt\u001b[0m\u001b[0;34m)\u001b[0m \u001b[0;32melse\u001b[0m \u001b[0;34m'dd->d'\u001b[0m\u001b[0;34m\u001b[0m\u001b[0;34m\u001b[0m\u001b[0m\n\u001b[1;32m    398\u001b[0m     \u001b[0mextobj\u001b[0m \u001b[0;34m=\u001b[0m \u001b[0mget_linalg_error_extobj\u001b[0m\u001b[0;34m(\u001b[0m\u001b[0m_raise_linalgerror_singular\u001b[0m\u001b[0;34m)\u001b[0m\u001b[0;34m\u001b[0m\u001b[0;34m\u001b[0m\u001b[0m\n\u001b[0;32m--> 399\u001b[0;31m     \u001b[0mr\u001b[0m \u001b[0;34m=\u001b[0m \u001b[0mgufunc\u001b[0m\u001b[0;34m(\u001b[0m\u001b[0ma\u001b[0m\u001b[0;34m,\u001b[0m \u001b[0mb\u001b[0m\u001b[0;34m,\u001b[0m \u001b[0msignature\u001b[0m\u001b[0;34m=\u001b[0m\u001b[0msignature\u001b[0m\u001b[0;34m,\u001b[0m \u001b[0mextobj\u001b[0m\u001b[0;34m=\u001b[0m\u001b[0mextobj\u001b[0m\u001b[0;34m)\u001b[0m\u001b[0;34m\u001b[0m\u001b[0;34m\u001b[0m\u001b[0m\n\u001b[0m\u001b[1;32m    400\u001b[0m \u001b[0;34m\u001b[0m\u001b[0m\n\u001b[1;32m    401\u001b[0m     \u001b[0;32mreturn\u001b[0m \u001b[0mwrap\u001b[0m\u001b[0;34m(\u001b[0m\u001b[0mr\u001b[0m\u001b[0;34m.\u001b[0m\u001b[0mastype\u001b[0m\u001b[0;34m(\u001b[0m\u001b[0mresult_t\u001b[0m\u001b[0;34m,\u001b[0m \u001b[0mcopy\u001b[0m\u001b[0;34m=\u001b[0m\u001b[0;32mFalse\u001b[0m\u001b[0;34m)\u001b[0m\u001b[0;34m)\u001b[0m\u001b[0;34m\u001b[0m\u001b[0;34m\u001b[0m\u001b[0m\n",
      "\u001b[0;32m~/anaconda3/envs/fenicsproject/lib/python3.8/site-packages/numpy/linalg/linalg.py\u001b[0m in \u001b[0;36m_raise_linalgerror_singular\u001b[0;34m(err, flag)\u001b[0m\n\u001b[1;32m     95\u001b[0m \u001b[0;34m\u001b[0m\u001b[0m\n\u001b[1;32m     96\u001b[0m \u001b[0;32mdef\u001b[0m \u001b[0m_raise_linalgerror_singular\u001b[0m\u001b[0;34m(\u001b[0m\u001b[0merr\u001b[0m\u001b[0;34m,\u001b[0m \u001b[0mflag\u001b[0m\u001b[0;34m)\u001b[0m\u001b[0;34m:\u001b[0m\u001b[0;34m\u001b[0m\u001b[0;34m\u001b[0m\u001b[0m\n\u001b[0;32m---> 97\u001b[0;31m     \u001b[0;32mraise\u001b[0m \u001b[0mLinAlgError\u001b[0m\u001b[0;34m(\u001b[0m\u001b[0;34m\"Singular matrix\"\u001b[0m\u001b[0;34m)\u001b[0m\u001b[0;34m\u001b[0m\u001b[0;34m\u001b[0m\u001b[0m\n\u001b[0m\u001b[1;32m     98\u001b[0m \u001b[0;34m\u001b[0m\u001b[0m\n\u001b[1;32m     99\u001b[0m \u001b[0;32mdef\u001b[0m \u001b[0m_raise_linalgerror_nonposdef\u001b[0m\u001b[0;34m(\u001b[0m\u001b[0merr\u001b[0m\u001b[0;34m,\u001b[0m \u001b[0mflag\u001b[0m\u001b[0;34m)\u001b[0m\u001b[0;34m:\u001b[0m\u001b[0;34m\u001b[0m\u001b[0;34m\u001b[0m\u001b[0m\n",
      "\u001b[0;31mLinAlgError\u001b[0m: Singular matrix"
     ]
    }
   ],
   "source": [
    "Base, temps, err = greedylight(MUs,N=i,tol=1e-5)\n",
    "nb_vecteurs_base += [Base.shape[1]]\n",
    "temps_base += [temps]\n",
    "err_base += [err]\n",
    "A_q,shape = pre_computer(Base)\n",
    "T0 = np.array([1,10,10])\n",
    "T1 = np.array([-1,1,10])\n",
    "eval_set  = training_set_creator(T0,T1)\n",
    "errors = []\n",
    "times = []\n",
    "for mu in eval_set:\n",
    "    U_true = Solver(mu)[0]\n",
    "    start_time = time.time()\n",
    "    print(mu)\n",
    "    U_rb = np.copy(reduced_solver(mu,np.array(A_q),shape))\n",
    "    times += [time.time() - start_time]\n",
    "    RES = Base.dot(U_rb)"
   ]
  },
  {
   "cell_type": "code",
   "execution_count": 100,
   "metadata": {},
   "outputs": [],
   "source": [
    "N = 3\n",
    "tol = 1e-5"
   ]
  },
  {
   "cell_type": "markdown",
   "metadata": {},
   "source": [
    "### Création de la base"
   ]
  },
  {
   "cell_type": "code",
   "execution_count": 104,
   "metadata": {},
   "outputs": [
    {
     "name": "stdout",
     "output_type": "stream",
     "text": [
      "[[1 4 6]\n",
      " [5 0 0]]\n",
      "[1, 4, 6]\n"
     ]
    }
   ],
   "source": [
    "C = []\n",
    "A = [1,4,6]\n",
    "C.append(A)\n",
    "B = [5,0,0]\n",
    "C.append(B)\n",
    "print(np.array(C))\n",
    "print(C[0])"
   ]
  },
  {
   "cell_type": "code",
   "execution_count": 15,
   "metadata": {},
   "outputs": [
    {
     "name": "stdout",
     "output_type": "stream",
     "text": [
      "Taille du training set :  10\n",
      "Taille max de la base :  1\n",
      "Taille max de la base :  2\n",
      "Taille max de la base :  3\n",
      "Taille max de la base :  4\n",
      "Taille max de la base :  5\n",
      "Taille max de la base :  6\n"
     ]
    }
   ],
   "source": [
    "onl_err_mean_geng = []\n",
    "onl_err_max_geng = []\n",
    "onl_err_med_geng = []\n",
    "onl_tps_mean_geng = []\n",
    "onl_tps_max_geng = []\n",
    "onl_tps_med_geng = []\n",
    "temps_base_geng = []\n",
    "err_base_geng = []\n",
    "nb_vecteurs_base_geng = []\n",
    "onl_err_mean_genp = []\n",
    "onl_err_max_genp = []\n",
    "onl_err_med_genp = []\n",
    "onl_tps_mean_genp = []\n",
    "onl_tps_max_genp = []\n",
    "onl_tps_med_genp = []\n",
    "temps_base_genp = []\n",
    "err_base_genp = []\n",
    "nb_vecteurs_base_genp = []\n",
    "tru_tps_mean_gen = []\n",
    "tru_tps_max_gen = []\n",
    "tru_tps_med_gen = []\n",
    "\n",
    "for J in [10]:\n",
    "    print(\"Taille du training set : \",J)\n",
    "    N_training_set = J       #taille du training set\n",
    "    tol = 1e-5               #tolérance max\n",
    "    T0 = np.array([1,10,N_training_set])\n",
    "    T1 = np.array([-1,1,N_training_set])\n",
    "    MUs = training_set_creator(T0,T1)\n",
    "    start_time = time.time()\n",
    "    U_delta = np.zeros((441,len(MUs)))\n",
    "    A_delta = np.zeros((441,441,len(MUs)))\n",
    "    F_delta = np.zeros((441,len(MUs)))\n",
    "    n = 0\n",
    "    for mu_loop in MUs:\n",
    "        U,A,F = Solver(mu_loop)\n",
    "        A_delta[:,:,n] = A\n",
    "        F_delta[:,n] = F\n",
    "        U_delta[:,n] = U.vector().get_local()\n",
    "        n+=1\n",
    "    temps = time.time() - start_time\n",
    "    onl_err_meang = []\n",
    "    onl_err_maxg = []\n",
    "    onl_err_medg = []\n",
    "    onl_tps_meang = []\n",
    "    onl_tps_maxg = []\n",
    "    onl_tps_medg = []\n",
    "    temps_baseg = []\n",
    "    err_baseg = []\n",
    "    nb_vecteurs_baseg = []\n",
    "    onl_err_meanp = []\n",
    "    onl_err_maxp = []\n",
    "    onl_err_medp = []\n",
    "    onl_tps_meanp = []\n",
    "    onl_tps_maxp = []\n",
    "    onl_tps_medp = []\n",
    "    tru_tps_max = []\n",
    "    tru_tps_med = []\n",
    "    tru_tps_mean = []\n",
    "    temps_basep = []\n",
    "    err_basep = []\n",
    "    nb_vecteurs_basep = []\n",
    "    for i in [1,2,3,4,5,6]:\n",
    "        print(\"Taille max de la base : \",i)\n",
    "        #MUs = training_set_creator(T0,T1)\n",
    "        Baseg, tempsg, errg = greedylight(MUs,N=i,tol=1e-5)\n",
    "        #MUs = training_set_creator(T0,T1)\n",
    "        Basep, tempsp, errp = PODlight(Solver,MUs,N=i)\n",
    "        nb_vecteurs_basep += [Basep.shape[1]]\n",
    "        nb_vecteurs_baseg += [Baseg.shape[1]]\n",
    "        temps_baseg += [tempsg]\n",
    "        temps_basep += [tempsp]\n",
    "        err_baseg += [errg]\n",
    "        err_basep += [errp]\n",
    "        A_qg,shapeg = pre_computer(Baseg)\n",
    "        A_qp,shapep = pre_computer(Basep)\n",
    "        T0 = np.array([1,10,10])\n",
    "        T1 = np.array([-1,1,10])\n",
    "        eval_set  = training_set_creator(T0,T1)\n",
    "        errorsp = []\n",
    "        timesp = []\n",
    "        errorsg = []\n",
    "        timesg = []\n",
    "        timest = []\n",
    "        for mu in eval_set:\n",
    "            A_qg,shapeg = pre_computer(Baseg)\n",
    "            A_qp,shapep = pre_computer(Basep)\n",
    "            vraitemps = time.time()\n",
    "            U_true = Solver(mu)[0]\n",
    "            timest += [time.time()-vraitemps]\n",
    "            start_time = time.time()\n",
    "            U_rbg = reduced_solver(mu,A_qg,shapeg)\n",
    "            timesg += [time.time() - start_time]\n",
    "            start_time = time.time()\n",
    "            U_rbp = reduced_solver(mu,A_qp,shapep)\n",
    "            timesp += [time.time() - start_time]\n",
    "            RESg = Baseg.dot(U_rbg)\n",
    "            RESp = Basep.dot(U_rbp)\n",
    "            errorsg += [(npl.norm(U_true.vector().get_local()-RESg))/npl.norm(U_true.vector())]\n",
    "            errorsp += [(npl.norm(U_true.vector().get_local()-RESp))/npl.norm(U_true.vector())]\n",
    "            #print(mu)\n",
    "            #print(npl.norm(U_true.vector()))\n",
    "        onl_err_meang += [np.mean(errorsg)]\n",
    "        onl_err_maxg += [np.max(errorsg)]\n",
    "        onl_err_medg +=[np.median(errorsg)]\n",
    "        onl_tps_meang += [np.mean(timesg)]\n",
    "        onl_tps_maxg += [np.max(timesg)]\n",
    "        onl_tps_medg += [np.median(timesg)]\n",
    "        temps_baseg += [tempsg]\n",
    "        err_baseg += [errg]\n",
    "        nb_vecteurs_baseg += [np.shape(Baseg)[1]]\n",
    "        onl_err_meanp += [np.mean(errorsp)]\n",
    "        onl_err_maxp += [np.max(errorsp)]\n",
    "        onl_err_medp +=[np.median(errorsp)]\n",
    "        onl_tps_meanp += [np.mean(timesp)]\n",
    "        onl_tps_maxp += [np.max(timesp)]\n",
    "        onl_tps_medp += [np.median(timesp)]\n",
    "        temps_basep += [tempsp]\n",
    "        err_basep += [errp]\n",
    "        nb_vecteurs_basep += [np.shape(Basep)[1]]\n",
    "        tru_tps_mean += [np.mean(timest)]\n",
    "        tru_tps_max += [np.max(timest)]\n",
    "        tru_tps_med += [np.median(timest)]\n",
    "    onl_err_mean_geng += [onl_err_meang]\n",
    "    onl_err_max_geng += [onl_err_maxg]\n",
    "    onl_err_med_geng +=[onl_err_medg]\n",
    "    onl_tps_mean_geng += [onl_tps_meang]\n",
    "    onl_tps_max_geng += [onl_tps_maxg]\n",
    "    onl_tps_med_geng += [onl_tps_medg]\n",
    "    temps_base_geng += [temps_baseg]\n",
    "    err_base_geng += [err_baseg]\n",
    "    nb_vecteurs_base_geng += [nb_vecteurs_baseg]\n",
    "    onl_err_mean_genp += [onl_err_meanp]\n",
    "    onl_err_max_genp += [onl_err_maxp]\n",
    "    onl_err_med_genp +=[onl_err_medp]\n",
    "    onl_tps_mean_genp += [onl_tps_meanp]\n",
    "    onl_tps_max_genp += [onl_tps_maxp]\n",
    "    onl_tps_med_genp += [onl_tps_medp]\n",
    "    tru_tps_mean_gen += [tru_tps_mean]\n",
    "    tru_tps_max_gen += [tru_tps_max]\n",
    "    tru_tps_med_gen += [tru_tps_med]\n",
    "    temps_base_genp += [temps_basep]\n",
    "    err_base_genp += [err_basep]\n",
    "    nb_vecteurs_base_genp += [nb_vecteurs_basep]"
   ]
  },
  {
   "cell_type": "code",
   "execution_count": 21,
   "metadata": {},
   "outputs": [
    {
     "name": "stdout",
     "output_type": "stream",
     "text": [
      "[[8.91637802e-05 8.98075104e-05 8.79287720e-05 8.88848305e-05\n",
      "  8.92663002e-05 8.93878937e-05]]\n"
     ]
    }
   ],
   "source": [
    "print(np.array(onl_tps_mean_genp))"
   ]
  },
  {
   "cell_type": "code",
   "execution_count": 23,
   "metadata": {},
   "outputs": [
    {
     "name": "stdout",
     "output_type": "stream",
     "text": [
      "[[0.07299924 0.04999566 0.03876042 0.0398562  0.05928469 0.0867939 ]]\n"
     ]
    }
   ],
   "source": [
    "print(np.array(tru_tps_max_gen))"
   ]
  },
  {
   "cell_type": "code",
   "execution_count": 22,
   "metadata": {},
   "outputs": [
    {
     "name": "stdout",
     "output_type": "stream",
     "text": [
      "[[416.37812182 413.24352235 417.05124729 412.78289209 412.58403889\n",
      "  418.48615705]]\n"
     ]
    }
   ],
   "source": [
    "print(np.array(tru_tps_mean)/np.array(onl_tps_mean_genp))"
   ]
  },
  {
   "cell_type": "code",
   "execution_count": 14,
   "metadata": {},
   "outputs": [
    {
     "name": "stdout",
     "output_type": "stream",
     "text": [
      "[[0.0001173  0.00044775 0.00012493 0.00012183 0.0001204  0.00010228]]\n"
     ]
    }
   ],
   "source": [
    "print(np.array(onl_tps_max_genp))"
   ]
  },
  {
   "cell_type": "code",
   "execution_count": 120,
   "metadata": {},
   "outputs": [
    {
     "data": {
      "image/png": "[encoded data removed]",
      "text/plain": [
       "<Figure size 504x504 with 1 Axes>"
      ]
     },
     "metadata": {},
     "output_type": "display_data"
    }
   ],
   "source": [
    "sns.set()\n",
    "fig = plt.figure()\n",
    "fig.set_size_inches(7,7)\n",
    "plt.plot([1,2,3,4,5,6],(np.array(onl_err_mean_genp[0][:])),\"-o\",label=\"POD (av.)\")\n",
    "plt.plot([1,2,3,4,5,6],(np.array(onl_err_mean_geng[0][:])),\"--\",label=\"Greedy (av.)\")\n",
    "plt.plot([1,2,3,4,5,6],(np.array(onl_err_max_geng[0][:])),\"-x\",label=\"Greedy (max.)\")\n",
    "plt.ylabel(\"Error\")\n",
    "plt.xlabel(\"Number of basis vectors\")\n",
    "plt.yscale(\"log\")\n",
    "plt.legend()\n",
    "plt.grid(True)\n",
    "plt.savefig(\"PODvsGreedy-erroronline-nb_base.png\")\n",
    "plt.show()"
   ]
  },
  {
   "cell_type": "code",
   "execution_count": 93,
   "metadata": {},
   "outputs": [
    {
     "name": "stdout",
     "output_type": "stream",
     "text": [
      "8.402487375596011e-09\n",
      "2.286176453054808e-08\n",
      "2.7208329520312353\n",
      "2.286176453054808e-08\n"
     ]
    }
   ],
   "source": [
    "p = onl_err_max_genp[0][-1]\n",
    "print(p)\n",
    "g = onl_err_max_geng[0][-1]\n",
    "print(g)\n",
    "pourcent = (g)/p\n",
    "print(pourcent)\n",
    "print(pourcent*p)\n",
    "print(\"Greedy\")"
   ]
  },
  {
   "cell_type": "code",
   "execution_count": 96,
   "metadata": {},
   "outputs": [
    {
     "name": "stdout",
     "output_type": "stream",
     "text": [
      "[0.15737422608895407, 0.0013610210223408625, 0.00016808422410014175, 1.0396998251852304e-05, 2.5809443797110623e-07, 8.402487375596011e-09]\n"
     ]
    }
   ],
   "source": [
    "print(onl_err_max_genp[0])"
   ]
  },
  {
   "cell_type": "code",
   "execution_count": 102,
   "metadata": {},
   "outputs": [
    {
     "name": "stdout",
     "output_type": "stream",
     "text": [
      "[0.5079613330638042, 0.002134942636756886, 0.00018973591313904415, 3.2349519242738593e-05, 4.265252784370629e-07, 2.286176453054808e-08]\n"
     ]
    }
   ],
   "source": [
    "print(onl_err_max_geng[0])"
   ]
  },
  {
   "cell_type": "code",
   "execution_count": 105,
   "metadata": {},
   "outputs": [
    {
     "name": "stdout",
     "output_type": "stream",
     "text": [
      "2.2350053401363517\n",
      "2.18671339622436\n"
     ]
    }
   ],
   "source": [
    "print(np.mean(np.array(onl_err_max_geng[0])/np.array(onl_err_max_genp[0])))\n",
    "print(np.median(np.array(onl_err_max_geng[0])/np.array(onl_err_max_genp[0])))"
   ]
  },
  {
   "cell_type": "code",
   "execution_count": 95,
   "metadata": {},
   "outputs": [
    {
     "data": {
      "image/png": "[encoded data removed]",
      "text/plain": [
       "<Figure size 576x576 with 1 Axes>"
      ]
     },
     "metadata": {},
     "output_type": "display_data"
    }
   ],
   "source": [
    "fig = plt.figure()\n",
    "fig.set_size_inches(8,8)\n",
    "plt.plot([1,2,3,4,5,6],np.abs(np.array(onl_err_max_geng[0][:]))/np.abs(np.array(onl_err_max_genp[0])),\"-o\",label=\"Diff mean\")\n",
    "plt.ylabel(\"Error\")\n",
    "plt.xlabel(\"Number of basis vectors\")\n",
    "plt.yscale(\"linear\")\n",
    "plt.legend()\n",
    "plt.grid(True)\n",
    "plt.savefig(\"PODvsGreedy-erroronline-nb_base.png\")\n",
    "plt.show()"
   ]
  },
  {
   "cell_type": "code",
   "execution_count": 140,
   "metadata": {},
   "outputs": [
    {
     "data": {
      "image/png": "[encoded data removed]",
      "text/plain": [
       "<Figure size 360x360 with 1 Axes>"
      ]
     },
     "metadata": {},
     "output_type": "display_data"
    }
   ],
   "source": [
    "fig = plt.figure()\n",
    "fig.set_size_inches(5,5)\n",
    "plt.plot(np.array([0,1,2,3,4,5,6]),(np.array(onl_tps_mean_geng)[0,:]),label=\"Greedy (mean)\")\n",
    "plt.plot(np.array([0,1,2,3,4,5,6]),(np.array(onl_tps_mean_genp)[0,:]),label=\"POD (mean)\")\n",
    "plt.ylabel(\"Maximum error online\")\n",
    "plt.xlabel(\"Nb of base vectors\")\n",
    "plt.legend()\n",
    "plt.yscale(\"log\")\n",
    "plt.grid(True)\n",
    "plt.show()"
   ]
  },
  {
   "cell_type": "code",
   "execution_count": 141,
   "metadata": {},
   "outputs": [
    {
     "data": {
      "image/png": "[encoded data removed]",
      "text/plain": [
       "<Figure size 792x576 with 1 Axes>"
      ]
     },
     "metadata": {},
     "output_type": "display_data"
    }
   ],
   "source": [
    "fig = plt.figure()\n",
    "fig.set_size_inches(11,8)\n",
    "plt.plot((np.array(temps_base_genp)[-1,:]),label=\"POD\")\n",
    "plt.plot((np.array(temps_base_geng)[-1,:]),label=\"Greedy\")\n",
    "plt.ylabel(\"Maximum error online\")\n",
    "plt.xlabel(\"Nb of base vectors\")\n",
    "plt.legend()\n",
    "plt.grid(True)\n",
    "plt.show()"
   ]
  },
  {
   "cell_type": "code",
   "execution_count": 31,
   "metadata": {},
   "outputs": [
    {
     "name": "stdout",
     "output_type": "stream",
     "text": [
      "[[nan, nan, nan, nan, nan, nan], [nan, nan, nan, nan, nan, nan], [nan, nan, nan, nan, nan, nan], [nan, nan, nan, nan, nan, nan], [nan, nan, nan, nan, nan, nan], [nan, nan, nan, nan, nan, nan], [nan, nan, nan, nan, nan, nan], [nan, nan, nan, nan, nan, nan]]\n"
     ]
    }
   ],
   "source": [
    "print(onl_err_max_genp)"
   ]
  },
  {
   "cell_type": "code",
   "execution_count": 50,
   "metadata": {},
   "outputs": [
    {
     "data": {
      "image/png": "[encoded data removed]",
      "text/plain": [
       "<Figure size 720x504 with 1 Axes>"
      ]
     },
     "metadata": {},
     "output_type": "display_data"
    }
   ],
   "source": [
    "sns.set()\n",
    "fig = plt.figure()\n",
    "fig.set_size_inches(10,7)\n",
    "for i in [0,1,2,3,4,5]:\n",
    "    plt.plot([1,2,3,4,5,6],(onl_err_max_genp[i]),label=\"Size training set = {0}\".format((i+5)**2))\n",
    "plt.yscale(\"log\")\n",
    "plt.ylabel(\"Maximum error online\")\n",
    "plt.xlabel(\"Nb of base vectors\")\n",
    "plt.legend()\n",
    "plt.grid(True)\n",
    "plt.show()\n",
    "## with minimal accuracy of 1e-5"
   ]
  },
  {
   "cell_type": "code",
   "execution_count": 45,
   "metadata": {},
   "outputs": [
    {
     "ename": "NameError",
     "evalue": "name 'onl_err_mean_gen' is not defined",
     "output_type": "error",
     "traceback": [
      "\u001b[0;31m---------------------------------------------------------------------------\u001b[0m",
      "\u001b[0;31mNameError\u001b[0m                                 Traceback (most recent call last)",
      "\u001b[0;32m<ipython-input-45-c53b79eb7f25>\u001b[0m in \u001b[0;36m<module>\u001b[0;34m\u001b[0m\n\u001b[0;32m----> 1\u001b[0;31m \u001b[0monl_err_mean_gen\u001b[0m \u001b[0;34m+=\u001b[0m \u001b[0;34m[\u001b[0m\u001b[0monl_err\u001b[0m\u001b[0;34m]\u001b[0m\u001b[0;34m\u001b[0m\u001b[0;34m\u001b[0m\u001b[0m\n\u001b[0m\u001b[1;32m      2\u001b[0m \u001b[0monl_err_max_gen\u001b[0m \u001b[0;34m+=\u001b[0m \u001b[0;34m[\u001b[0m\u001b[0monl_err_max\u001b[0m\u001b[0;34m]\u001b[0m\u001b[0;34m\u001b[0m\u001b[0;34m\u001b[0m\u001b[0m\n\u001b[1;32m      3\u001b[0m \u001b[0monl_err_med_gen\u001b[0m \u001b[0;34m+=\u001b[0m\u001b[0;34m[\u001b[0m\u001b[0monl_err_med\u001b[0m\u001b[0;34m]\u001b[0m\u001b[0;34m\u001b[0m\u001b[0;34m\u001b[0m\u001b[0m\n\u001b[1;32m      4\u001b[0m \u001b[0monl_tps_mean_gen\u001b[0m \u001b[0;34m+=\u001b[0m \u001b[0;34m[\u001b[0m\u001b[0monl_tps_mean\u001b[0m\u001b[0;34m]\u001b[0m\u001b[0;34m\u001b[0m\u001b[0;34m\u001b[0m\u001b[0m\n\u001b[1;32m      5\u001b[0m \u001b[0monl_tps_max_gen\u001b[0m \u001b[0;34m+=\u001b[0m \u001b[0;34m[\u001b[0m\u001b[0monl_tps_max\u001b[0m\u001b[0;34m]\u001b[0m\u001b[0;34m\u001b[0m\u001b[0;34m\u001b[0m\u001b[0m\n",
      "\u001b[0;31mNameError\u001b[0m: name 'onl_err_mean_gen' is not defined"
     ]
    }
   ],
   "source": [
    "onl_err_mean_gen += [onl_err]\n",
    "onl_err_max_gen += [onl_err_max]\n",
    "onl_err_med_gen +=[onl_err_med]\n",
    "onl_tps_mean_gen += [onl_tps_mean]\n",
    "onl_tps_max_gen += [onl_tps_max]\n",
    "onl_tps_med_gen += [onl_tps_med]"
   ]
  },
  {
   "cell_type": "markdown",
   "metadata": {},
   "source": [
    "### Truth solution for mu_test & évaluation du temps mis"
   ]
  },
  {
   "cell_type": "code",
   "execution_count": 116,
   "metadata": {},
   "outputs": [
    {
     "name": "stdout",
     "output_type": "stream",
     "text": [
      "CPU times: user 28.8 ms, sys: 0 ns, total: 28.8 ms\n",
      "Wall time: 24.7 ms\n"
     ]
    }
   ],
   "source": [
    "%%time\n",
    "A_q,shape = pre_computer(Base4)"
   ]
  },
  {
   "cell_type": "code",
   "execution_count": 117,
   "metadata": {},
   "outputs": [
    {
     "name": "stdout",
     "output_type": "stream",
     "text": [
      "58.6 µs ± 1.92 µs per loop (mean ± std. dev. of 7 runs, 10000 loops each)\n"
     ]
    }
   ],
   "source": [
    "%%timeit\n",
    "Urb = reduced_solver(np.array([6,0.1]),A_q,shape)\n",
    "U = Base4.dot(Urb)"
   ]
  },
  {
   "cell_type": "code",
   "execution_count": 118,
   "metadata": {},
   "outputs": [
    {
     "name": "stdout",
     "output_type": "stream",
     "text": [
      "CPU times: user 14.7 ms, sys: 12.1 ms, total: 26.9 ms\n",
      "Wall time: 36.5 ms\n"
     ]
    }
   ],
   "source": [
    "%%time\n",
    "A_q,shape = pre_computer(Base5)"
   ]
  },
  {
   "cell_type": "code",
   "execution_count": 119,
   "metadata": {},
   "outputs": [
    {
     "name": "stdout",
     "output_type": "stream",
     "text": [
      "56.3 µs ± 773 ns per loop (mean ± std. dev. of 7 runs, 10000 loops each)\n"
     ]
    }
   ],
   "source": [
    "%%timeit\n",
    "Urb = reduced_solver(np.array([6,0.1]),A_q,shape)\n",
    "U = Base5.dot(Urb)"
   ]
  },
  {
   "cell_type": "code",
   "execution_count": 46,
   "metadata": {},
   "outputs": [
    {
     "name": "stdout",
     "output_type": "stream",
     "text": [
      "0.00015282630920410156\n",
      "0.000152587890625\n",
      "0.0001533031463623047\n",
      "0.00015497207641601562\n",
      "0.00015473365783691406\n",
      "0.00017690658569335938\n",
      "0.0001685619354248047\n",
      "0.0001537799835205078\n",
      "0.000164031982421875\n",
      "0.00016021728515625\n",
      "0.00016069412231445312\n",
      "0.00015425682067871094\n",
      "0.00015354156494140625\n",
      "0.00018787384033203125\n",
      "0.0001552104949951172\n",
      "0.0001552104949951172\n",
      "0.00015282630920410156\n",
      "0.00016427040100097656\n",
      "0.0001552104949951172\n",
      "0.00015807151794433594\n",
      "0.00015544891357421875\n",
      "0.000217437744140625\n",
      "0.0002238750457763672\n",
      "0.00015687942504882812\n",
      "0.00015807151794433594\n",
      "0.0001544952392578125\n",
      "0.0001556873321533203\n",
      "0.0001556873321533203\n",
      "0.000164031982421875\n",
      "0.0001556873321533203\n",
      "0.00015854835510253906\n",
      "0.0001823902130126953\n",
      "0.00016045570373535156\n",
      "0.00020503997802734375\n",
      "0.0001811981201171875\n",
      "0.00017380714416503906\n",
      "0.0061838626861572266\n",
      "0.0001838207244873047\n",
      "0.0001957416534423828\n",
      "0.0001761913299560547\n",
      "0.00026869773864746094\n",
      "0.00015473365783691406\n",
      "0.00016355514526367188\n",
      "0.00015592575073242188\n",
      "0.00015878677368164062\n",
      "0.00022792816162109375\n",
      "0.00015664100646972656\n",
      "0.0001575946807861328\n",
      "0.00015425682067871094\n",
      "0.00015544891357421875\n",
      "0.00044608116149902344\n",
      "0.00015664100646972656\n",
      "0.000164031982421875\n",
      "0.00015354156494140625\n",
      "0.00015664100646972656\n",
      "0.00015854835510253906\n",
      "0.00016045570373535156\n",
      "0.000156402587890625\n",
      "0.0001583099365234375\n",
      "0.0001652240753173828\n",
      "0.0001621246337890625\n",
      "0.0001742839813232422\n",
      "0.00015592575073242188\n",
      "0.0001544952392578125\n",
      "0.000171661376953125\n",
      "0.00016069412231445312\n",
      "0.00015544891357421875\n",
      "0.0001552104949951172\n",
      "0.00016450881958007812\n",
      "0.00017023086547851562\n",
      "0.00015425682067871094\n",
      "0.00015401840209960938\n",
      "0.000152587890625\n",
      "0.0001544952392578125\n",
      "0.00015497207641601562\n",
      "0.00015401840209960938\n",
      "0.00015354156494140625\n",
      "0.00016236305236816406\n",
      "0.0001647472381591797\n",
      "0.00016355514526367188\n",
      "0.00016379356384277344\n",
      "0.00015735626220703125\n",
      "0.0001766681671142578\n",
      "0.00018262863159179688\n",
      "0.00015115737915039062\n",
      "0.0001583099365234375\n",
      "0.00015473365783691406\n",
      "0.00016736984252929688\n",
      "0.00015044212341308594\n",
      "0.00015306472778320312\n",
      "0.000156402587890625\n",
      "0.00015306472778320312\n",
      "0.0001552104949951172\n",
      "0.00015425682067871094\n",
      "0.00015497207641601562\n",
      "0.00015282630920410156\n",
      "0.0001537799835205078\n",
      "0.0001544952392578125\n",
      "0.00015497207641601562\n",
      "0.00015664100646972656\n",
      "Mean   :  3.750737508032588e-05\n",
      "Max    :  0.00016813004198205377\n",
      "Median :  1.2264392292837895e-05\n",
      "Mean   :  0.00022672176361083986\n",
      "Max    :  0.0061838626861572266\n",
      "Median :  0.00015664100646972656\n"
     ]
    }
   ],
   "source": [
    "T0 = np.array([1,10,10])\n",
    "T1 = np.array([-1,1,10])\n",
    "eval_set  = training_set_creator(T0,T1)\n",
    "errors = []\n",
    "times = []\n",
    "for mu in eval_set:\n",
    "    U_true = Solver(mu)[0]\n",
    "    start_time = time.time()\n",
    "    U_rb = reduced_solver(mu,A_q,shape)\n",
    "    times += [time.time() - start_time]\n",
    "    print(times[-1])\n",
    "    RES = Base.dot(U_rb)\n",
    "    errors += [(npl.norm(U_true.vector().get_local()-RES))/npl.norm(U_true.vector())]\n",
    "print(\"Mean   : \", np.mean(errors))\n",
    "print(\"Max    : \", np.max(errors))\n",
    "print(\"Median : \", np.median(errors))\n",
    "print(\"Mean   : \", np.mean(times))\n",
    "print(\"Max    : \", np.max(times))\n",
    "print(\"Median : \", np.median(times))"
   ]
  },
  {
   "cell_type": "code",
   "execution_count": 35,
   "metadata": {},
   "outputs": [
    {
     "name": "stdout",
     "output_type": "stream",
     "text": [
      "Mean   :  0.29761408350532365\n",
      "Max    :  0.5286617675609915\n",
      "Median :  0.3269408035978465\n"
     ]
    }
   ],
   "source": [
    "print(\"Mean   : \", np.mean(errors))\n",
    "print(\"Max    : \", np.max(errors))\n",
    "print(\"Median : \", np.median(errors))"
   ]
  },
  {
   "cell_type": "code",
   "execution_count": null,
   "metadata": {},
   "outputs": [],
   "source": []
  }
 ],
 "metadata": {
  "kernelspec": {
   "display_name": "Python 3",
   "language": "python",
   "name": "python3"
  },
  "language_info": {
   "codemirror_mode": {
    "name": "ipython",
    "version": 3
   },
   "file_extension": ".py",
   "mimetype": "text/x-python",
   "name": "python",
   "nbconvert_exporter": "python",
   "pygments_lexer": "ipython3",
   "version": "3.8.2"
  }
 },
 "nbformat": 4,
 "nbformat_minor": 4
}
