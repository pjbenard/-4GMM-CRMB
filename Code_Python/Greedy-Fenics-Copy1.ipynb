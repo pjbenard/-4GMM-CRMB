{
 "cells": [
  {
   "cell_type": "code",
   "execution_count": 1,
   "metadata": {},
   "outputs": [
    {
     "name": "stdout",
     "output_type": "stream",
     "text": [
      "Populating the interactive namespace from numpy and matplotlib\n"
     ]
    }
   ],
   "source": [
    "import numpy as np\n",
    "import numpy.linalg as npl\n",
    "import scipy as sp\n",
    "import scipy.sparse.linalg as spspl\n",
    "import matplotlib.pyplot as plt\n",
    "%pylab inline\n",
    "import time\n",
    "from dolfin import *"
   ]
  },
  {
   "cell_type": "markdown",
   "metadata": {},
   "source": [
    "## Définition des classes et paramètres"
   ]
  },
  {
   "cell_type": "code",
   "execution_count": 2,
   "metadata": {},
   "outputs": [],
   "source": [
    "# Rayon du disque\n",
    "r = 0.3\n",
    "\n",
    "# Nombre de noeuds\n",
    "N = 50\n",
    "\n",
    "# Classes des domaines\n",
    "class Left(SubDomain):\n",
    "    def inside(self, x, on_boundary):\n",
    "        return near(x[0], 0.0)\n",
    "class Right(SubDomain):\n",
    "    def inside(self, x, on_boundary):\n",
    "        return near(x[0], 1.0)\n",
    "class Bottom(SubDomain):\n",
    "    def inside(self, x, on_boundary):\n",
    "        return near(x[1], 0.0)\n",
    "class Top(SubDomain):\n",
    "    def inside(self, x, on_boundary):\n",
    "        return near(x[1], 1.0)\n",
    "class Gamma0(SubDomain):\n",
    "    def inside(self, x, on_boundary):\n",
    "        return (x[1]-0.5)**2<=r**2-(x[0]-0.5)**2 and (x[1]-0.5)**2<=r**2-(x[0]-0.5)**2\n",
    "\n",
    "# Initialize sub-domain instances\n",
    "left   = Left()\n",
    "top    = Top()\n",
    "right  = Right()\n",
    "bottom = Bottom()\n",
    "gamma  = Gamma0()\n",
    "\n",
    "# Define mesh\n",
    "mesh = UnitSquareMesh(N,N)\n",
    "\n",
    "# Initialize mesh function for interior domains\n",
    "domains = MeshFunction(\"size_t\", mesh, mesh.topology().dim())\n",
    "domains.set_all(0)         #domains 0 = all space\n",
    "gamma.mark(domains, 1)     #domains 1 = all gamma0\n",
    "\n",
    "# Initialize mesh function for boundary domains\n",
    "boundaries = MeshFunction(\"size_t\", mesh, mesh.topology().dim()-1) #1d domains\n",
    "boundaries.set_all(0)      #boundaries 0 = all boundaries\n",
    "left.mark(boundaries, 1)   #boundaries 1 = left (Neumann)\n",
    "top.mark(boundaries, 2)    #boundaries 2 = top (Dirichlet)\n",
    "right.mark(boundaries, 3)  #boundaries 3 = right (Neumann)\n",
    "bottom.mark(boundaries, 4) #boundaries 4 = bottom (Neumann parametrized)\n",
    "\n",
    "# Define function space and basis functions\n",
    "V = FunctionSpace(mesh, \"CG\", 1)\n",
    "u = TrialFunction(V)\n",
    "v = TestFunction(V)\n",
    "\n",
    "# Define Dirichlet boundary conditions at top and bottom boundaries\n",
    "bcs = [DirichletBC(V, 0.0, boundaries, 2)]\n",
    "\n",
    "# Define new measures associated with the interior domains and\n",
    "# exterior boundaries\n",
    "dx = Measure('dx', domain=mesh, subdomain_data=domains)\n",
    "ds = Measure('ds', domain=mesh, subdomain_data=boundaries)"
   ]
  },
  {
   "cell_type": "markdown",
   "metadata": {},
   "source": [
    "## Solver du problème 2D"
   ]
  },
  {
   "cell_type": "code",
   "execution_count": 3,
   "metadata": {},
   "outputs": [],
   "source": [
    "def Solver(mu):\n",
    "    # Define input data\n",
    "    mu0 = Constant(mu[0])  \n",
    "    mu1 = Constant(mu[1])\n",
    "    \n",
    "    # Separate left and right hand sides of equation\n",
    "    a0= inner(grad(u),grad(v))*dx(0)\n",
    "    def a1(mu0):\n",
    "        return inner(mu0*grad(u),grad(v))*dx(1)\n",
    "    a = a0 + a1(mu0) #+ inner(mu1*grad(u),grad(v))*ds(4)\n",
    "    L0 = v*ds(4)\n",
    "    L = mu1*L0\n",
    "    \n",
    "    # Passage en nd.array\n",
    "    A = assemble(a)\n",
    "    b = assemble(L)\n",
    "    A2 = np.copy(A.array())\n",
    "    b2 = np.copy(b.get_local())\n",
    "    \n",
    "    # Conditions de Dirichlet\n",
    "    n=0\n",
    "    niter=2\n",
    "    for i in range((N+1)**2):\n",
    "        for j in range((N+1)**2):\n",
    "            if (i == n)and(i<=int((N+1)**2)/2):\n",
    "                A2[i,:] = 0\n",
    "                A2[i,i] = 1\n",
    "                n += niter\n",
    "                niter += 1\n",
    "    \n",
    "    # Résolution du système linéaire\n",
    "    u2 = npl.solve(A2,b2)\n",
    "    \n",
    "    # Passage en dolfin.Function\n",
    "    Sol = Function(V)\n",
    "    Sol.vector().set_local(u2)\n",
    "    #c = plot(Sol)\n",
    "    #plt.colorbar(c)\n",
    "\n",
    "    return [A2,b2]"
   ]
  },
  {
   "cell_type": "code",
   "execution_count": 4,
   "metadata": {},
   "outputs": [
    {
     "name": "stdout",
     "output_type": "stream",
     "text": [
      "<class 'numpy.ndarray'>\n"
     ]
    }
   ],
   "source": [
    "mu_test = np.array([0.4,0.1])\n",
    "A,B = Solver(mu_test)\n",
    "Lol = []\n",
    "Lol += [A]\n",
    "Lol = np.array(Lol)\n",
    "print(type(Lol[0]))"
   ]
  },
  {
   "cell_type": "markdown",
   "metadata": {},
   "source": [
    "## Offline procedure"
   ]
  },
  {
   "cell_type": "code",
   "execution_count": 5,
   "metadata": {},
   "outputs": [],
   "source": [
    "def greedy_algorithm(MUs, solver=Solver, tol=1e-5, N=7):\n",
    "    # On prend un mu (au hasard) pour initialiser l'algorithme\n",
    "    #mu_1 = MUs[0]\n",
    "    #np.delete(MUs, 0)\n",
    "    A1,F1=solver(MUs[0])\n",
    "    U_delta_mu1 = npl.solve(A1,F1)\n",
    "    \n",
    "    #U_delta_list = []\n",
    "    #for mu_loop in training_set:\n",
    "    #        U_delta_list.append(solver(mu_loop)[0].vector().get_local())\n",
    "    #        print(\"itération\")\n",
    "    rang = np.array(np.arange(0,len(MUs),1),'int')\n",
    "    np.delete(rang,0)\n",
    "    # On calcule tous les u_delta pour éviter de le refaire dans la boucle par la suite\n",
    "    #U_DELTA = np.array([solver(MUs[i])[0].vector().get_local() for i in rang])\n",
    "    U_DEL = []\n",
    "    A_DEL = []\n",
    "    F_DEL = []\n",
    "    for i in rang:\n",
    "        Atmp, Ftmp = solver(MUs[i])\n",
    "        U_DEL += [npl.solve(Atmp,Ftmp)]\n",
    "        A_DEL += [Atmp]\n",
    "        F_DEL += [Ftmp]\n",
    "    U_DELTA = np.array(U_DEL)\n",
    "    F_DELTA = np.array(F_DEL)\n",
    "    A_DELTA = np.array(A_DEL)\n",
    "        \n",
    "    \n",
    "        \n",
    "    # B est la matrice de changement de base de A_delta à A_rb\n",
    "    U_delta = np.array(U_delta_mu1)\n",
    "    B = np.copy(U_delta).reshape(len(U_delta),1)\n",
    "    \n",
    "    err = 1e10\n",
    "    #print(np.shape(U_delta))\n",
    "\n",
    "    print(\"Avant la boucle\")\n",
    "    n=1\n",
    "    while err > tol and rang.shape[0] > 0 and n<N:\n",
    "        \n",
    "        eta = np.zeros(rang.shape[0])\n",
    "        \n",
    "        for idx_mu in rang:\n",
    "            A_delta_mu = A_DELTA[idx_mu]\n",
    "            f_delta_mu = F_DELTA[idx_mu]\n",
    "            u_delta_mu = U_DELTA[idx_mu]\n",
    "            \n",
    "            # A_rb_mu @ u_rb_mu = f_rb_mu\n",
    "            # A_rb_mu = B.T @ A_delta_mu @ B\n",
    "            print(\"A    : \",np.shape(A_delta_mu))\n",
    "            print(\"b    : \",np.shape(f_delta_mu))\n",
    "            print(\"Base : \",np.shape(B))\n",
    "            u_rb_mu = npl.solve(B.T.dot(A_delta_mu.dot(B)), B.T.dot(f_delta_mu))\n",
    "            \n",
    "            # Pour l'instant, eta(mu) = ||u_delta - u_rb||_L2\n",
    "            eta[idx_mu] = npl.norm(u_delta_mu - B.dot(u_rb_mu), ord=2)\n",
    "        \n",
    "        print(\"ici\")\n",
    "        # On cherche la pire approximation\n",
    "        idx_worst_mu = np.argmax(eta)\n",
    "        \n",
    "        add = np.array(U_DELTA[idx_worst_mu]).reshape(2601,1).T\n",
    "        B = np.vstack((B.T,add/npl.norm(add))).T\n",
    "        \n",
    "        np.delete(rang, idx_worst_mu)\n",
    "        np.delete(U_DELTA, idx_worst_mu)\n",
    "        \n",
    "        err = eta[idx_worst_mu]\n",
    "        n+=1\n",
    "        \n",
    "    return B"
   ]
  },
  {
   "cell_type": "code",
   "execution_count": 6,
   "metadata": {},
   "outputs": [],
   "source": [
    "def greedy_algorithm2(MUs, solver=Solver, tol=1e-5, N=7):\n",
    "    # On prend un mu (au hasard) pour initialiser l'algorithme\n",
    "    #mu_1 = MUs[0]\n",
    "    #np.delete(MUs, 0)\n",
    "    start_time = time.time()\n",
    "    A,b=solver(MUs[0])\n",
    "    U_delta_mu1 = npl.solve(A,b)\n",
    "    np.delete(MUs, 0)\n",
    "    \n",
    "    U_delta_list = []\n",
    "    A_delta_list = []\n",
    "    f_delta_list = []\n",
    "    for mu_loop in MUs:\n",
    "        A,F = solver(mu_loop)\n",
    "        A_delta_list.append(A)\n",
    "        f_delta_list.append(F)\n",
    "        U_delta_list.append(npl.solve(A_delta_list[-1],f_delta_list[-1]))\n",
    "    U_delta = np.array(U_delta_list)\n",
    "    A_delta = np.array(A_delta_list)\n",
    "    F_delta = np.array(f_delta_list)\n",
    "    \n",
    "    \n",
    "    #U_delta_list = []\n",
    "    #for mu_loop in training_set:\n",
    "    #        U_delta_list.append(solver(mu_loop)[0].vector().get_local())\n",
    "    #        print(\"itération\")\n",
    "    #rang = np.array(np.arange(0,len(MUs),1),'int')\n",
    "    #np.delete(rang,0)\n",
    "    # On calcule tous les u_delta pour éviter de le refaire dans la boucle par la suite\n",
    "    #U_DELTA = np.array([solver(MUs[i])[0].vector().get_local() for i in rang])\n",
    "    #U_DEL = []\n",
    "    #A_DEL = []\n",
    "    #F_DEL = []\n",
    "    #for i in rang:\n",
    "        #Utmp, Atmp, Ftmp = solver(MUs[i])\n",
    "        #U_DEL += [Utmp.vector().get_local()]\n",
    "        #A_DEL += [Atmp]\n",
    "        #F_DEL += [Ftmp]\n",
    "    #U_DELTA = np.array(U_DEL)\n",
    "    #F_DELTA = np.array(F_DEL)\n",
    "    #A_DELTA = np.array(A_DEL)\n",
    "        \n",
    "    \n",
    "        \n",
    "    # B est la matrice de changement de base de A_delta à A_rb\n",
    "    U_delta = np.array(U_delta_mu1)\n",
    "    B = np.copy(U_delta).reshape(len(U_delta),1)\n",
    "    print(\"Temps d execution : %s secondes ---\" % (time.time() - start_time))\n",
    "    err = 1e10\n",
    "    #print(np.shape(U_delta))\n",
    "\n",
    "    print(\"Avant la boucle\")\n",
    "    n=1\n",
    "    while err > tol and len(MUs) > 0 and n<N:\n",
    "        print(f\"Itération n°{n}\")\n",
    "        print(\"Erreur:\", err)\n",
    "        eta = np.zeros(len(MUs))\n",
    "        print(len(MUs))\n",
    "        for idx_mu, mu in enumerate(MUs):\n",
    "            A_delta_mu = A_delta[idx_mu]\n",
    "            f_delta_mu = F_delta[idx_mu]\n",
    "            u_delta_mu = U_delta[idx_mu]\n",
    "            \n",
    "            # A_rb_mu @ u_rb_mu = f_rb_mu\n",
    "            # A_rb_mu = B.T @ A_delta_mu @ B\n",
    "            print(\"A    : \",np.shape(A_delta_mu))\n",
    "            print(\"b    : \",np.shape(f_delta_mu))\n",
    "            print(\"Base : \",np.shape(B))\n",
    "            u_rb_mu = npl.solve(B.T.dot(A_delta_mu.dot(B)), B.T.dot(f_delta_mu))\n",
    "            \n",
    "            # Pour l'instant, eta(mu) = ||u_delta - u_rb||_L2\n",
    "            eta[idx_mu] = npl.norm(u_delta_mu - B.dot(u_rb_mu), ord=2)\n",
    "        \n",
    "        print(\"ici\")\n",
    "        # On cherche la pire approximation\n",
    "        idx_worst_mu = np.argmax(eta)\n",
    "        print(idx_worst_mu)\n",
    "        \n",
    "        add = np.zeros((len(U_delta),1))\n",
    "        add[:,0] = np.copy(U_delta[idx_worst_mu])\n",
    "        add = add.T\n",
    "        B = np.vstack((B.T,add/npl.norm(add))).T\n",
    "        \n",
    "        print(\"Mu choisi et son index dans la liste:\", MUs[idx_worst_mu], idx_worst_mu)\n",
    "        MUs.pop(idx_worst_mu)\n",
    "        np.delete(U_delta, idx_worst_mu)\n",
    "        err = eta[idx_worst_mu]\n",
    "        n += 1\n",
    "        print(err)\n",
    "        print(tol)\n",
    "        print(tol>err)\n",
    "    return B"
   ]
  },
  {
   "cell_type": "code",
   "execution_count": 7,
   "metadata": {},
   "outputs": [],
   "source": [
    "def training_set_creator(*args):\n",
    "    \"\"\"\n",
    "    args are a non-zero number of lists of size 3.\n",
    "    Example of use: we want the creation of an iteratable representing all possible elements on a n-dimensional grid\n",
    "    first dimension goes from a to b with c elements, then you pass \"[a,b,c]\" as a first argument.\n",
    "    return: n-dimensional grid on which you can iterate.\n",
    "    \n",
    "    \"\"\"\n",
    "    linspace_args = (np.linspace(*arg) for arg in args)\n",
    "    \n",
    "    meshes = np.meshgrid(*linspace_args)\n",
    "    dimensions = map(np.ravel, meshes)\n",
    "#     dimensions = [mesh.ravel() for mesh in meshes]\n",
    "    \n",
    "    tuples = zip(*dimensions)\n",
    "    return list(tuples)\n",
    "#     for tup in tuples:\n",
    "#         yield(tuple(tup))"
   ]
  },
  {
   "cell_type": "code",
   "execution_count": 8,
   "metadata": {},
   "outputs": [],
   "source": [
    "def reduced_solver(mu,A_q,shape):\n",
    "    \"\"\"\n",
    "    from output of pre_computer and a mu: computes A_rb and f_rb and u_rb, the solution of A_rb.u_rb=f_rb\n",
    "    \"\"\"\n",
    "    A = np.copy(A_q[1])\n",
    "    f = np.copy(A_q[3])\n",
    "    for i in range(shape):\n",
    "        A += A_q[0][i]*mu[i]\n",
    "    for i in range(shape,len(mu)):\n",
    "        f += A_q[2][i-shape]*mu[i]\n",
    "    return npl.solve(A,f)"
   ]
  },
  {
   "cell_type": "markdown",
   "metadata": {},
   "source": [
    "## Precomputer"
   ]
  },
  {
   "cell_type": "code",
   "execution_count": 9,
   "metadata": {},
   "outputs": [],
   "source": [
    "def pre_computer(Base):\n",
    "    \"\"\"\n",
    "    pre_computer take as input a reduced_base and pre_computes all quantities used for a reduced_solver.\n",
    "    output: [[A_rb^q](0<= i <=n1),A_rb^0,[f_rb^q](0<= i <=n2),f_rb^0],n\n",
    "    with A_rb = sum_(i in 0..n1){ mu[i]*A_rb^(q_1)_i } + A_rb^0\n",
    "    and  f_rb = sum_(i in n1+1..n2){ mu[i]*f_rb^(q_1)_i } + f_rb^0\n",
    "            n = n1+1\n",
    "    \"\"\"\n",
    "    #mu0 = Constant(mu[0])\n",
    "    #mu1 = Constant(mu[1])\n",
    "    # Separate left and right hand sides of equation\n",
    "    a0= inner(grad(u),grad(v))*dx(0)\n",
    "    #def a1(mu0):\n",
    "    #    return inner(grad(u),grad(v))*dx(1)\n",
    "    a1 = inner(grad(u),grad(v))*dx(1)\n",
    "\n",
    "    L0 = v*ds(4)\n",
    "    #L = mu1*L0\n",
    "    \n",
    "    A_0M = assemble(a0)\n",
    "    A_1M = assemble(a1)\n",
    "    b = assemble(L0)\n",
    "    A_0 = np.copy(A_0M.array())\n",
    "    A_1 = np.copy(A_1M.array())\n",
    "    b_0 = np.copy(b.get_local())\n",
    "    #n=0\n",
    "    #niter=2\n",
    "    #for i in range((N+1)**2):\n",
    "    #    for j in range((N+1)**2):\n",
    "    #        if (i == n)and(i<=int((N+1)**2)/2):\n",
    "    #            A_0[i,:] = 0\n",
    "    #            A_0[i,i] = 1\n",
    "    #            n += niter\n",
    "    #            niter += 1\n",
    "                \n",
    "    A0B = [Base.T.dot(A_1.dot(Base))]\n",
    "    A1B = Base.T.dot(A_0.dot(Base))\n",
    "    b1 = [Base.T.dot(b_0)]\n",
    "    b2 = Base.T.dot(np.zeros(b_0.shape))\n",
    "    \n",
    "    #At = assemble(a0 + a1(mu0))\n",
    "    #bt = assemble(L)\n",
    "    #A = np.copy(At.array())\n",
    "    #b = np.copy(bt.get_local())\n",
    "    \n",
    "    return [A0B,A1B,b1,b2],1 #[Base.T.dot(A.dot(Base)),Base.T.dot(b)],1"
   ]
  },
  {
   "cell_type": "markdown",
   "metadata": {},
   "source": [
    "## Résolution"
   ]
  },
  {
   "cell_type": "markdown",
   "metadata": {},
   "source": [
    "### Création de la base"
   ]
  },
  {
   "cell_type": "code",
   "execution_count": 141,
   "metadata": {},
   "outputs": [
    {
     "name": "stdout",
     "output_type": "stream",
     "text": [
      "[(1.0, -1.0), (3.25, -1.0), (5.5, -1.0), (7.75, -1.0), (10.0, -1.0), (1.0, -0.5), (3.25, -0.5), (5.5, -0.5), (7.75, -0.5), (10.0, -0.5), (1.0, 0.0), (3.25, 0.0), (5.5, 0.0), (7.75, 0.0), (10.0, 0.0), (1.0, 0.5), (3.25, 0.5), (5.5, 0.5), (7.75, 0.5), (10.0, 0.5), (1.0, 1.0), (3.25, 1.0), (5.5, 1.0), (7.75, 1.0), (10.0, 1.0)]\n"
     ]
    },
    {
     "ename": "NameError",
     "evalue": "name 'U_DELTA' is not defined",
     "output_type": "error",
     "traceback": [
      "\u001b[0;31m---------------------------------------------------------------------------\u001b[0m",
      "\u001b[0;31mNameError\u001b[0m                                 Traceback (most recent call last)",
      "\u001b[0;32m<ipython-input-141-6ae9d942c191>\u001b[0m in \u001b[0;36m<module>\u001b[0;34m\u001b[0m\n\u001b[1;32m      4\u001b[0m \u001b[0mprint\u001b[0m\u001b[0;34m(\u001b[0m\u001b[0mtraining_set\u001b[0m\u001b[0;34m)\u001b[0m\u001b[0;34m\u001b[0m\u001b[0;34m\u001b[0m\u001b[0m\n\u001b[1;32m      5\u001b[0m \u001b[0mtraining_set\u001b[0m\u001b[0;34m.\u001b[0m\u001b[0mpop\u001b[0m\u001b[0;34m(\u001b[0m\u001b[0;36m0\u001b[0m\u001b[0;34m)\u001b[0m\u001b[0;34m\u001b[0m\u001b[0;34m\u001b[0m\u001b[0m\n\u001b[0;32m----> 6\u001b[0;31m \u001b[0mnp\u001b[0m\u001b[0;34m.\u001b[0m\u001b[0mdelete\u001b[0m\u001b[0;34m(\u001b[0m\u001b[0mU_DELTA\u001b[0m\u001b[0;34m,\u001b[0m \u001b[0;36m0\u001b[0m\u001b[0;34m)\u001b[0m\u001b[0;34m\u001b[0m\u001b[0;34m\u001b[0m\u001b[0m\n\u001b[0m",
      "\u001b[0;31mNameError\u001b[0m: name 'U_DELTA' is not defined"
     ]
    }
   ],
   "source": [
    "T0 = np.array([1,10,5])\n",
    "T1 = np.array([-1,1,5])\n",
    "training_set = training_set_creator(T0,T1)\n",
    "print(training_set)\n",
    "training_set.pop(0)\n",
    "np.delete(U_DELTA, 0)\n"
   ]
  },
  {
   "cell_type": "code",
   "execution_count": 142,
   "metadata": {},
   "outputs": [
    {
     "name": "stdout",
     "output_type": "stream",
     "text": [
      "Temps d execution : 41.079519271850586 secondes ---\n",
      "Avant la boucle\n",
      "Itération n°1\n",
      "Erreur: 10000000000.0\n",
      "25\n",
      "A    :  (2601, 2601)\n",
      "b    :  (2601,)\n",
      "Base :  (2601, 1)\n",
      "A    :  (2601, 2601)\n",
      "b    :  (2601,)\n",
      "Base :  (2601, 1)\n",
      "A    :  (2601, 2601)\n",
      "b    :  (2601,)\n",
      "Base :  (2601, 1)\n",
      "A    :  (2601, 2601)\n",
      "b    :  (2601,)\n",
      "Base :  (2601, 1)\n",
      "A    :  (2601, 2601)\n",
      "b    :  (2601,)\n",
      "Base :  (2601, 1)\n",
      "A    :  (2601, 2601)\n",
      "b    :  (2601,)\n",
      "Base :  (2601, 1)\n",
      "A    :  (2601, 2601)\n",
      "b    :  (2601,)\n",
      "Base :  (2601, 1)\n",
      "A    :  (2601, 2601)\n",
      "b    :  (2601,)\n",
      "Base :  (2601, 1)\n",
      "A    :  (2601, 2601)\n",
      "b    :  (2601,)\n",
      "Base :  (2601, 1)\n",
      "A    :  (2601, 2601)\n",
      "b    :  (2601,)\n",
      "Base :  (2601, 1)\n",
      "A    :  (2601, 2601)\n",
      "b    :  (2601,)\n",
      "Base :  (2601, 1)\n",
      "A    :  (2601, 2601)\n",
      "b    :  (2601,)\n",
      "Base :  (2601, 1)\n",
      "A    :  (2601, 2601)\n",
      "b    :  (2601,)\n",
      "Base :  (2601, 1)\n",
      "A    :  (2601, 2601)\n",
      "b    :  (2601,)\n",
      "Base :  (2601, 1)\n",
      "A    :  (2601, 2601)\n",
      "b    :  (2601,)\n",
      "Base :  (2601, 1)\n",
      "A    :  (2601, 2601)\n",
      "b    :  (2601,)\n",
      "Base :  (2601, 1)\n",
      "A    :  (2601, 2601)\n",
      "b    :  (2601,)\n",
      "Base :  (2601, 1)\n",
      "A    :  (2601, 2601)\n",
      "b    :  (2601,)\n",
      "Base :  (2601, 1)\n",
      "A    :  (2601, 2601)\n",
      "b    :  (2601,)\n",
      "Base :  (2601, 1)\n",
      "A    :  (2601, 2601)\n",
      "b    :  (2601,)\n",
      "Base :  (2601, 1)\n",
      "A    :  (2601, 2601)\n",
      "b    :  (2601,)\n",
      "Base :  (2601, 1)\n",
      "A    :  (2601, 2601)\n",
      "b    :  (2601,)\n",
      "Base :  (2601, 1)\n",
      "A    :  (2601, 2601)\n",
      "b    :  (2601,)\n",
      "Base :  (2601, 1)\n",
      "A    :  (2601, 2601)\n",
      "b    :  (2601,)\n",
      "Base :  (2601, 1)\n",
      "A    :  (2601, 2601)\n",
      "b    :  (2601,)\n",
      "Base :  (2601, 1)\n",
      "ici\n",
      "0\n",
      "Mu choisi et son index dans la liste: (1.0, -1.0) 0\n",
      "29.597113450641846\n",
      "0.01\n",
      "False\n",
      "Itération n°2\n",
      "Erreur: 29.597113450641846\n",
      "24\n",
      "A    :  (2601, 2601)\n",
      "b    :  (2601,)\n",
      "Base :  (2601, 2)\n",
      "A    :  (2601, 2601)\n",
      "b    :  (2601,)\n",
      "Base :  (2601, 2)\n",
      "A    :  (2601, 2601)\n",
      "b    :  (2601,)\n",
      "Base :  (2601, 2)\n",
      "A    :  (2601, 2601)\n",
      "b    :  (2601,)\n",
      "Base :  (2601, 2)\n",
      "A    :  (2601, 2601)\n",
      "b    :  (2601,)\n",
      "Base :  (2601, 2)\n",
      "A    :  (2601, 2601)\n",
      "b    :  (2601,)\n",
      "Base :  (2601, 2)\n"
     ]
    },
    {
     "name": "stderr",
     "output_type": "stream",
     "text": [
      "<ipython-input-137-fa229824fcf2>:82: RuntimeWarning: invalid value encountered in true_divide\n",
      "  B = np.vstack((B.T,add/npl.norm(add))).T\n"
     ]
    },
    {
     "name": "stdout",
     "output_type": "stream",
     "text": [
      "A    :  (2601, 2601)\n",
      "b    :  (2601,)\n",
      "Base :  (2601, 2)\n",
      "A    :  (2601, 2601)\n",
      "b    :  (2601,)\n",
      "Base :  (2601, 2)\n",
      "A    :  (2601, 2601)\n",
      "b    :  (2601,)\n",
      "Base :  (2601, 2)\n",
      "A    :  (2601, 2601)\n",
      "b    :  (2601,)\n",
      "Base :  (2601, 2)\n",
      "A    :  (2601, 2601)\n",
      "b    :  (2601,)\n",
      "Base :  (2601, 2)\n",
      "A    :  (2601, 2601)\n",
      "b    :  (2601,)\n",
      "Base :  (2601, 2)\n",
      "A    :  (2601, 2601)\n",
      "b    :  (2601,)\n",
      "Base :  (2601, 2)\n",
      "A    :  (2601, 2601)\n",
      "b    :  (2601,)\n",
      "Base :  (2601, 2)\n",
      "A    :  (2601, 2601)\n",
      "b    :  (2601,)\n",
      "Base :  (2601, 2)\n",
      "A    :  (2601, 2601)\n",
      "b    :  (2601,)\n",
      "Base :  (2601, 2)\n",
      "A    :  (2601, 2601)\n",
      "b    :  (2601,)\n",
      "Base :  (2601, 2)\n",
      "A    :  (2601, 2601)\n",
      "b    :  (2601,)\n",
      "Base :  (2601, 2)\n",
      "A    :  (2601, 2601)\n",
      "b    :  (2601,)\n",
      "Base :  (2601, 2)\n",
      "A    :  (2601, 2601)\n",
      "b    :  (2601,)\n",
      "Base :  (2601, 2)\n",
      "A    :  (2601, 2601)\n",
      "b    :  (2601,)\n",
      "Base :  (2601, 2)\n",
      "A    :  (2601, 2601)\n",
      "b    :  (2601,)\n",
      "Base :  (2601, 2)\n",
      "A    :  (2601, 2601)\n",
      "b    :  (2601,)\n",
      "Base :  (2601, 2)\n",
      "A    :  (2601, 2601)\n",
      "b    :  (2601,)\n",
      "Base :  (2601, 2)\n",
      "ici\n",
      "0\n",
      "Mu choisi et son index dans la liste: (3.25, -1.0) 0\n",
      "nan\n",
      "0.01\n",
      "False\n"
     ]
    },
    {
     "ename": "ValueError",
     "evalue": "too many values to unpack (expected 2)",
     "output_type": "error",
     "traceback": [
      "\u001b[0;31m---------------------------------------------------------------------------\u001b[0m",
      "\u001b[0;31mValueError\u001b[0m                                Traceback (most recent call last)",
      "\u001b[0;32m<timed exec>\u001b[0m in \u001b[0;36m<module>\u001b[0;34m\u001b[0m\n",
      "\u001b[0;31mValueError\u001b[0m: too many values to unpack (expected 2)"
     ]
    }
   ],
   "source": [
    "%%time\n",
    "T0 = np.array([1,10,5])\n",
    "T1 = np.array([-1,1,5])\n",
    "training_set = training_set_creator(T0,T1)\n",
    "Base, error = greedy_algorithm2(training_set,tol=0.01)"
   ]
  },
  {
   "cell_type": "code",
   "execution_count": 16,
   "metadata": {},
   "outputs": [
    {
     "name": "stdout",
     "output_type": "stream",
     "text": [
      "[[ 0.1        -1.        ]\n",
      " [ 0.1        -0.33333333]\n",
      " [ 0.1         0.33333333]\n",
      " [ 0.1         1.        ]\n",
      " [ 3.4        -1.        ]\n",
      " [ 3.4        -0.33333333]\n",
      " [ 3.4         0.33333333]\n",
      " [ 3.4         1.        ]\n",
      " [ 6.7        -1.        ]\n",
      " [ 6.7        -0.33333333]\n",
      " [ 6.7         0.33333333]\n",
      " [ 6.7         1.        ]\n",
      " [10.         -1.        ]\n",
      " [10.         -0.33333333]\n",
      " [10.          0.33333333]\n",
      " [10.          1.        ]]\n"
     ]
    }
   ],
   "source": [
    "test_complet = np.zeros((16,2))\n",
    "un = np.linspace(0.1,10,4)\n",
    "deux = np.linspace(-1,1,4)\n",
    "j = 0\n",
    "for i in range(16):\n",
    "    if i%4 == 0 and i != 0:\n",
    "        j += 4\n",
    "    test_complet[i,0] = un[int(j/4)]\n",
    "    test_complet[i,1] = deux[i-j]\n",
    "print(test_complet)"
   ]
  },
  {
   "cell_type": "code",
   "execution_count": 71,
   "metadata": {},
   "outputs": [
    {
     "name": "stdout",
     "output_type": "stream",
     "text": [
      "[2.59344083 2.14339586]\n",
      "[1.02975845 0.5066324 ]\n"
     ]
    },
    {
     "data": {
      "image/png": "[encoded data removed]",
      "text/plain": [
       "<Figure size 432x288 with 1 Axes>"
      ]
     },
     "metadata": {
      "needs_background": "light"
     },
     "output_type": "display_data"
    }
   ],
   "source": [
    "## POUR NMAX = 1\n",
    "temps_interim = np.array([4.7,16.33,26.52,36.07,54.67,64.7,83.74])\n",
    "temps = np.array([12.1,43.1,67,94,134,167,211])\n",
    "op = np.array([4,16,25,36,49,64,81])\n",
    "fit = np.polyfit(op, temps, 1)\n",
    "fit2 = np.polyfit(op, temps_interim, 1)\n",
    "print(fit)\n",
    "print(fit2)\n",
    "plt.plot(op,temps,marker='d')\n",
    "plt.plot(op,temps_interim,marker='o')\n",
    "plt.ylabel(\"Temps (s)\")\n",
    "plt.xlabel(\"Taille du training_set (carré)\")\n",
    "plt.grid()\n",
    "plt.show()"
   ]
  },
  {
   "cell_type": "code",
   "execution_count": 72,
   "metadata": {},
   "outputs": [
    {
     "ename": "LinAlgError",
     "evalue": "Singular matrix",
     "output_type": "error",
     "traceback": [
      "\u001b[0;31m---------------------------------------------------------------------------\u001b[0m",
      "\u001b[0;31mLinAlgError\u001b[0m                               Traceback (most recent call last)",
      "\u001b[0;32m<timed exec>\u001b[0m in \u001b[0;36m<module>\u001b[0;34m\u001b[0m\n",
      "\u001b[0;32m<ipython-input-33-061c7d2155ca>\u001b[0m in \u001b[0;36mgreedy_algorithm\u001b[0;34m(MUs, solver, tol, N)\u001b[0m\n\u001b[1;32m      3\u001b[0m     \u001b[0;31m#mu_1 = MUs[0]\u001b[0m\u001b[0;34m\u001b[0m\u001b[0;34m\u001b[0m\u001b[0;34m\u001b[0m\u001b[0m\n\u001b[1;32m      4\u001b[0m     \u001b[0;31m#np.delete(MUs, 0)\u001b[0m\u001b[0;34m\u001b[0m\u001b[0;34m\u001b[0m\u001b[0;34m\u001b[0m\u001b[0m\n\u001b[0;32m----> 5\u001b[0;31m     \u001b[0mA1\u001b[0m\u001b[0;34m,\u001b[0m\u001b[0mF1\u001b[0m\u001b[0;34m=\u001b[0m\u001b[0msolver\u001b[0m\u001b[0;34m(\u001b[0m\u001b[0mMUs\u001b[0m\u001b[0;34m[\u001b[0m\u001b[0;36m0\u001b[0m\u001b[0;34m]\u001b[0m\u001b[0;34m)\u001b[0m\u001b[0;34m\u001b[0m\u001b[0;34m\u001b[0m\u001b[0m\n\u001b[0m\u001b[1;32m      6\u001b[0m     \u001b[0mU_delta_mu1\u001b[0m \u001b[0;34m=\u001b[0m \u001b[0mnpl\u001b[0m\u001b[0;34m.\u001b[0m\u001b[0msolve\u001b[0m\u001b[0;34m(\u001b[0m\u001b[0mA1\u001b[0m\u001b[0;34m,\u001b[0m\u001b[0mF1\u001b[0m\u001b[0;34m)\u001b[0m\u001b[0;34m\u001b[0m\u001b[0;34m\u001b[0m\u001b[0m\n\u001b[1;32m      7\u001b[0m \u001b[0;34m\u001b[0m\u001b[0m\n",
      "\u001b[0;32m<ipython-input-3-64bdd54eac9d>\u001b[0m in \u001b[0;36mSolver\u001b[0;34m(mu)\u001b[0m\n\u001b[1;32m     30\u001b[0m \u001b[0;34m\u001b[0m\u001b[0m\n\u001b[1;32m     31\u001b[0m     \u001b[0;31m# Résolution du système linéaire\u001b[0m\u001b[0;34m\u001b[0m\u001b[0;34m\u001b[0m\u001b[0;34m\u001b[0m\u001b[0m\n\u001b[0;32m---> 32\u001b[0;31m     \u001b[0mu2\u001b[0m \u001b[0;34m=\u001b[0m \u001b[0mnpl\u001b[0m\u001b[0;34m.\u001b[0m\u001b[0msolve\u001b[0m\u001b[0;34m(\u001b[0m\u001b[0mA2\u001b[0m\u001b[0;34m,\u001b[0m\u001b[0mb2\u001b[0m\u001b[0;34m)\u001b[0m\u001b[0;34m\u001b[0m\u001b[0;34m\u001b[0m\u001b[0m\n\u001b[0m\u001b[1;32m     33\u001b[0m \u001b[0;34m\u001b[0m\u001b[0m\n\u001b[1;32m     34\u001b[0m     \u001b[0;31m# Passage en dolfin.Function\u001b[0m\u001b[0;34m\u001b[0m\u001b[0;34m\u001b[0m\u001b[0;34m\u001b[0m\u001b[0m\n",
      "\u001b[0;32m<__array_function__ internals>\u001b[0m in \u001b[0;36msolve\u001b[0;34m(*args, **kwargs)\u001b[0m\n",
      "\u001b[0;32m~/anaconda3/envs/fenicsproject/lib/python3.8/site-packages/numpy/linalg/linalg.py\u001b[0m in \u001b[0;36msolve\u001b[0;34m(a, b)\u001b[0m\n\u001b[1;32m    397\u001b[0m     \u001b[0msignature\u001b[0m \u001b[0;34m=\u001b[0m \u001b[0;34m'DD->D'\u001b[0m \u001b[0;32mif\u001b[0m \u001b[0misComplexType\u001b[0m\u001b[0;34m(\u001b[0m\u001b[0mt\u001b[0m\u001b[0;34m)\u001b[0m \u001b[0;32melse\u001b[0m \u001b[0;34m'dd->d'\u001b[0m\u001b[0;34m\u001b[0m\u001b[0;34m\u001b[0m\u001b[0m\n\u001b[1;32m    398\u001b[0m     \u001b[0mextobj\u001b[0m \u001b[0;34m=\u001b[0m \u001b[0mget_linalg_error_extobj\u001b[0m\u001b[0;34m(\u001b[0m\u001b[0m_raise_linalgerror_singular\u001b[0m\u001b[0;34m)\u001b[0m\u001b[0;34m\u001b[0m\u001b[0;34m\u001b[0m\u001b[0m\n\u001b[0;32m--> 399\u001b[0;31m     \u001b[0mr\u001b[0m \u001b[0;34m=\u001b[0m \u001b[0mgufunc\u001b[0m\u001b[0;34m(\u001b[0m\u001b[0ma\u001b[0m\u001b[0;34m,\u001b[0m \u001b[0mb\u001b[0m\u001b[0;34m,\u001b[0m \u001b[0msignature\u001b[0m\u001b[0;34m=\u001b[0m\u001b[0msignature\u001b[0m\u001b[0;34m,\u001b[0m \u001b[0mextobj\u001b[0m\u001b[0;34m=\u001b[0m\u001b[0mextobj\u001b[0m\u001b[0;34m)\u001b[0m\u001b[0;34m\u001b[0m\u001b[0;34m\u001b[0m\u001b[0m\n\u001b[0m\u001b[1;32m    400\u001b[0m \u001b[0;34m\u001b[0m\u001b[0m\n\u001b[1;32m    401\u001b[0m     \u001b[0;32mreturn\u001b[0m \u001b[0mwrap\u001b[0m\u001b[0;34m(\u001b[0m\u001b[0mr\u001b[0m\u001b[0;34m.\u001b[0m\u001b[0mastype\u001b[0m\u001b[0;34m(\u001b[0m\u001b[0mresult_t\u001b[0m\u001b[0;34m,\u001b[0m \u001b[0mcopy\u001b[0m\u001b[0;34m=\u001b[0m\u001b[0;32mFalse\u001b[0m\u001b[0;34m)\u001b[0m\u001b[0;34m)\u001b[0m\u001b[0;34m\u001b[0m\u001b[0;34m\u001b[0m\u001b[0m\n",
      "\u001b[0;32m~/anaconda3/envs/fenicsproject/lib/python3.8/site-packages/numpy/linalg/linalg.py\u001b[0m in \u001b[0;36m_raise_linalgerror_singular\u001b[0;34m(err, flag)\u001b[0m\n\u001b[1;32m     95\u001b[0m \u001b[0;34m\u001b[0m\u001b[0m\n\u001b[1;32m     96\u001b[0m \u001b[0;32mdef\u001b[0m \u001b[0m_raise_linalgerror_singular\u001b[0m\u001b[0;34m(\u001b[0m\u001b[0merr\u001b[0m\u001b[0;34m,\u001b[0m \u001b[0mflag\u001b[0m\u001b[0;34m)\u001b[0m\u001b[0;34m:\u001b[0m\u001b[0;34m\u001b[0m\u001b[0;34m\u001b[0m\u001b[0m\n\u001b[0;32m---> 97\u001b[0;31m     \u001b[0;32mraise\u001b[0m \u001b[0mLinAlgError\u001b[0m\u001b[0;34m(\u001b[0m\u001b[0;34m\"Singular matrix\"\u001b[0m\u001b[0;34m)\u001b[0m\u001b[0;34m\u001b[0m\u001b[0;34m\u001b[0m\u001b[0m\n\u001b[0m\u001b[1;32m     98\u001b[0m \u001b[0;34m\u001b[0m\u001b[0m\n\u001b[1;32m     99\u001b[0m \u001b[0;32mdef\u001b[0m \u001b[0m_raise_linalgerror_nonposdef\u001b[0m\u001b[0;34m(\u001b[0m\u001b[0merr\u001b[0m\u001b[0;34m,\u001b[0m \u001b[0mflag\u001b[0m\u001b[0;34m)\u001b[0m\u001b[0;34m:\u001b[0m\u001b[0;34m\u001b[0m\u001b[0;34m\u001b[0m\u001b[0m\n",
      "\u001b[0;31mLinAlgError\u001b[0m: Singular matrix"
     ]
    }
   ],
   "source": [
    "%%time\n",
    "T0 = np.array([1,10,10])\n",
    "T1 = np.array([-1,1,10])\n",
    "training_set = training_set_creator(T0,T1)\n",
    "test = np.zeros((10,2))\n",
    "for i in range(10):\n",
    "    test[i] = np.copy([0.1 + i*0.99,-1 + i* 0.2])\n",
    "Base = greedy_algorithm(test,Solver)"
   ]
  },
  {
   "cell_type": "code",
   "execution_count": 6,
   "metadata": {},
   "outputs": [
    {
     "ename": "NameError",
     "evalue": "name 'Base' is not defined",
     "output_type": "error",
     "traceback": [
      "\u001b[0;31m---------------------------------------------------------------------------\u001b[0m",
      "\u001b[0;31mNameError\u001b[0m                                 Traceback (most recent call last)",
      "\u001b[0;32m<ipython-input-6-467b3fa3e12a>\u001b[0m in \u001b[0;36m<module>\u001b[0;34m\u001b[0m\n\u001b[0;32m----> 1\u001b[0;31m \u001b[0mprint\u001b[0m\u001b[0;34m(\u001b[0m\u001b[0mnp\u001b[0m\u001b[0;34m.\u001b[0m\u001b[0mshape\u001b[0m\u001b[0;34m(\u001b[0m\u001b[0mBase\u001b[0m\u001b[0;34m)\u001b[0m\u001b[0;34m)\u001b[0m\u001b[0;34m\u001b[0m\u001b[0;34m\u001b[0m\u001b[0m\n\u001b[0m",
      "\u001b[0;31mNameError\u001b[0m: name 'Base' is not defined"
     ]
    }
   ],
   "source": [
    "print(np.shape(Base))"
   ]
  },
  {
   "cell_type": "markdown",
   "metadata": {},
   "source": [
    "### Truth solution for mu_test & évaluation du temps mis"
   ]
  },
  {
   "cell_type": "code",
   "execution_count": 20,
   "metadata": {},
   "outputs": [],
   "source": [
    "mu_test = np.array([10,1])"
   ]
  },
  {
   "cell_type": "markdown",
   "metadata": {},
   "source": [
    "### Online procedure ne dépendant pas de mu"
   ]
  },
  {
   "cell_type": "code",
   "execution_count": 23,
   "metadata": {},
   "outputs": [
    {
     "name": "stdout",
     "output_type": "stream",
     "text": [
      "CPU times: user 199 ms, sys: 96.6 ms, total: 296 ms\n",
      "Wall time: 292 ms\n"
     ]
    }
   ],
   "source": [
    "%%time\n",
    "A_q,shape = pre_computer(Base)"
   ]
  },
  {
   "cell_type": "markdown",
   "metadata": {},
   "source": [
    "### Résolution en base réduite & évaluation du temps"
   ]
  },
  {
   "cell_type": "code",
   "execution_count": 32,
   "metadata": {},
   "outputs": [
    {
     "name": "stdout",
     "output_type": "stream",
     "text": [
      "CPU times: user 585 µs, sys: 42 µs, total: 627 µs\n",
      "Wall time: 640 µs\n"
     ]
    }
   ],
   "source": [
    "%%time\n",
    "mu_test_rb = np.array([1.9,1])\n",
    "U_rb = reduced_solver(mu_test_rb,A_q,shape)"
   ]
  },
  {
   "cell_type": "code",
   "execution_count": 33,
   "metadata": {},
   "outputs": [
    {
     "name": "stdout",
     "output_type": "stream",
     "text": [
      "(2601,)\n"
     ]
    },
    {
     "data": {
      "image/png": "[encoded data removed]",
      "text/plain": [
       "<Figure size 432x288 with 2 Axes>"
      ]
     },
     "metadata": {
      "needs_background": "light"
     },
     "output_type": "display_data"
    }
   ],
   "source": [
    "RES = Base.dot(U_rb)\n",
    "print(np.shape(RES))\n",
    "urb = Function(V)\n",
    "urb.vector().set_local(RES)\n",
    "e = plot(urb)\n",
    "plt.title('Urb')\n",
    "plt.colorbar(e)\n",
    "plt.show()"
   ]
  },
  {
   "cell_type": "code",
   "execution_count": 35,
   "metadata": {},
   "outputs": [
    {
     "name": "stdout",
     "output_type": "stream",
     "text": [
      "CPU times: user 1.95 s, sys: 70.1 ms, total: 2.02 s\n",
      "Wall time: 921 ms\n"
     ]
    }
   ],
   "source": [
    "%%time\n",
    "U_true = Solver(np.array([1.9,1]))[0]"
   ]
  },
  {
   "cell_type": "code",
   "execution_count": 36,
   "metadata": {},
   "outputs": [
    {
     "data": {
      "image/png": "[encoded data removed]",
      "text/plain": [
       "<Figure size 432x288 with 2 Axes>"
      ]
     },
     "metadata": {
      "needs_background": "light"
     },
     "output_type": "display_data"
    }
   ],
   "source": [
    "c = plot(U_true)\n",
    "plt.title(\"True solution\")\n",
    "plt.colorbar(c)\n",
    "plt.show()"
   ]
  },
  {
   "cell_type": "code",
   "execution_count": null,
   "metadata": {},
   "outputs": [],
   "source": []
  },
  {
   "cell_type": "code",
   "execution_count": 37,
   "metadata": {},
   "outputs": [
    {
     "name": "stdout",
     "output_type": "stream",
     "text": [
      "(2601,)\n",
      "0.001936504014125427\n"
     ]
    }
   ],
   "source": [
    "RES = Base.dot(U_rb)\n",
    "print(np.shape(RES))\n",
    "\n",
    "#utmp = Function(V)\n",
    "#a = plot(utmp)\n",
    "#utmp.vector().set_local(RES)\n",
    "#a = plot(utmp)\n",
    "#plt.colorbar(a)\n",
    "#plt.title(\"Urb\")\n",
    "#plt.show()\n",
    "\n",
    "\n",
    "\n",
    "#plt.plot(X,Base.dot(U_rb),label=\"reduced_sol\")\n",
    "#plt.legend()\n",
    "#plt.show()\n",
    "udiff = Function(V)\n",
    "udiff = U_true.vector() - urb.vector()\n",
    "print(norm(udiff))  ## NORME FENICS\n",
    "#print((npl.norm(U_true.vector().get_local()-RES)))"
   ]
  },
  {
   "cell_type": "code",
   "execution_count": null,
   "metadata": {},
   "outputs": [],
   "source": []
  }
 ],
 "metadata": {
  "kernelspec": {
   "display_name": "Python 3",
   "language": "python",
   "name": "python3"
  },
  "language_info": {
   "codemirror_mode": {
    "name": "ipython",
    "version": 3
   },
   "file_extension": ".py",
   "mimetype": "text/x-python",
   "name": "python",
   "nbconvert_exporter": "python",
   "pygments_lexer": "ipython3",
   "version": "3.8.2"
  }
 },
 "nbformat": 4,
 "nbformat_minor": 4
}
