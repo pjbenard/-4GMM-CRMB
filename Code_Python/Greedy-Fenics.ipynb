{
 "cells": [
  {
   "cell_type": "code",
   "execution_count": 1,
   "metadata": {},
   "outputs": [
    {
     "name": "stdout",
     "output_type": "stream",
     "text": [
      "Populating the interactive namespace from numpy and matplotlib\n"
     ]
    }
   ],
   "source": [
    "import numpy as np\n",
    "import numpy.linalg as npl\n",
    "import scipy as sp\n",
    "import scipy.sparse.linalg as spspl\n",
    "import matplotlib.pyplot as plt\n",
    "%pylab inline\n",
    "from dolfin import *"
   ]
  },
  {
   "cell_type": "markdown",
   "metadata": {},
   "source": [
    "## Définition des classes et paramètres"
   ]
  },
  {
   "cell_type": "code",
   "execution_count": 2,
   "metadata": {},
   "outputs": [],
   "source": [
    "# Rayon du disque\n",
    "r = 0.3\n",
    "\n",
    "# Nombre de noeuds\n",
    "N = 50\n",
    "\n",
    "# Classes des domaines\n",
    "class Left(SubDomain):\n",
    "    def inside(self, x, on_boundary):\n",
    "        return near(x[0], 0.0)\n",
    "class Right(SubDomain):\n",
    "    def inside(self, x, on_boundary):\n",
    "        return near(x[0], 1.0)\n",
    "class Bottom(SubDomain):\n",
    "    def inside(self, x, on_boundary):\n",
    "        return near(x[1], 0.0)\n",
    "class Top(SubDomain):\n",
    "    def inside(self, x, on_boundary):\n",
    "        return near(x[1], 1.0)\n",
    "class Gamma0(SubDomain):\n",
    "    def inside(self, x, on_boundary):\n",
    "        return (x[1]-0.5)**2<=r**2-(x[0]-0.5)**2 and (x[1]-0.5)**2<=r**2-(x[0]-0.5)**2\n",
    "\n",
    "# Initialize sub-domain instances\n",
    "left   = Left()\n",
    "top    = Top()\n",
    "right  = Right()\n",
    "bottom = Bottom()\n",
    "gamma  = Gamma0()\n",
    "\n",
    "# Define mesh\n",
    "mesh = UnitSquareMesh(N,N)\n",
    "\n",
    "# Initialize mesh function for interior domains\n",
    "domains = MeshFunction(\"size_t\", mesh, mesh.topology().dim())\n",
    "domains.set_all(0)         #domains 0 = all space\n",
    "gamma.mark(domains, 1)     #domains 1 = all gamma0\n",
    "\n",
    "# Initialize mesh function for boundary domains\n",
    "boundaries = MeshFunction(\"size_t\", mesh, mesh.topology().dim()-1) #1d domains\n",
    "boundaries.set_all(0)      #boundaries 0 = all boundaries\n",
    "left.mark(boundaries, 1)   #boundaries 1 = left (Neumann)\n",
    "top.mark(boundaries, 2)    #boundaries 2 = top (Dirichlet)\n",
    "right.mark(boundaries, 3)  #boundaries 3 = right (Neumann)\n",
    "bottom.mark(boundaries, 4) #boundaries 4 = bottom (Neumann parametrized)\n",
    "\n",
    "# Define function space and basis functions\n",
    "V = FunctionSpace(mesh, \"CG\", 1)\n",
    "u = TrialFunction(V)\n",
    "v = TestFunction(V)\n",
    "\n",
    "# Define Dirichlet boundary conditions at top and bottom boundaries\n",
    "bcs = [DirichletBC(V, 0.0, boundaries, 2)]\n",
    "\n",
    "# Define new measures associated with the interior domains and\n",
    "# exterior boundaries\n",
    "dx = Measure('dx', domain=mesh, subdomain_data=domains)\n",
    "ds = Measure('ds', domain=mesh, subdomain_data=boundaries)"
   ]
  },
  {
   "cell_type": "markdown",
   "metadata": {},
   "source": [
    "## Solver du problème 2D"
   ]
  },
  {
   "cell_type": "code",
   "execution_count": 3,
   "metadata": {},
   "outputs": [],
   "source": [
    "def Solver(mu):\n",
    "    # Define input data\n",
    "    mu0 = Constant(mu[0])  \n",
    "    mu1 = Constant(mu[1])\n",
    "    \n",
    "    # Separate left and right hand sides of equation\n",
    "    a0= inner(grad(u),grad(v))*dx(0)\n",
    "    def a1(mu0):\n",
    "        return inner(mu0*grad(u),grad(v))*dx(1)\n",
    "    a = a0 + a1(mu0) #+ inner(mu1*grad(u),grad(v))*ds(4)\n",
    "    L0 = v*ds(4)\n",
    "    L = mu1*L0\n",
    "    \n",
    "    # Passage en nd.array\n",
    "    A = assemble(a)\n",
    "    b = assemble(L)\n",
    "    A2 = np.copy(A.array())\n",
    "    b2 = np.copy(b.get_local())\n",
    "    \n",
    "    # Conditions de Dirichlet\n",
    "    n=0\n",
    "    niter=2\n",
    "    for i in range((N+1)**2):\n",
    "        for j in range((N+1)**2):\n",
    "            if (i == n)and(i<=int((N+1)**2)/2):\n",
    "                A2[i,:] = 0\n",
    "                A2[i,i] = 1\n",
    "                n += niter\n",
    "                niter += 1\n",
    "    \n",
    "    # Résolution du système linéaire\n",
    "    u2 = npl.solve(A2,b2)\n",
    "    \n",
    "    # Passage en dolfin.Function\n",
    "    Sol = Function(V)\n",
    "    Sol.vector().set_local(u2)\n",
    "    #c = plot(Sol)\n",
    "    #plt.colorbar(c)\n",
    "\n",
    "    return np.array([Sol,A2,b2])"
   ]
  },
  {
   "cell_type": "code",
   "execution_count": 65,
   "metadata": {},
   "outputs": [
    {
     "name": "stdout",
     "output_type": "stream",
     "text": [
      "<class 'dolfin.function.function.Function'>\n"
     ]
    }
   ],
   "source": [
    "mu_test = np.array([0.4,0.1])\n",
    "A = Solver(mu_test)[0]\n",
    "print(type(A))"
   ]
  },
  {
   "cell_type": "markdown",
   "metadata": {},
   "source": [
    "## Offline procedure"
   ]
  },
  {
   "cell_type": "code",
   "execution_count": 5,
   "metadata": {},
   "outputs": [],
   "source": [
    "def greedy_algorithm(solver, MUs, tol=1e-5, n=1):\n",
    "    # On prend un mu (au hasard) pour initialiser l'algorithme\n",
    "    #mu_1 = MUs[0]\n",
    "    #np.delete(MUs, 0)\n",
    "    U_delta_mu1 = solver(MUs[0])[0].vector().get_local()\n",
    "    \n",
    "    #U_delta_list = []\n",
    "    #for mu_loop in training_set:\n",
    "    #        U_delta_list.append(solver(mu_loop)[0].vector().get_local())\n",
    "    #        print(\"itération\")\n",
    "    rang = np.array(np.arange(0,len(MUs),1),'int')\n",
    "    np.delete(rang,0)\n",
    "    # On calcule tous les u_delta pour éviter de le refaire dans la boucle par la suite\n",
    "    U_DELTA = np.array([solver(MUs[i])[0].vector().get_local() for i in rang])\n",
    "    \n",
    "    # B est la matrice de changement de base de A_delta à A_rb\n",
    "    U_delta = np.array(U_delta_mu1)\n",
    "    B = np.copy(U_delta).reshape(len(U_delta),1)\n",
    "    \n",
    "    err = 1e10\n",
    "    #print(np.shape(U_delta))\n",
    "    \n",
    "    while err > tol and rang.shape[0] > 0:\n",
    "        \n",
    "        eta = np.zeros(rang.shape[0])\n",
    "        \n",
    "        for idx_mu in rang:\n",
    "            A_delta_mu = solver(MUs[idx_mu])[1]\n",
    "            f_delta_mu = solver(MUs[idx_mu])[2]\n",
    "        \n",
    "            u_delta_mu = U_DELTA[idx_mu]\n",
    "            \n",
    "            # A_rb_mu @ u_rb_mu = f_rb_mu\n",
    "            # A_rb_mu = B.T @ A_delta_mu @ B\n",
    "            print(\"A    : \",np.shape(A_delta_mu))\n",
    "            print(\"b    : \",np.shape(f_delta_mu))\n",
    "            print(\"Base : \",np.shape(B))\n",
    "            u_rb_mu = npl.solve(B.T.dot(A_delta_mu.dot(B)), B.T.dot(f_delta_mu))\n",
    "            \n",
    "            # Pour l'instant, eta(mu) = ||u_delta - u_rb||_L2\n",
    "            eta[idx_mu] = npl.norm(u_delta_mu - B.dot(u_rb_mu), ord=2)\n",
    "        \n",
    "        print(\"ici\")\n",
    "        # On cherche la pire approximation\n",
    "        idx_worst_mu = np.argmax(eta)\n",
    "        \n",
    "        add = np.array(U_DELTA[idx_worst_mu]).reshape(2601,1).T\n",
    "        B = np.vstack((B.T,add/npl.norm(add))).T\n",
    "        \n",
    "        np.delete(rang, idx_worst_mu)\n",
    "        np.delete(U_DELTA, idx_worst_mu)\n",
    "        \n",
    "        err = eta[idx_worst_mu]\n",
    "        \n",
    "    return B"
   ]
  },
  {
   "cell_type": "code",
   "execution_count": 6,
   "metadata": {},
   "outputs": [],
   "source": [
    "def training_set_creator(*args):\n",
    "    \"\"\"\n",
    "    args are a non-zero number of lists of size 3.\n",
    "    Example of use: we want the creation of an iteratable representing all possible elements on a n-dimensional grid\n",
    "    first dimension goes from a to b with c elements, then you pass \"[a,b,c]\" as a first argument.\n",
    "    return: n-dimensional grid on which you can iterate.\n",
    "    \n",
    "    \"\"\"\n",
    "    linspace_args = (np.linspace(arg[0],arg[1],arg[2]) for arg in args)\n",
    "    pools = [tuple(pool) for pool in linspace_args]\n",
    "    result = [[]]\n",
    "    for pool in pools:\n",
    "        result = [x+[y] for x in result for y in pool]\n",
    "    for prod in result:\n",
    "        yield tuple(prod)"
   ]
  },
  {
   "cell_type": "code",
   "execution_count": 7,
   "metadata": {},
   "outputs": [],
   "source": [
    "def reduced_solver(mu,A_q,shape):\n",
    "    \"\"\"\n",
    "    from output of pre_computer and a mu: computes A_rb and f_rb and u_rb, the solution of A_rb.u_rb=f_rb\n",
    "    \"\"\"\n",
    "    A = np.copy(A_q[1])\n",
    "    f = np.copy(A_q[3])\n",
    "    for i in range(shape):\n",
    "        A += A_q[0][i]*mu[i]\n",
    "    for i in range(shape,len(mu)):\n",
    "        f += A_q[2][i-shape]*mu[i]\n",
    "    return npl.solve(A,f)"
   ]
  },
  {
   "cell_type": "markdown",
   "metadata": {},
   "source": [
    "## Precomputer"
   ]
  },
  {
   "cell_type": "code",
   "execution_count": 8,
   "metadata": {},
   "outputs": [],
   "source": [
    "def pre_computer(Base):\n",
    "    \"\"\"\n",
    "    pre_computer take as input a reduced_base and pre_computes all quantities used for a reduced_solver.\n",
    "    output: [[A_rb^q](0<= i <=n1),A_rb^0,[f_rb^q](0<= i <=n2),f_rb^0],n\n",
    "    with A_rb = sum_(i in 0..n1){ mu[i]*A_rb^(q_1)_i } + A_rb^0\n",
    "    and  f_rb = sum_(i in n1+1..n2){ mu[i]*f_rb^(q_1)_i } + f_rb^0\n",
    "            n = n1+1\n",
    "    \"\"\"\n",
    "    #mu0 = Constant(mu[0])\n",
    "    #mu1 = Constant(mu[1])\n",
    "    # Separate left and right hand sides of equation\n",
    "    a0= inner(grad(u),grad(v))*dx(0)\n",
    "    #def a1(mu0):\n",
    "    #    return inner(grad(u),grad(v))*dx(1)\n",
    "    a1 = inner(grad(u),grad(v))*dx(1)\n",
    "\n",
    "    L0 = v*ds(4)\n",
    "    #L = mu1*L0\n",
    "    \n",
    "    A_0M = assemble(a0)\n",
    "    A_1M = assemble(a1)\n",
    "    b = assemble(L0)\n",
    "    A_0 = np.copy(A_0M.array())\n",
    "    A_1 = np.copy(A_1M.array())\n",
    "    b_0 = np.copy(b.get_local())\n",
    "    #n=0\n",
    "    #niter=2\n",
    "    #for i in range((N+1)**2):\n",
    "    #    for j in range((N+1)**2):\n",
    "    #        if (i == n)and(i<=int((N+1)**2)/2):\n",
    "    #            A_0[i,:] = 0\n",
    "    #            A_0[i,i] = 1\n",
    "    #            n += niter\n",
    "    #            niter += 1\n",
    "                \n",
    "    A0B = [Base.T.dot(A_1.dot(Base))]\n",
    "    A1B = Base.T.dot(A_0.dot(Base))\n",
    "    b1 = [Base.T.dot(b_0)]\n",
    "    b2 = Base.T.dot(np.zeros(b_0.shape))\n",
    "    \n",
    "    #At = assemble(a0 + a1(mu0))\n",
    "    #bt = assemble(L)\n",
    "    #A = np.copy(At.array())\n",
    "    #b = np.copy(bt.get_local())\n",
    "    \n",
    "    return [A0B,A1B,b1,b2],1 #[Base.T.dot(A.dot(Base)),Base.T.dot(b)],1"
   ]
  },
  {
   "cell_type": "markdown",
   "metadata": {},
   "source": [
    "## Résolution"
   ]
  },
  {
   "cell_type": "markdown",
   "metadata": {},
   "source": [
    "### Création de la base"
   ]
  },
  {
   "cell_type": "code",
   "execution_count": 10,
   "metadata": {},
   "outputs": [
    {
     "name": "stdout",
     "output_type": "stream",
     "text": [
      "A    :  (2601, 2601)\n",
      "b    :  (2601,)\n",
      "Base :  (2601, 1)\n",
      "A    :  (2601, 2601)\n",
      "b    :  (2601,)\n",
      "Base :  (2601, 1)\n",
      "A    :  (2601, 2601)\n",
      "b    :  (2601,)\n",
      "Base :  (2601, 1)\n",
      "A    :  (2601, 2601)\n",
      "b    :  (2601,)\n",
      "Base :  (2601, 1)\n",
      "A    :  (2601, 2601)\n",
      "b    :  (2601,)\n",
      "Base :  (2601, 1)\n",
      "A    :  (2601, 2601)\n",
      "b    :  (2601,)\n",
      "Base :  (2601, 1)\n",
      "A    :  (2601, 2601)\n",
      "b    :  (2601,)\n",
      "Base :  (2601, 1)\n",
      "A    :  (2601, 2601)\n",
      "b    :  (2601,)\n",
      "Base :  (2601, 1)\n",
      "A    :  (2601, 2601)\n",
      "b    :  (2601,)\n",
      "Base :  (2601, 1)\n",
      "A    :  (2601, 2601)\n",
      "b    :  (2601,)\n",
      "Base :  (2601, 1)\n",
      "ici\n",
      "A    :  (2601, 2601)\n",
      "b    :  (2601,)\n",
      "Base :  (2601, 2)\n",
      "A    :  (2601, 2601)\n",
      "b    :  (2601,)\n",
      "Base :  (2601, 2)\n",
      "A    :  (2601, 2601)\n",
      "b    :  (2601,)\n",
      "Base :  (2601, 2)\n",
      "A    :  (2601, 2601)\n",
      "b    :  (2601,)\n",
      "Base :  (2601, 2)\n",
      "A    :  (2601, 2601)\n",
      "b    :  (2601,)\n",
      "Base :  (2601, 2)\n",
      "A    :  (2601, 2601)\n",
      "b    :  (2601,)\n",
      "Base :  (2601, 2)\n",
      "A    :  (2601, 2601)\n",
      "b    :  (2601,)\n",
      "Base :  (2601, 2)\n",
      "A    :  (2601, 2601)\n",
      "b    :  (2601,)\n",
      "Base :  (2601, 2)\n",
      "A    :  (2601, 2601)\n",
      "b    :  (2601,)\n",
      "Base :  (2601, 2)\n",
      "A    :  (2601, 2601)\n",
      "b    :  (2601,)\n",
      "Base :  (2601, 2)\n",
      "ici\n",
      "A    :  (2601, 2601)\n",
      "b    :  (2601,)\n",
      "Base :  (2601, 3)\n",
      "A    :  (2601, 2601)\n",
      "b    :  (2601,)\n",
      "Base :  (2601, 3)\n",
      "A    :  (2601, 2601)\n",
      "b    :  (2601,)\n",
      "Base :  (2601, 3)\n",
      "A    :  (2601, 2601)\n",
      "b    :  (2601,)\n",
      "Base :  (2601, 3)\n",
      "A    :  (2601, 2601)\n",
      "b    :  (2601,)\n",
      "Base :  (2601, 3)\n",
      "A    :  (2601, 2601)\n",
      "b    :  (2601,)\n",
      "Base :  (2601, 3)\n",
      "A    :  (2601, 2601)\n",
      "b    :  (2601,)\n",
      "Base :  (2601, 3)\n",
      "A    :  (2601, 2601)\n",
      "b    :  (2601,)\n",
      "Base :  (2601, 3)\n",
      "A    :  (2601, 2601)\n",
      "b    :  (2601,)\n",
      "Base :  (2601, 3)\n",
      "A    :  (2601, 2601)\n",
      "b    :  (2601,)\n",
      "Base :  (2601, 3)\n",
      "ici\n",
      "A    :  (2601, 2601)\n",
      "b    :  (2601,)\n",
      "Base :  (2601, 4)\n",
      "A    :  (2601, 2601)\n",
      "b    :  (2601,)\n",
      "Base :  (2601, 4)\n",
      "A    :  (2601, 2601)\n",
      "b    :  (2601,)\n",
      "Base :  (2601, 4)\n",
      "A    :  (2601, 2601)\n",
      "b    :  (2601,)\n",
      "Base :  (2601, 4)\n",
      "A    :  (2601, 2601)\n",
      "b    :  (2601,)\n",
      "Base :  (2601, 4)\n",
      "A    :  (2601, 2601)\n",
      "b    :  (2601,)\n",
      "Base :  (2601, 4)\n",
      "A    :  (2601, 2601)\n",
      "b    :  (2601,)\n",
      "Base :  (2601, 4)\n",
      "A    :  (2601, 2601)\n",
      "b    :  (2601,)\n",
      "Base :  (2601, 4)\n",
      "A    :  (2601, 2601)\n",
      "b    :  (2601,)\n",
      "Base :  (2601, 4)\n",
      "A    :  (2601, 2601)\n",
      "b    :  (2601,)\n",
      "Base :  (2601, 4)\n",
      "ici\n",
      "A    :  (2601, 2601)\n",
      "b    :  (2601,)\n",
      "Base :  (2601, 5)\n",
      "A    :  (2601, 2601)\n",
      "b    :  (2601,)\n",
      "Base :  (2601, 5)\n",
      "A    :  (2601, 2601)\n",
      "b    :  (2601,)\n",
      "Base :  (2601, 5)\n",
      "A    :  (2601, 2601)\n",
      "b    :  (2601,)\n",
      "Base :  (2601, 5)\n",
      "A    :  (2601, 2601)\n",
      "b    :  (2601,)\n",
      "Base :  (2601, 5)\n",
      "A    :  (2601, 2601)\n",
      "b    :  (2601,)\n",
      "Base :  (2601, 5)\n",
      "A    :  (2601, 2601)\n",
      "b    :  (2601,)\n",
      "Base :  (2601, 5)\n",
      "A    :  (2601, 2601)\n",
      "b    :  (2601,)\n",
      "Base :  (2601, 5)\n",
      "A    :  (2601, 2601)\n",
      "b    :  (2601,)\n",
      "Base :  (2601, 5)\n",
      "A    :  (2601, 2601)\n",
      "b    :  (2601,)\n",
      "Base :  (2601, 5)\n",
      "ici\n",
      "A    :  (2601, 2601)\n",
      "b    :  (2601,)\n",
      "Base :  (2601, 6)\n",
      "A    :  (2601, 2601)\n",
      "b    :  (2601,)\n",
      "Base :  (2601, 6)\n",
      "A    :  (2601, 2601)\n",
      "b    :  (2601,)\n",
      "Base :  (2601, 6)\n",
      "A    :  (2601, 2601)\n",
      "b    :  (2601,)\n",
      "Base :  (2601, 6)\n",
      "A    :  (2601, 2601)\n",
      "b    :  (2601,)\n",
      "Base :  (2601, 6)\n",
      "A    :  (2601, 2601)\n",
      "b    :  (2601,)\n",
      "Base :  (2601, 6)\n",
      "A    :  (2601, 2601)\n",
      "b    :  (2601,)\n",
      "Base :  (2601, 6)\n",
      "A    :  (2601, 2601)\n",
      "b    :  (2601,)\n",
      "Base :  (2601, 6)\n",
      "A    :  (2601, 2601)\n",
      "b    :  (2601,)\n",
      "Base :  (2601, 6)\n",
      "A    :  (2601, 2601)\n",
      "b    :  (2601,)\n",
      "Base :  (2601, 6)\n",
      "ici\n"
     ]
    }
   ],
   "source": [
    "T0 = np.array([1,10,10])\n",
    "T1 = np.array([-1,1,10])\n",
    "training_set = training_set_creator(T0,T1)\n",
    "test = np.zeros((10,2))\n",
    "for i in range(10):\n",
    "    test[i] = np.copy([0.1 + i*0.99,-1 + i* 0.2])\n",
    "Base = greedy_algorithm(Solver,test)"
   ]
  },
  {
   "cell_type": "code",
   "execution_count": 11,
   "metadata": {},
   "outputs": [
    {
     "name": "stdout",
     "output_type": "stream",
     "text": [
      "(2601, 7)\n"
     ]
    }
   ],
   "source": [
    "print(np.shape(Base))"
   ]
  },
  {
   "cell_type": "markdown",
   "metadata": {},
   "source": [
    "### Truth solution for mu_test & évaluation du temps mis"
   ]
  },
  {
   "cell_type": "code",
   "execution_count": 90,
   "metadata": {},
   "outputs": [],
   "source": [
    "mu_test = np.array([10,1])"
   ]
  },
  {
   "cell_type": "code",
   "execution_count": 91,
   "metadata": {},
   "outputs": [
    {
     "name": "stdout",
     "output_type": "stream",
     "text": [
      "CPU times: user 2.3 s, sys: 129 ms, total: 2.43 s\n",
      "Wall time: 1.23 s\n"
     ]
    }
   ],
   "source": [
    "%%time\n",
    "\n",
    "U_true = Solver(mu_test)[0]"
   ]
  },
  {
   "cell_type": "code",
   "execution_count": 35,
   "metadata": {},
   "outputs": [
    {
     "data": {
      "image/png": "[encoded data removed]",
      "text/plain": [
       "<Figure size 432x288 with 2 Axes>"
      ]
     },
     "metadata": {
      "needs_background": "light"
     },
     "output_type": "display_data"
    }
   ],
   "source": [
    "c = plot(U_true)\n",
    "plt.title(\"True solution\")\n",
    "plt.colorbar(c)\n",
    "plt.show()"
   ]
  },
  {
   "cell_type": "markdown",
   "metadata": {},
   "source": [
    "### Online procedure ne dépendant pas de mu"
   ]
  },
  {
   "cell_type": "code",
   "execution_count": 92,
   "metadata": {},
   "outputs": [],
   "source": [
    "A_q,shape = pre_computer(Base)"
   ]
  },
  {
   "cell_type": "markdown",
   "metadata": {},
   "source": [
    "### Résolution en base réduite & évaluation du temps"
   ]
  },
  {
   "cell_type": "code",
   "execution_count": 126,
   "metadata": {},
   "outputs": [
    {
     "name": "stdout",
     "output_type": "stream",
     "text": [
      "CPU times: user 0 ns, sys: 1.6 ms, total: 1.6 ms\n",
      "Wall time: 9.48 ms\n"
     ]
    }
   ],
   "source": [
    "%%time\n",
    "mu_test_rb = np.array([0.01,1.5])\n",
    "U_rb = reduced_solver(mu_test_rb,A_q,shape)"
   ]
  },
  {
   "cell_type": "code",
   "execution_count": 127,
   "metadata": {},
   "outputs": [
    {
     "name": "stdout",
     "output_type": "stream",
     "text": [
      "(2601,)\n"
     ]
    },
    {
     "data": {
      "image/png": "[encoded data removed]",
      "text/plain": [
       "<Figure size 432x288 with 2 Axes>"
      ]
     },
     "metadata": {
      "needs_background": "light"
     },
     "output_type": "display_data"
    }
   ],
   "source": [
    "RES = Base.dot(U_rb)\n",
    "print(np.shape(RES))\n",
    "urb = Function(V)\n",
    "urb.vector().set_local(RES)\n",
    "e = plot(urb)\n",
    "plt.title('Urb')\n",
    "plt.colorbar(e)\n",
    "plt.show()"
   ]
  },
  {
   "cell_type": "code",
   "execution_count": 129,
   "metadata": {},
   "outputs": [
    {
     "name": "stdout",
     "output_type": "stream",
     "text": [
      "CPU times: user 2.29 s, sys: 118 ms, total: 2.41 s\n",
      "Wall time: 1.12 s\n"
     ]
    }
   ],
   "source": [
    "%%time\n",
    "U_true = Solver(np.array([0.01,1.5]))[0]"
   ]
  },
  {
   "cell_type": "code",
   "execution_count": 130,
   "metadata": {},
   "outputs": [
    {
     "data": {
      "image/png": "[encoded data removed]",
      "text/plain": [
       "<Figure size 432x288 with 2 Axes>"
      ]
     },
     "metadata": {
      "needs_background": "light"
     },
     "output_type": "display_data"
    }
   ],
   "source": [
    "c = plot(U_true)\n",
    "plt.title(\"True solution\")\n",
    "plt.colorbar(c)\n",
    "plt.show()"
   ]
  },
  {
   "cell_type": "code",
   "execution_count": 131,
   "metadata": {},
   "outputs": [
    {
     "name": "stdout",
     "output_type": "stream",
     "text": [
      "(2601,)\n",
      "0.0029586455645350053\n"
     ]
    }
   ],
   "source": [
    "RES = Base.dot(U_rb)\n",
    "print(np.shape(RES))\n",
    "\n",
    "#utmp = Function(V)\n",
    "#a = plot(utmp)\n",
    "#utmp.vector().set_local(RES)\n",
    "#a = plot(utmp)\n",
    "#plt.colorbar(a)\n",
    "#plt.title(\"Urb\")\n",
    "#plt.show()\n",
    "\n",
    "\n",
    "\n",
    "#plt.plot(X,Base.dot(U_rb),label=\"reduced_sol\")\n",
    "#plt.legend()\n",
    "#plt.show()\n",
    "udiff = Function(V)\n",
    "udiff = U_true.vector() - urb.vector()\n",
    "print(norm(udiff))  ## NORME FENICS\n",
    "#print((npl.norm(U_true.vector().get_local()-RES)))"
   ]
  },
  {
   "cell_type": "code",
   "execution_count": null,
   "metadata": {},
   "outputs": [],
   "source": []
  }
 ],
 "metadata": {
  "kernelspec": {
   "display_name": "Python 3",
   "language": "python",
   "name": "python3"
  },
  "language_info": {
   "codemirror_mode": {
    "name": "ipython",
    "version": 3
   },
   "file_extension": ".py",
   "mimetype": "text/x-python",
   "name": "python",
   "nbconvert_exporter": "python",
   "pygments_lexer": "ipython3",
   "version": "3.8.2"
  }
 },
 "nbformat": 4,
 "nbformat_minor": 4
}
