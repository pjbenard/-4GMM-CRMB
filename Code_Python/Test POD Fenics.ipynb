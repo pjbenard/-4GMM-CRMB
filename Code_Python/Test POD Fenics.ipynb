{
 "cells": [
  {
   "cell_type": "code",
   "execution_count": 1,
   "metadata": {},
   "outputs": [],
   "source": [
    "import numpy as np\n",
    "import numpy.linalg as npl\n",
    "import scipy as sp\n",
    "import scipy.sparse.linalg as spspl\n",
    "import matplotlib.pyplot as plt"
   ]
  },
  {
   "cell_type": "markdown",
   "metadata": {},
   "source": [
    "## partie fenics"
   ]
  },
  {
   "cell_type": "code",
   "execution_count": 2,
   "metadata": {},
   "outputs": [
    {
     "name": "stdout",
     "output_type": "stream",
     "text": [
      "Populating the interactive namespace from numpy and matplotlib\n"
     ]
    }
   ],
   "source": [
    "%pylab inline\n",
    "from dolfin import *\n",
    "import numpy as np\n",
    "import matplotlib.pyplot as plt\n",
    "import numpy.linalg as npl"
   ]
  },
  {
   "cell_type": "code",
   "execution_count": 79,
   "metadata": {},
   "outputs": [],
   "source": [
    "def Solver(mu,N=50,r=0.3):\n",
    "\n",
    "    # Create classes for defining parts of the boundaries and the interior\n",
    "    # of the domain\n",
    "    class Left(SubDomain):\n",
    "        def inside(self, x, on_boundary):\n",
    "            return near(x[0], 0.0)\n",
    "\n",
    "    class Right(SubDomain):\n",
    "        def inside(self, x, on_boundary):\n",
    "            return near(x[0], 1.0)\n",
    "\n",
    "    class Bottom(SubDomain):\n",
    "        def inside(self, x, on_boundary):\n",
    "            return near(x[1], 0.0)\n",
    "\n",
    "    class Top(SubDomain):\n",
    "        def inside(self, x, on_boundary):\n",
    "            return near(x[1], 1.0)\n",
    "\n",
    "    class Gamma0(SubDomain):\n",
    "        def inside(self, x, on_boundary):\n",
    "            return (x[1]-0.5)**2<=r**2-(x[0]-0.5)**2 and (x[1]-0.5)**2<=r**2-(x[0]-0.5)**2\n",
    "\n",
    "    # Initialize sub-domain instances\n",
    "    left   = Left()\n",
    "    top    = Top()\n",
    "    right  = Right()\n",
    "    bottom = Bottom()\n",
    "    gamma  = Gamma0()\n",
    "\n",
    "    # Define mesh\n",
    "    mesh = UnitSquareMesh(N,N)\n",
    "\n",
    "    # Initialize mesh function for interior domains\n",
    "    domains = MeshFunction(\"size_t\", mesh, mesh.topology().dim())\n",
    "    domains.set_all(0)         #domains 0 = all space\n",
    "    gamma.mark(domains, 1)     #domains 1 = all gamma0\n",
    "\n",
    "    # Initialize mesh function for boundary domains\n",
    "    boundaries = MeshFunction(\"size_t\", mesh, mesh.topology().dim()-1) #1d domains\n",
    "    boundaries.set_all(0)      #boundaries 0 = all boundaries\n",
    "    left.mark(boundaries, 1)   #boundaries 1 = left (Neumann)\n",
    "    top.mark(boundaries, 2)    #boundaries 2 = top (Dirichlet)\n",
    "    right.mark(boundaries, 3)  #boundaries 3 = right (Neumann)\n",
    "    bottom.mark(boundaries, 4) #boundaries 4 = bottom (Neumann parametrized)\n",
    "\n",
    "    # Define input data\n",
    "    mu0 = Constant(mu[0])  \n",
    "    mu1 = Constant(mu[1])\n",
    "\n",
    "    # Define function space and basis functions\n",
    "    V = FunctionSpace(mesh, \"CG\", 1)\n",
    "    u = TrialFunction(V)\n",
    "    v = TestFunction(V)\n",
    "\n",
    "    # Define Dirichlet boundary conditions at top and bottom boundaries\n",
    "    bcs = [DirichletBC(V, 0.0, boundaries, 2)]\n",
    "\n",
    "    # Define new measures associated with the interior domains and\n",
    "    # exterior boundaries\n",
    "    dx = Measure('dx', domain=mesh, subdomain_data=domains)\n",
    "    ds = Measure('ds', domain=mesh, subdomain_data=boundaries)\n",
    "\n",
    "    # Separate left and right hand sides of equation\n",
    "    a0= inner(grad(u),grad(v))*dx(0)\n",
    "    def a1(mu0):\n",
    "        return inner(mu0*grad(u),grad(v))*dx(1)\n",
    "    a = a0 + a1(mu0) #+ inner(mu1*grad(u),grad(v))*ds(4)\n",
    "    L0 = v*ds(4)\n",
    "    L = mu1*L0\n",
    "    \n",
    "    A = assemble(a)\n",
    "    b = assemble(L)\n",
    "    A2 = np.copy(A.array())\n",
    "    b2 = np.copy(b.get_local())\n",
    "    #A2[0,:] = 0\n",
    "    #A2[0,0] = 1\n",
    "    #A2[2,:] = 0\n",
    "    #A2[2,2] = 1\n",
    "    #A2[8,:] = 0\n",
    "    #A2[8,8] = 1\n",
    "    \n",
    "    n=0\n",
    "    niter=2\n",
    "    for i in range((N+1)**2):\n",
    "        for j in range((N+1)**2):\n",
    "            if (i == n)and(i<=int((N+1)**2)/2):\n",
    "                A2[i,:] = 0\n",
    "                A2[i,i] = 1\n",
    "                n += niter\n",
    "                niter += 1\n",
    "    \n",
    "    #A2[:N+1,:N+1] = np.eye((N+1))\n",
    "    #A2[-N-1:,-N-1:] = np.eye((N+1))\n",
    "    #A2[0,1:] = 0\n",
    "    #A2[0,0] = 1\n",
    "    #A2[1:,0] = 0\n",
    "    #print(A2)\n",
    "    #b2[:N+1] = 0\n",
    "    #b2[-N-1:] = 0\n",
    "    u2 = npl.solve(A2,b2)\n",
    "    u2arr = u2.reshape(N+1,N+1)\n",
    "    #plt.imshow(u2arr)\n",
    "    #plt.colorbar()\n",
    "    \n",
    "    # Solve problem\n",
    "    u = Function(V)\n",
    "    u.vector().set_local(u2)\n",
    "    #solve(a == L, u, bcs)\n",
    "    #plot(mesh)\n",
    "    c = plot(u)\n",
    "    plt.colorbar(c)\n",
    "\n",
    "    return np.array([u,A2,b2]) #[a,L,bcs,u]"
   ]
  },
  {
   "cell_type": "code",
   "execution_count": 80,
   "metadata": {},
   "outputs": [
    {
     "name": "stdout",
     "output_type": "stream",
     "text": [
      "[[ 1.   0.   0.  ...  0.   0.   0. ]\n",
      " [-0.5  2.   0.  ...  0.   0.   0. ]\n",
      " [ 0.   0.   1.  ...  0.   0.   0. ]\n",
      " ...\n",
      " [ 0.   0.   0.  ...  2.   0.  -0.5]\n",
      " [ 0.   0.   0.  ...  0.   2.  -0.5]\n",
      " [ 0.   0.   0.  ... -0.5 -0.5  1. ]]\n"
     ]
    },
    {
     "data": {
      "image/png": "[encoded data removed]",
      "text/plain": [
       "<Figure size 432x288 with 2 Axes>"
      ]
     },
     "metadata": {
      "needs_background": "light"
     },
     "output_type": "display_data"
    }
   ],
   "source": [
    "u = Solver(np.array([10,0.5]),r=0.3,N=50)\n",
    "print(u[1])\n",
    "#print(\"Type de A : \",type(A))\n",
    "\n",
    "#plt.plot(B.reshape(2601)-A.vector().get_local())"
   ]
  },
  {
   "cell_type": "markdown",
   "metadata": {},
   "source": [
    "## offline procedure\n",
    "(not dependant of the problem)"
   ]
  },
  {
   "cell_type": "code",
   "execution_count": null,
   "metadata": {},
   "outputs": [],
   "source": []
  },
  {
   "cell_type": "code",
   "execution_count": 5,
   "metadata": {},
   "outputs": [],
   "source": [
    "def POD_offline_procedure(total_model_solver,training_set,tol,plot = False):\n",
    "    U_delta_list = []\n",
    "    for mu_loop in training_set:\n",
    "        if plot:\n",
    "            coucou = total_model_solver(mu_loop)       #plus de False ou True\n",
    "            plt.plot(coucou[0],coucou[1],label = str(mu_loop))\n",
    "            U_delta_list.append(coucou[1])\n",
    "        else:\n",
    "            U_delta_list.append(total_model_solver(mu_loop)[0].vector().get_local())\n",
    "            print(\"itération\")\n",
    "    if plot:\n",
    "        #plt.legend()\n",
    "        plt.title(\"all different solutions for mu in training_set\")\n",
    "        plt.show()\n",
    "    U_delta = np.array(U_delta_list)\n",
    "    U,S,V = svd(U_delta)\n",
    "    cumul_relat_vp = 0\n",
    "    sum_vp = np.sum(S)\n",
    "    for rank,vp in enumerate(S):\n",
    "        cumul_relat_vp += vp/sum_vp\n",
    "        if 1-cumul_relat_vp < tol:\n",
    "            tronk_rank = rank\n",
    "            break\n",
    "    U_tr = U[:,:tronk_rank+1]\n",
    "    return U_delta.T.dot(U_tr),1-cumul_relat_vp"
   ]
  },
  {
   "cell_type": "code",
   "execution_count": 6,
   "metadata": {},
   "outputs": [],
   "source": [
    "def svd(U_delta):\n",
    "    \"\"\"\n",
    "    This is not a simple svd, it's a svd-based algorithm described in \n",
    "    \"Linear algebra box: Proper Orthogonal Decomposition (POD)\" p.33\n",
    "    \"\"\"\n",
    "    N,M = U_delta.shape\n",
    "    wU = U_delta/np.sqrt(M)\n",
    "    U,s,V = npl.svd(wU,False)\n",
    "    S = s**2\n",
    "    return U,S,V"
   ]
  },
  {
   "cell_type": "code",
   "execution_count": 7,
   "metadata": {},
   "outputs": [],
   "source": [
    "def training_set_creator(*args):\n",
    "    \"\"\"\n",
    "    args are a non-zero number of lists of size 3.\n",
    "    Example of use: we want the creation of an iteratable representing all possible elements on a n-dimensional grid\n",
    "    first dimension goes from a to b with c elements, then you pass \"[a,b,c]\" as a first argument.\n",
    "    return: n-dimensional grid on which you can iterate.\n",
    "    \n",
    "    \"\"\"\n",
    "    linspace_args = (np.linspace(arg[0],arg[1],arg[2]) for arg in args)\n",
    "    pools = [tuple(pool) for pool in linspace_args]\n",
    "    result = [[]]\n",
    "    for pool in pools:\n",
    "        result = [x+[y] for x in result for y in pool]\n",
    "    for prod in result:\n",
    "        yield tuple(prod)"
   ]
  },
  {
   "cell_type": "code",
   "execution_count": 75,
   "metadata": {},
   "outputs": [],
   "source": [
    "def reduced_solver(mu,A_q,shape):\n",
    "    \"\"\"\n",
    "    from output of pre_computer and a mu: computes A_rb and f_rb and u_rb, the solution of A_rb.u_rb=f_rb\n",
    "    \"\"\"\n",
    "    A = A_q[1]\n",
    "    f = A_q[3]\n",
    "    for i in range(shape):\n",
    "        A += A_q[0][i]#*mu[i]\n",
    "    for i in range(shape,len(mu)):\n",
    "        f += A_q[2][i-shape]#*mu[i]\n",
    "    return npl.solve(A,f)"
   ]
  },
  {
   "cell_type": "markdown",
   "metadata": {},
   "source": [
    "## Problem-dependant part\n",
    "(solver is the true solver, pre_computes creates A_rb^q matrices and f_rb^q vectors)"
   ]
  },
  {
   "cell_type": "code",
   "execution_count": 69,
   "metadata": {},
   "outputs": [],
   "source": [
    "def pre_computer(Base,mu,N=50,r=0.3):\n",
    "    class Left(SubDomain):\n",
    "        def inside(self, x, on_boundary):\n",
    "            return near(x[0], 0.0)\n",
    "    class Right(SubDomain):\n",
    "        def inside(self, x, on_boundary):\n",
    "            return near(x[0], 1.0)\n",
    "    class Bottom(SubDomain):\n",
    "        def inside(self, x, on_boundary):\n",
    "            return near(x[1], 0.0)\n",
    "    class Top(SubDomain):\n",
    "        def inside(self, x, on_boundary):\n",
    "            return near(x[1], 1.0)\n",
    "    class Gamma0(SubDomain):\n",
    "        def inside(self, x, on_boundary):\n",
    "            return (x[1]-0.5)**2<=r**2-(x[0]-0.5)**2 and (x[1]-0.5)**2<=r**2-(x[0]-0.5)**2\n",
    "    left   = Left()\n",
    "    top    = Top()\n",
    "    right  = Right()\n",
    "    bottom = Bottom()\n",
    "    gamma  = Gamma0()\n",
    "    mesh = UnitSquareMesh(N,N)\n",
    "    domains = MeshFunction(\"size_t\", mesh, mesh.topology().dim())\n",
    "    domains.set_all(0)         #domains 0 = all space\n",
    "    gamma.mark(domains, 1)     #domains 1 = all gamma0\n",
    "    boundaries = MeshFunction(\"size_t\", mesh, mesh.topology().dim()-1) #1d domains\n",
    "    boundaries.set_all(0)      #boundaries 0 = all boundaries\n",
    "    left.mark(boundaries, 1)   #boundaries 1 = left (Neumann)\n",
    "    top.mark(boundaries, 2)    #boundaries 2 = top (Dirichlet)\n",
    "    right.mark(boundaries, 3)  #boundaries 3 = right (Neumann)\n",
    "    bottom.mark(boundaries, 4) #boundaries 4 = bottom (Neumann parametrized)\n",
    "    mu0 = Constant(mu[0])  \n",
    "    mu1 = Constant(mu[1])\n",
    "\n",
    "    # Define function space and basis functions\n",
    "    V = FunctionSpace(mesh, \"CG\", 1)\n",
    "    u = TrialFunction(V)\n",
    "    v = TestFunction(V)\n",
    "\n",
    "    # Define Dirichlet boundary conditions at top and bottom boundaries\n",
    "    bcs = [DirichletBC(V, 0.0, boundaries, 2)]\n",
    "\n",
    "    # Define new measures associated with the interior domains and\n",
    "    # exterior boundaries\n",
    "    dx = Measure('dx', domain=mesh, subdomain_data=domains)\n",
    "    ds = Measure('ds', domain=mesh, subdomain_data=boundaries)\n",
    "\n",
    "    # Separate left and right hand sides of equation\n",
    "    a0= inner(grad(u),grad(v))*dx(0)\n",
    "    def a1(mu0):\n",
    "        return inner(mu0*grad(u),grad(v))*dx(1)\n",
    "\n",
    "    L0 = v*ds(4)\n",
    "    L = mu1*L0\n",
    "    \n",
    "    A_0M = assemble(a0)\n",
    "    A_1M = assemble(a1(mu0))\n",
    "    b = assemble(L)\n",
    "    A_0 = np.copy(A_0M.array())\n",
    "    A_1 = np.copy(A_1M.array())\n",
    "    b_0 = np.copy(b.get_local())\n",
    "    n=0\n",
    "    niter=2\n",
    "    for i in range((N+1)**2):\n",
    "        for j in range((N+1)**2):\n",
    "            if (i == n)and(i<=int((N+1)**2)/2):\n",
    "                A_0[i,:] = 0\n",
    "                A_0[i,i] = 1\n",
    "                n += niter\n",
    "                niter += 1\n",
    "                \n",
    "    print((A_0.dot(Base).shape))\n",
    "    A0B = [Base.T.dot(A_0.dot(Base))]\n",
    "    A1B = Base.T.dot(A_1.dot(Base))\n",
    "    b1 = [Base.T.dot(b_0)]\n",
    "    b2 = Base.T.dot(np.zeros(b_0.shape))\n",
    "    \n",
    "    return [A0B,A1B,b1,b2],1"
   ]
  },
  {
   "cell_type": "code",
   "execution_count": 70,
   "metadata": {},
   "outputs": [],
   "source": [
    "r = 0.3\n",
    "N= 50\n",
    "class Left(SubDomain):\n",
    "    def inside(self, x, on_boundary):\n",
    "        return near(x[0], 0.0)\n",
    "class Right(SubDomain):\n",
    "    def inside(self, x, on_boundary):\n",
    "        return near(x[0], 1.0)\n",
    "class Bottom(SubDomain):\n",
    "    def inside(self, x, on_boundary):\n",
    "        return near(x[1], 0.0)\n",
    "class Top(SubDomain):\n",
    "    def inside(self, x, on_boundary):\n",
    "        return near(x[1], 1.0)\n",
    "class Gamma0(SubDomain):\n",
    "    def inside(self, x, on_boundary):\n",
    "        return (x[1]-0.5)**2<=r**2-(x[0]-0.5)**2 and (x[1]-0.5)**2<=r**2-(x[0]-0.5)**2\n",
    "left   = Left()\n",
    "top    = Top()\n",
    "right  = Right()\n",
    "bottom = Bottom()\n",
    "gamma  = Gamma0()\n",
    "mesh = UnitSquareMesh(N,N)\n",
    "domains = MeshFunction(\"size_t\", mesh, mesh.topology().dim())\n",
    "domains.set_all(0)         #domains 0 = all space\n",
    "gamma.mark(domains, 1)     #domains 1 = all gamma0\n",
    "boundaries = MeshFunction(\"size_t\", mesh, mesh.topology().dim()-1) #1d domains\n",
    "boundaries.set_all(0)      #boundaries 0 = all boundaries\n",
    "left.mark(boundaries, 1)   #boundaries 1 = left (Neumann)\n",
    "top.mark(boundaries, 2)    #boundaries 2 = top (Dirichlet)\n",
    "right.mark(boundaries, 3)  #boundaries 3 = right (Neumann)\n",
    "bottom.mark(boundaries, 4) #boundaries 4 = bottom (Neumann parametrized)\n",
    "# Define function space and basis functions\n",
    "V = FunctionSpace(mesh, \"CG\", 1)"
   ]
  },
  {
   "cell_type": "code",
   "execution_count": 47,
   "metadata": {},
   "outputs": [
    {
     "name": "stdout",
     "output_type": "stream",
     "text": [
      "itération\n",
      "itération\n",
      "itération\n",
      "itération\n",
      "itération\n",
      "itération\n",
      "itération\n",
      "itération\n",
      "itération\n",
      "itération\n",
      "itération\n",
      "itération\n",
      "itération\n",
      "itération\n",
      "itération\n",
      "itération\n",
      "itération\n",
      "itération\n",
      "itération\n",
      "itération\n",
      "itération\n",
      "itération\n",
      "itération\n",
      "itération\n",
      "itération\n",
      "itération\n",
      "itération\n",
      "itération\n",
      "itération\n",
      "itération\n",
      "itération\n",
      "itération\n",
      "itération\n",
      "itération\n",
      "itération\n",
      "itération\n",
      "itération\n",
      "itération\n",
      "itération\n",
      "itération\n",
      "itération\n",
      "itération\n",
      "itération\n",
      "itération\n",
      "itération\n",
      "itération\n",
      "itération\n",
      "itération\n",
      "itération\n",
      "itération\n",
      "itération\n",
      "itération\n",
      "itération\n",
      "itération\n",
      "itération\n",
      "itération\n",
      "itération\n",
      "itération\n",
      "itération\n",
      "itération\n",
      "itération\n",
      "itération\n",
      "itération\n",
      "itération\n",
      "itération\n",
      "itération\n",
      "itération\n",
      "itération\n",
      "itération\n",
      "itération\n",
      "itération\n",
      "itération\n",
      "itération\n",
      "itération\n",
      "itération\n",
      "itération\n",
      "itération\n",
      "itération\n",
      "itération\n",
      "itération\n",
      "itération\n",
      "itération\n",
      "itération\n",
      "itération\n",
      "itération\n",
      "itération\n",
      "itération\n",
      "itération\n",
      "itération\n",
      "itération\n",
      "itération\n",
      "itération\n",
      "itération\n",
      "itération\n",
      "itération\n",
      "itération\n",
      "itération\n",
      "itération\n",
      "itération\n",
      "itération\n"
     ]
    },
    {
     "data": {
      "image/png": "[encoded data removed]",
      "text/plain": [
       "<Figure size 432x288 with 101 Axes>"
      ]
     },
     "metadata": {
      "needs_background": "light"
     },
     "output_type": "display_data"
    }
   ],
   "source": [
    "T0 = np.array([1,10,10])\n",
    "T1 = np.array([-1,1,10])\n",
    "training_set = training_set_creator(T0,T1)\n",
    "Base,error = POD_offline_procedure(Solver,training_set,0.01)"
   ]
  },
  {
   "cell_type": "code",
   "execution_count": 77,
   "metadata": {},
   "outputs": [
    {
     "data": {
      "image/png": "[encoded data removed]",
      "text/plain": [
       "<Figure size 432x288 with 2 Axes>"
      ]
     },
     "metadata": {
      "needs_background": "light"
     },
     "output_type": "display_data"
    }
   ],
   "source": [
    "### From Base, fast evaluates u_rb(mu_test)\n",
    "\n",
    "mu_test = np.array([1,1])\n",
    "U_true = Solver(mu_test)[0]\n",
    "c = plot(U_true)\n",
    "plt.title(\"True solution\")\n",
    "plt.show()\n",
    "#jusqu'ici ça marche"
   ]
  },
  {
   "cell_type": "code",
   "execution_count": 78,
   "metadata": {},
   "outputs": [
    {
     "name": "stdout",
     "output_type": "stream",
     "text": [
      "(2601, 1)\n",
      "(2601,)\n"
     ]
    },
    {
     "data": {
      "image/png": "[encoded data removed]",
      "text/plain": [
       "<Figure size 432x288 with 2 Axes>"
      ]
     },
     "metadata": {
      "needs_background": "light"
     },
     "output_type": "display_data"
    },
    {
     "name": "stdout",
     "output_type": "stream",
     "text": [
      "0.14166056564345397\n"
     ]
    }
   ],
   "source": [
    "#pre_computer à coder du coup\n",
    "mu_test = np.array([1,1])\n",
    "A_q,shape = pre_computer(Base,mu_test)\n",
    "\n",
    "U_rb = reduced_solver(mu_test,A_q,shape)\n",
    "\n",
    "print(np.shape(Base.dot(U_rb)))\n",
    "\n",
    "utmp = Function(V)\n",
    "utmp.vector().set_local(Base.dot(U_rb))\n",
    "aah = plot(utmp)\n",
    "plt.colorbar(aah)\n",
    "plt.title(\"Urb\")\n",
    "plt.show()\n",
    "\n",
    "\n",
    "\n",
    "#plt.plot(X,Base.dot(U_rb),label=\"reduced_sol\")\n",
    "#plt.legend()\n",
    "#plt.show()\n",
    "print((np.max(U_true.vector().get_local()-Base.dot(U_rb))))"
   ]
  },
  {
   "cell_type": "code",
   "execution_count": null,
   "metadata": {},
   "outputs": [],
   "source": []
  },
  {
   "cell_type": "code",
   "execution_count": null,
   "metadata": {},
   "outputs": [],
   "source": []
  }
 ],
 "metadata": {
  "kernelspec": {
   "display_name": "Python 3",
   "language": "python",
   "name": "python3"
  },
  "language_info": {
   "codemirror_mode": {
    "name": "ipython",
    "version": 3
   },
   "file_extension": ".py",
   "mimetype": "text/x-python",
   "name": "python",
   "nbconvert_exporter": "python",
   "pygments_lexer": "ipython3",
   "version": "3.8.2"
  }
 },
 "nbformat": 4,
 "nbformat_minor": 2
}
