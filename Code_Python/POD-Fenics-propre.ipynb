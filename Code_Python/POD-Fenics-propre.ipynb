{
 "cells": [
  {
   "cell_type": "code",
   "execution_count": null,
   "metadata": {},
   "outputs": [],
   "source": [
    "import numpy as np\n",
    "import numpy.linalg as npl\n",
    "import scipy as sp\n",
    "import scipy.sparse.linalg as spspl\n",
    "import matplotlib.pyplot as plt\n",
    "%pylab inline\n",
    "from dolfin import *"
   ]
  },
  {
   "cell_type": "markdown",
   "metadata": {},
   "source": [
    "## Définition des classes et paramètres"
   ]
  },
  {
   "cell_type": "code",
   "execution_count": 2,
   "metadata": {},
   "outputs": [
    {
     "ename": "NameError",
     "evalue": "name 'SubDomain' is not defined",
     "output_type": "error",
     "traceback": [
      "\u001b[0;31m---------------------------------------------------------------------------\u001b[0m",
      "\u001b[0;31mNameError\u001b[0m                                 Traceback (most recent call last)",
      "\u001b[0;32m<ipython-input-2-74821a5a10cf>\u001b[0m in \u001b[0;36m<module>\u001b[0;34m\u001b[0m\n\u001b[1;32m      6\u001b[0m \u001b[0;34m\u001b[0m\u001b[0m\n\u001b[1;32m      7\u001b[0m \u001b[0;31m# Classes des domaines\u001b[0m\u001b[0;34m\u001b[0m\u001b[0;34m\u001b[0m\u001b[0;34m\u001b[0m\u001b[0m\n\u001b[0;32m----> 8\u001b[0;31m \u001b[0;32mclass\u001b[0m \u001b[0mLeft\u001b[0m\u001b[0;34m(\u001b[0m\u001b[0mSubDomain\u001b[0m\u001b[0;34m)\u001b[0m\u001b[0;34m:\u001b[0m\u001b[0;34m\u001b[0m\u001b[0;34m\u001b[0m\u001b[0m\n\u001b[0m\u001b[1;32m      9\u001b[0m     \u001b[0;32mdef\u001b[0m \u001b[0minside\u001b[0m\u001b[0;34m(\u001b[0m\u001b[0mself\u001b[0m\u001b[0;34m,\u001b[0m \u001b[0mx\u001b[0m\u001b[0;34m,\u001b[0m \u001b[0mon_boundary\u001b[0m\u001b[0;34m)\u001b[0m\u001b[0;34m:\u001b[0m\u001b[0;34m\u001b[0m\u001b[0;34m\u001b[0m\u001b[0m\n\u001b[1;32m     10\u001b[0m         \u001b[0;32mreturn\u001b[0m \u001b[0mnear\u001b[0m\u001b[0;34m(\u001b[0m\u001b[0mx\u001b[0m\u001b[0;34m[\u001b[0m\u001b[0;36m0\u001b[0m\u001b[0;34m]\u001b[0m\u001b[0;34m,\u001b[0m \u001b[0;36m0.0\u001b[0m\u001b[0;34m)\u001b[0m\u001b[0;34m\u001b[0m\u001b[0;34m\u001b[0m\u001b[0m\n",
      "\u001b[0;31mNameError\u001b[0m: name 'SubDomain' is not defined"
     ]
    }
   ],
   "source": [
    "# Rayon du disque\n",
    "r = 0.3\n",
    "\n",
    "# Nombre de noeuds\n",
    "N = 50\n",
    "\n",
    "# Classes des domaines\n",
    "class Left(SubDomain):\n",
    "    def inside(self, x, on_boundary):\n",
    "        return near(x[0], 0.0)\n",
    "class Right(SubDomain):\n",
    "    def inside(self, x, on_boundary):\n",
    "        return near(x[0], 1.0)\n",
    "class Bottom(SubDomain):\n",
    "    def inside(self, x, on_boundary):\n",
    "        return near(x[1], 0.0)\n",
    "class Top(SubDomain):\n",
    "    def inside(self, x, on_boundary):\n",
    "        return near(x[1], 1.0)\n",
    "class Gamma0(SubDomain):\n",
    "    def inside(self, x, on_boundary):\n",
    "        return (x[1]-0.5)**2<=r**2-(x[0]-0.5)**2 and (x[1]-0.5)**2<=r**2-(x[0]-0.5)**2\n",
    "\n",
    "# Initialize sub-domain instances\n",
    "left   = Left()\n",
    "top    = Top()\n",
    "right  = Right()\n",
    "bottom = Bottom()\n",
    "gamma  = Gamma0()\n",
    "\n",
    "# Define mesh\n",
    "mesh = UnitSquareMesh(N,N)\n",
    "\n",
    "# Initialize mesh function for interior domains\n",
    "domains = MeshFunction(\"size_t\", mesh, mesh.topology().dim())\n",
    "domains.set_all(0)         #domains 0 = all space\n",
    "gamma.mark(domains, 1)     #domains 1 = all gamma0\n",
    "\n",
    "# Initialize mesh function for boundary domains\n",
    "boundaries = MeshFunction(\"size_t\", mesh, mesh.topology().dim()-1) #1d domains\n",
    "boundaries.set_all(0)      #boundaries 0 = all boundaries\n",
    "left.mark(boundaries, 1)   #boundaries 1 = left (Neumann)\n",
    "top.mark(boundaries, 2)    #boundaries 2 = top (Dirichlet)\n",
    "right.mark(boundaries, 3)  #boundaries 3 = right (Neumann)\n",
    "bottom.mark(boundaries, 4) #boundaries 4 = bottom (Neumann parametrized)\n",
    "\n",
    "# Define function space and basis functions\n",
    "V = FunctionSpace(mesh, \"CG\", 1)\n",
    "u = TrialFunction(V)\n",
    "v = TestFunction(V)\n",
    "\n",
    "# Define Dirichlet boundary conditions at top and bottom boundaries\n",
    "bcs = [DirichletBC(V, 0.0, boundaries, 2)]\n",
    "\n",
    "# Define new measures associated with the interior domains and\n",
    "# exterior boundaries\n",
    "dx = Measure('dx', domain=mesh, subdomain_data=domains)\n",
    "ds = Measure('ds', domain=mesh, subdomain_data=boundaries)"
   ]
  },
  {
   "cell_type": "markdown",
   "metadata": {},
   "source": [
    "## Solver du problème 2D"
   ]
  },
  {
   "cell_type": "code",
   "execution_count": 3,
   "metadata": {},
   "outputs": [],
   "source": [
    "def Solver(mu):\n",
    "    # Define input data\n",
    "    mu0 = Constant(mu[0])  \n",
    "    mu1 = Constant(mu[1])\n",
    "    \n",
    "    # Separate left and right hand sides of equation\n",
    "    a0= inner(grad(u),grad(v))*dx(0)\n",
    "    def a1(mu0):\n",
    "        return inner(mu0*grad(u),grad(v))*dx(1)\n",
    "    a = a0 + a1(mu0) #+ inner(mu1*grad(u),grad(v))*ds(4)\n",
    "    L0 = v*ds(4)\n",
    "    L = mu1*L0\n",
    "    \n",
    "    # Passage en nd.array\n",
    "    A = assemble(a)\n",
    "    b = assemble(L)\n",
    "    A2 = np.copy(A.array())\n",
    "    b2 = np.copy(b.get_local())\n",
    "    \n",
    "    # Conditions de Dirichlet\n",
    "    n=0\n",
    "    niter=2\n",
    "    for i in range((N+1)**2):\n",
    "        for j in range((N+1)**2):\n",
    "            if (i == n)and(i<=int((N+1)**2)/2):\n",
    "                A2[i,:] = 0\n",
    "                A2[i,i] = 1\n",
    "                n += niter\n",
    "                niter += 1\n",
    "    \n",
    "    # Résolution du système linéaire\n",
    "    u2 = npl.solve(A2,b2)\n",
    "    \n",
    "    # Passage en dolfin.Function\n",
    "    Sol = Function(V)\n",
    "    Sol.vector().set_local(u2)\n",
    "    #c = plot(Sol)\n",
    "    #plt.colorbar(c)\n",
    "\n",
    "    return np.array([Sol,A2,b2])"
   ]
  },
  {
   "cell_type": "code",
   "execution_count": 4,
   "metadata": {},
   "outputs": [],
   "source": [
    "mu_test = np.array([0.4,0.1])\n",
    "A = Solver(mu_test)"
   ]
  },
  {
   "cell_type": "markdown",
   "metadata": {},
   "source": [
    "## Offline procedure"
   ]
  },
  {
   "cell_type": "code",
   "execution_count": 5,
   "metadata": {},
   "outputs": [],
   "source": [
    "def POD_offline_procedure(total_model_solver,training_set,tol,plot = False):\n",
    "    U_delta_list = []\n",
    "    for mu_loop in training_set:\n",
    "        if plot:\n",
    "            coucou = total_model_solver(mu_loop)       #plus de False ou True\n",
    "            plt.plot(coucou[0],coucou[1],label = str(mu_loop))\n",
    "            U_delta_list.append(coucou[1])\n",
    "        else:\n",
    "            U_delta_list.append(total_model_solver(mu_loop)[0].vector().get_local())\n",
    "    if plot:\n",
    "        #plt.legend()\n",
    "        plt.title(\"all different solutions for mu in training_set\")\n",
    "        plt.show()\n",
    "    U_delta = np.array(U_delta_list)\n",
    "    U,S,V = svd(U_delta)\n",
    "    cumul_relat_vp = 0\n",
    "    sum_vp = np.sum(S)\n",
    "    for rank,vp in enumerate(S):\n",
    "        cumul_relat_vp += vp/sum_vp\n",
    "        if 1-cumul_relat_vp < tol:\n",
    "            tronk_rank = rank\n",
    "            break\n",
    "    U_tr = U[:,:tronk_rank+1]\n",
    "    return U_delta.T.dot(U_tr),1-cumul_relat_vp"
   ]
  },
  {
   "cell_type": "code",
   "execution_count": 6,
   "metadata": {},
   "outputs": [],
   "source": [
    "def svd(U_delta):\n",
    "    \"\"\"\n",
    "    This is not a simple svd, it's a svd-based algorithm described in \n",
    "    \"Linear algebra box: Proper Orthogonal Decomposition (POD)\" p.33\n",
    "    \"\"\"\n",
    "    N,M = U_delta.shape\n",
    "    wU = U_delta/np.sqrt(M)\n",
    "    U,s,V = npl.svd(wU,False)\n",
    "    S = s**2\n",
    "    return U,S,V"
   ]
  },
  {
   "cell_type": "code",
   "execution_count": 7,
   "metadata": {},
   "outputs": [],
   "source": [
    "def training_set_creator(*args):\n",
    "    \"\"\"\n",
    "    args are a non-zero number of lists of size 3.\n",
    "    Example of use: we want the creation of an iteratable representing all possible elements on a n-dimensional grid\n",
    "    first dimension goes from a to b with c elements, then you pass \"[a,b,c]\" as a first argument.\n",
    "    return: n-dimensional grid on which you can iterate.\n",
    "    \n",
    "    \"\"\"\n",
    "    linspace_args = (np.linspace(arg[0],arg[1],arg[2]) for arg in args)\n",
    "    pools = [tuple(pool) for pool in linspace_args]\n",
    "    result = [[]]\n",
    "    for pool in pools:\n",
    "        result = [x+[y] for x in result for y in pool]\n",
    "    for prod in result:\n",
    "        yield tuple(prod)"
   ]
  },
  {
   "cell_type": "code",
   "execution_count": 8,
   "metadata": {},
   "outputs": [],
   "source": [
    "def reduced_solver(mu,A_q,shape):\n",
    "    \"\"\"\n",
    "    from output of pre_computer and a mu: computes A_rb and f_rb and u_rb, the solution of A_rb.u_rb=f_rb\n",
    "    \"\"\"\n",
    "    A = A_q[1]\n",
    "    f = A_q[3]\n",
    "    for i in range(shape):\n",
    "        A += A_q[0][i]*mu[i]\n",
    "    for i in range(shape,len(mu)):\n",
    "        f += A_q[2][i-shape]*mu[i]\n",
    "    return npl.solve(A,f)"
   ]
  },
  {
   "cell_type": "markdown",
   "metadata": {},
   "source": [
    "## Precomputer"
   ]
  },
  {
   "cell_type": "code",
   "execution_count": 9,
   "metadata": {},
   "outputs": [],
   "source": [
    "def pre_computer(Base):\n",
    "    \"\"\"\n",
    "    pre_computer take as input a reduced_base and pre_computes all quantities used for a reduced_solver.\n",
    "    output: [[A_rb^q](0<= i <=n1),A_rb^0,[f_rb^q](0<= i <=n2),f_rb^0],n\n",
    "    with A_rb = sum_(i in 0..n1){ mu[i]*A_rb^(q_1)_i } + A_rb^0\n",
    "    and  f_rb = sum_(i in n1+1..n2){ mu[i]*f_rb^(q_1)_i } + f_rb^0\n",
    "            n = n1+1\n",
    "    \"\"\"\n",
    "    #mu0 = Constant(mu[0])\n",
    "    #mu1 = Constant(mu[1])\n",
    "    # Separate left and right hand sides of equation\n",
    "    a0= inner(grad(u),grad(v))*dx(0)\n",
    "    #def a1(mu0):\n",
    "    #    return inner(grad(u),grad(v))*dx(1)\n",
    "    a1 = inner(grad(u),grad(v))*dx(1)\n",
    "\n",
    "    L0 = v*ds(4)\n",
    "    #L = mu1*L0\n",
    "    \n",
    "    A_0M = assemble(a0)\n",
    "    A_1M = assemble(a1)\n",
    "    b = assemble(L0)\n",
    "    A_0 = np.copy(A_0M.array())\n",
    "    A_1 = np.copy(A_1M.array())\n",
    "    b_0 = np.copy(b.get_local())\n",
    "    #n=0\n",
    "    #niter=2\n",
    "    #for i in range((N+1)**2):\n",
    "    #    for j in range((N+1)**2):\n",
    "    #        if (i == n)and(i<=int((N+1)**2)/2):\n",
    "    #            A_0[i,:] = 0\n",
    "    #            A_0[i,i] = 1\n",
    "    #            n += niter\n",
    "    #            niter += 1\n",
    "                \n",
    "    A0B = [Base.T.dot(A_1.dot(Base))]\n",
    "    A1B = Base.T.dot(A_0.dot(Base))\n",
    "    b1 = [Base.T.dot(b_0)]\n",
    "    b2 = Base.T.dot(np.zeros(b_0.shape))\n",
    "    \n",
    "    #At = assemble(a0 + a1(mu0))\n",
    "    #bt = assemble(L)\n",
    "    #A = np.copy(At.array())\n",
    "    #b = np.copy(bt.get_local())\n",
    "    \n",
    "    return [A0B,A1B,b1,b2],1 #[Base.T.dot(A.dot(Base)),Base.T.dot(b)],1"
   ]
  },
  {
   "cell_type": "markdown",
   "metadata": {},
   "source": [
    "## Résolution"
   ]
  },
  {
   "cell_type": "markdown",
   "metadata": {},
   "source": [
    "### Création de la base"
   ]
  },
  {
   "cell_type": "code",
   "execution_count": 10,
   "metadata": {},
   "outputs": [
    {
     "name": "stdout",
     "output_type": "stream",
     "text": [
      "itération\n",
      "itération\n",
      "itération\n",
      "itération\n",
      "itération\n",
      "itération\n",
      "itération\n",
      "itération\n",
      "itération\n",
      "itération\n",
      "itération\n",
      "itération\n",
      "itération\n",
      "itération\n",
      "itération\n",
      "itération\n",
      "itération\n",
      "itération\n",
      "itération\n",
      "itération\n",
      "itération\n",
      "itération\n",
      "itération\n",
      "itération\n",
      "itération\n",
      "itération\n",
      "itération\n",
      "itération\n",
      "itération\n",
      "itération\n",
      "itération\n",
      "itération\n",
      "itération\n",
      "itération\n",
      "itération\n",
      "itération\n",
      "itération\n",
      "itération\n",
      "itération\n",
      "itération\n",
      "itération\n",
      "itération\n",
      "itération\n",
      "itération\n",
      "itération\n",
      "itération\n",
      "itération\n",
      "itération\n",
      "itération\n",
      "itération\n",
      "itération\n",
      "itération\n",
      "itération\n",
      "itération\n",
      "itération\n",
      "itération\n",
      "itération\n",
      "itération\n",
      "itération\n",
      "itération\n",
      "itération\n",
      "itération\n",
      "itération\n",
      "itération\n",
      "itération\n",
      "itération\n",
      "itération\n",
      "itération\n",
      "itération\n",
      "itération\n",
      "itération\n",
      "itération\n",
      "itération\n",
      "itération\n",
      "itération\n",
      "itération\n",
      "itération\n",
      "itération\n",
      "itération\n",
      "itération\n",
      "itération\n",
      "itération\n",
      "itération\n",
      "itération\n",
      "itération\n",
      "itération\n",
      "itération\n",
      "itération\n",
      "itération\n",
      "itération\n",
      "itération\n",
      "itération\n",
      "itération\n",
      "itération\n",
      "itération\n",
      "itération\n",
      "itération\n",
      "itération\n",
      "itération\n",
      "itération\n"
     ]
    }
   ],
   "source": [
    "T0 = np.array([1,10,10])\n",
    "T1 = np.array([-1,1,10])\n",
    "training_set = training_set_creator(T0,T1)\n",
    "Base,error = POD_offline_procedure(Solver,training_set,0.0001)"
   ]
  },
  {
   "cell_type": "code",
   "execution_count": 11,
   "metadata": {},
   "outputs": [
    {
     "name": "stdout",
     "output_type": "stream",
     "text": [
      "(2601, 2)\n"
     ]
    }
   ],
   "source": [
    "print(np.shape(Base))"
   ]
  },
  {
   "cell_type": "markdown",
   "metadata": {},
   "source": [
    "### Truth solution for mu_test & évaluation du temps mis"
   ]
  },
  {
   "cell_type": "code",
   "execution_count": 12,
   "metadata": {},
   "outputs": [],
   "source": [
    "mu_test = np.array([10,1])"
   ]
  },
  {
   "cell_type": "code",
   "execution_count": 15,
   "metadata": {},
   "outputs": [
    {
     "name": "stdout",
     "output_type": "stream",
     "text": [
      "CPU times: user 2.5 s, sys: 162 ms, total: 2.66 s\n",
      "Wall time: 1.59 s\n"
     ]
    }
   ],
   "source": [
    "%%time\n",
    "\n",
    "U_true = Solver(mu_test)[0]"
   ]
  },
  {
   "cell_type": "code",
   "execution_count": 16,
   "metadata": {},
   "outputs": [
    {
     "data": {
      "image/png": "[encoded data removed]",
      "text/plain": [
       "<Figure size 432x288 with 1 Axes>"
      ]
     },
     "metadata": {
      "needs_background": "light"
     },
     "output_type": "display_data"
    }
   ],
   "source": [
    "c = plot(U_true)\n",
    "plt.title(\"True solution\")\n",
    "plt.show()"
   ]
  },
  {
   "cell_type": "markdown",
   "metadata": {},
   "source": [
    "### Online procedure ne dépendant pas de mu"
   ]
  },
  {
   "cell_type": "code",
   "execution_count": 17,
   "metadata": {},
   "outputs": [],
   "source": [
    "A_q,shape = pre_computer(Base)"
   ]
  },
  {
   "cell_type": "markdown",
   "metadata": {},
   "source": [
    "### Résolution en base réduite & évaluation du temps"
   ]
  },
  {
   "cell_type": "code",
   "execution_count": 18,
   "metadata": {},
   "outputs": [
    {
     "name": "stdout",
     "output_type": "stream",
     "text": [
      "CPU times: user 118 µs, sys: 8 µs, total: 126 µs\n",
      "Wall time: 132 µs\n"
     ]
    }
   ],
   "source": [
    "%%time\n",
    "\n",
    "U_rb = reduced_solver(mu_test,A_q,shape)"
   ]
  },
  {
   "cell_type": "code",
   "execution_count": 19,
   "metadata": {},
   "outputs": [
    {
     "name": "stdout",
     "output_type": "stream",
     "text": [
      "(2601,)\n"
     ]
    },
    {
     "data": {
      "image/png": "[encoded data removed]",
      "text/plain": [
       "<Figure size 432x288 with 2 Axes>"
      ]
     },
     "metadata": {
      "needs_background": "light"
     },
     "output_type": "display_data"
    },
    {
     "name": "stdout",
     "output_type": "stream",
     "text": [
      "3.58104079570921e-17\n"
     ]
    }
   ],
   "source": [
    "U_rb = reduced_solver(mu_test,A_q,shape)\n",
    "\n",
    "print(np.shape(Base.dot(U_rb)))\n",
    "\n",
    "utmp = Function(V)\n",
    "utmp.vector().set_local(Base.dot(U_rb))\n",
    "aah = plot(utmp)\n",
    "plt.colorbar(aah)\n",
    "plt.title(\"Urb\")\n",
    "plt.show()\n",
    "\n",
    "\n",
    "\n",
    "#plt.plot(X,Base.dot(U_rb),label=\"reduced_sol\")\n",
    "#plt.legend()\n",
    "#plt.show()\n",
    "print((np.max(U_true.vector().get_local()-Base.dot(U_rb))))"
   ]
  },
  {
   "cell_type": "code",
   "execution_count": null,
   "metadata": {},
   "outputs": [],
   "source": []
  }
 ],
 "metadata": {
  "kernelspec": {
   "display_name": "Python 3",
   "language": "python",
   "name": "python3"
  },
  "language_info": {
   "codemirror_mode": {
    "name": "ipython",
    "version": 3
   },
   "file_extension": ".py",
   "mimetype": "text/x-python",
   "name": "python",
   "nbconvert_exporter": "python",
   "pygments_lexer": "ipython3",
   "version": "3.7.6"
  }
 },
 "nbformat": 4,
 "nbformat_minor": 4
}
