{
 "cells": [
  {
   "cell_type": "code",
   "execution_count": 1,
   "metadata": {},
   "outputs": [
    {
     "name": "stdout",
     "output_type": "stream",
     "text": [
      "Populating the interactive namespace from numpy and matplotlib\n"
     ]
    }
   ],
   "source": [
    "%pylab inline\n",
    "from dolfin import *\n",
    "import numpy as np\n",
    "import matplotlib.pyplot as plt\n",
    "import numpy.linalg as npl"
   ]
  },
  {
   "cell_type": "code",
   "execution_count": 2,
   "metadata": {},
   "outputs": [],
   "source": [
    "def Solver(mu0,mu1=1,N=50,r=0.2):\n",
    "    mu = np.array([mu0,mu1])\n",
    "    # Create classes for defining parts of the boundaries and the interior\n",
    "    # of the domain\n",
    "    class Left(SubDomain):\n",
    "        def inside(self, x, on_boundary):\n",
    "            return near(x[0], 0.0)\n",
    "\n",
    "    class Right(SubDomain):\n",
    "        def inside(self, x, on_boundary):\n",
    "            return near(x[0], 1.0)\n",
    "\n",
    "    class Bottom(SubDomain):\n",
    "        def inside(self, x, on_boundary):\n",
    "            return near(x[1], 0.0)\n",
    "\n",
    "    class Top(SubDomain):\n",
    "        def inside(self, x, on_boundary):\n",
    "            return near(x[1], 1.0)\n",
    "\n",
    "    class Gamma0(SubDomain):\n",
    "        def inside(self, x, on_boundary):\n",
    "            return (x[1]-0.5)**2<=r**2-(x[0]-0.5)**2 and (x[1]-0.5)**2<=r**2-(x[0]-0.5)**2\n",
    "\n",
    "    # Initialize sub-domain instances\n",
    "    left   = Left()\n",
    "    top    = Top()\n",
    "    right  = Right()\n",
    "    bottom = Bottom()\n",
    "    gamma  = Gamma0()\n",
    "\n",
    "    # Define mesh\n",
    "    mesh = UnitSquareMesh(N,N)\n",
    "\n",
    "    # Initialize mesh function for interior domains\n",
    "    domains = MeshFunction(\"size_t\", mesh, mesh.topology().dim())\n",
    "    domains.set_all(0)         #domains 0 = all space\n",
    "    gamma.mark(domains, 1)     #domains 1 = all gamma0\n",
    "\n",
    "    # Initialize mesh function for boundary domains\n",
    "    boundaries = MeshFunction(\"size_t\", mesh, mesh.topology().dim()-1) #1d domains\n",
    "    boundaries.set_all(0)      #boundaries 0 = all boundaries\n",
    "    left.mark(boundaries, 1)   #boundaries 1 = left (Neumann)\n",
    "    top.mark(boundaries, 2)    #boundaries 2 = top (Dirichlet)\n",
    "    right.mark(boundaries, 3)  #boundaries 3 = right (Neumann)\n",
    "    bottom.mark(boundaries, 4) #boundaries 4 = bottom (Neumann parametrized)\n",
    "\n",
    "    # Define input data\n",
    "    a1 = Constant(mu[0])  \n",
    "    a2 = Constant(mu[1])\n",
    "\n",
    "    # Define function space and basis functions\n",
    "    V = FunctionSpace(mesh, \"CG\", 1)\n",
    "    u = TrialFunction(V)\n",
    "    v = TestFunction(V)\n",
    "\n",
    "    # Define Dirichlet boundary conditions at top and bottom boundaries\n",
    "    bcs = [DirichletBC(V, 0.0, boundaries, 2)]\n",
    "\n",
    "    # Define new measures associated with the interior domains and\n",
    "    # exterior boundaries\n",
    "    dx = Measure('dx', domain=mesh, subdomain_data=domains)\n",
    "    ds = Measure('ds', domain=mesh, subdomain_data=boundaries)\n",
    "\n",
    "    # Separate left and right hand sides of equation\n",
    "    a = inner(grad(u),grad(v))*dx(0) + inner(a1*grad(u),grad(v))*dx(1)\n",
    "    L = a2*v*ds(4)\n",
    "    \n",
    "    # Solve problem\n",
    "    u = Function(V)\n",
    "    solve(a == L, u, bcs)\n",
    "    plot(u)\n",
    "\n",
    "    return [a,L,bcs,u]"
   ]
  },
  {
   "cell_type": "code",
   "execution_count": 3,
   "metadata": {},
   "outputs": [
    {
     "ename": "AttributeError",
     "evalue": "type object 'dolfin.cpp.la.Matrix' has no attribute 'transpose'",
     "output_type": "error",
     "traceback": [
      "\u001b[0;31m---------------------------------------------------------------------------\u001b[0m",
      "\u001b[0;31mAttributeError\u001b[0m                            Traceback (most recent call last)",
      "\u001b[0;32m<ipython-input-3-3f5a50f49478>\u001b[0m in \u001b[0;36m<module>\u001b[0;34m\u001b[0m\n\u001b[1;32m      1\u001b[0m \u001b[0mA\u001b[0m \u001b[0;34m=\u001b[0m \u001b[0mSolver\u001b[0m\u001b[0;34m(\u001b[0m\u001b[0;36m1\u001b[0m\u001b[0;34m)\u001b[0m\u001b[0;34m\u001b[0m\u001b[0;34m\u001b[0m\u001b[0m\n\u001b[0;32m----> 2\u001b[0;31m \u001b[0mprint\u001b[0m\u001b[0;34m(\u001b[0m\u001b[0;34m\"Type de A : \"\u001b[0m\u001b[0;34m,\u001b[0m\u001b[0mtype\u001b[0m\u001b[0;34m(\u001b[0m\u001b[0massemble\u001b[0m\u001b[0;34m(\u001b[0m\u001b[0mA\u001b[0m\u001b[0;34m[\u001b[0m\u001b[0;36m0\u001b[0m\u001b[0;34m]\u001b[0m\u001b[0;34m)\u001b[0m\u001b[0;34m)\u001b[0m\u001b[0;34m.\u001b[0m\u001b[0mtranspose\u001b[0m\u001b[0;34m(\u001b[0m\u001b[0;34m)\u001b[0m\u001b[0;34m)\u001b[0m\u001b[0;34m\u001b[0m\u001b[0;34m\u001b[0m\u001b[0m\n\u001b[0m\u001b[1;32m      3\u001b[0m \u001b[0mprint\u001b[0m\u001b[0;34m(\u001b[0m\u001b[0;34m\"Type de F : \"\u001b[0m\u001b[0;34m,\u001b[0m\u001b[0mtype\u001b[0m\u001b[0;34m(\u001b[0m\u001b[0mA\u001b[0m\u001b[0;34m[\u001b[0m\u001b[0;36m1\u001b[0m\u001b[0;34m]\u001b[0m\u001b[0;34m)\u001b[0m\u001b[0;34m)\u001b[0m\u001b[0;34m\u001b[0m\u001b[0;34m\u001b[0m\u001b[0m\n",
      "\u001b[0;31mAttributeError\u001b[0m: type object 'dolfin.cpp.la.Matrix' has no attribute 'transpose'"
     ]
    },
    {
     "data": {
      "image/png": "[encoded data removed]",
      "text/plain": [
       "<Figure size 432x288 with 1 Axes>"
      ]
     },
     "metadata": {
      "needs_background": "light"
     },
     "output_type": "display_data"
    }
   ],
   "source": [
    "A = Solver(1)\n",
    "print(\"Type de A : \",type(assemble(A[0])).transpose())\n",
    "print(\"Type de F : \",type(A[1]))"
   ]
  },
  {
   "cell_type": "code",
   "execution_count": 4,
   "metadata": {},
   "outputs": [],
   "source": [
    "def greedy_algorithm_fenics(tol, MUs, n=1, N=50):\n",
    "    # En adaptant à Fenics, on a :\n",
    "    # A_delta = ufl.form.Form\n",
    "    # f_delta = ufl.form.Form\n",
    "    # On prend un mu (au hasard) pour initialiser l'algorithme\n",
    "    mu_1 = MUs[0]\n",
    "    np.delete(MUs, 0)\n",
    "    A_delta, f_delta, bcs, u_delta_mu_1 = Solver(mu_1)\n",
    "    solve(A_delta == f_delta, u_delta_mu_1,bcs)\n",
    "    plt.show()\n",
    "    U_DELTA = [u_delta_mu_1.vector().get_local()]\n",
    "    # On calcule tous les u_delta pour éviter de le refair dans la boucle par la suite\n",
    "    for mu in MUs:\n",
    "        A_delta, f_delta, bcs, u_delta = Solver(mu)\n",
    "        U_DELTA.append(u_delta.vector().get_local())\n",
    "    #U_DELTA = np.array([npl.solve(A_delta(mu), f_delta(mu)) for mu in MUs])\n",
    "    \n",
    "    # B est la matrice de changement de base de A_delta à A_rb\n",
    "    B = u_delta_mu_1.vector().get_local() #np.copy(u_delta_mu_1)\n",
    "    \n",
    "    err = 1e10\n",
    "    n=0\n",
    "    while err > tol and MUs.shape[0] > 0 and n<5:\n",
    "        n+=1\n",
    "        eta = np.zeros(MUs.shape[0])\n",
    "        \n",
    "        for idx_mu, mu in enumerate(MUs):\n",
    "            A_delta_mu = Solver(mu)[0]\n",
    "            print(type(A_delta_mu))\n",
    "            f_delta_mu = Solver(mu)[1]\n",
    "            u_rb_mu = Solver(mu)[3]\n",
    "        \n",
    "            u_delta_mu = U_DELTA[idx_mu]\n",
    "            \n",
    "            # A_rb_mu @ u_rb_mu = f_rb_mu\n",
    "            # A_rb_mu = B.T @ A_delta_mu @ B\n",
    "            solve(B.T @ A_delta_mu @ B == B.T @ f_delta_mu, u_rb_mu)\n",
    "            \n",
    "            # Pour l'instant, eta(mu) = ||u_delta - u_rb||_L2\n",
    "            eta[idx_mu] = npl.norm(u_delta_mu - u_rb_mu.vector().get_local(), ord=2)\n",
    "        \n",
    "        # On cherche la pire approximation\n",
    "        idx_worst_mu = np.argmax(eta)\n",
    "        \n",
    "        B = np.vstack((B, U_DELTA[idx_worst_mu]))\n",
    "        \n",
    "        np.delete(MUs, idx_worst_mu)\n",
    "        np.delete(U_DELTA,idx_worst_mu)\n",
    "        \n",
    "        err = eta[idx_worst_mu]\n",
    "        \n",
    "    return B"
   ]
  },
  {
   "cell_type": "code",
   "execution_count": 5,
   "metadata": {},
   "outputs": [
    {
     "data": {
      "image/png": "[encoded data removed]",
      "text/plain": [
       "<Figure size 432x288 with 1 Axes>"
      ]
     },
     "metadata": {
      "needs_background": "light"
     },
     "output_type": "display_data"
    },
    {
     "name": "stdout",
     "output_type": "stream",
     "text": [
      "<class 'ufl.form.Form'>\n"
     ]
    },
    {
     "ename": "ValueError",
     "evalue": "matmul: Input operand 1 does not have enough dimensions (has 0, gufunc core with signature (n?,k),(k,m?)->(n?,m?) requires 1)",
     "output_type": "error",
     "traceback": [
      "\u001b[0;31m---------------------------------------------------------------------------\u001b[0m",
      "\u001b[0;31mValueError\u001b[0m                                Traceback (most recent call last)",
      "\u001b[0;32m<ipython-input-5-c108e86936fc>\u001b[0m in \u001b[0;36m<module>\u001b[0;34m\u001b[0m\n\u001b[1;32m      2\u001b[0m \u001b[0mtol\u001b[0m \u001b[0;34m=\u001b[0m \u001b[0;36m0.1\u001b[0m\u001b[0;34m\u001b[0m\u001b[0;34m\u001b[0m\u001b[0m\n\u001b[1;32m      3\u001b[0m \u001b[0;34m\u001b[0m\u001b[0m\n\u001b[0;32m----> 4\u001b[0;31m \u001b[0mB\u001b[0m \u001b[0;34m=\u001b[0m \u001b[0mgreedy_algorithm_fenics\u001b[0m\u001b[0;34m(\u001b[0m\u001b[0mtol\u001b[0m\u001b[0;34m,\u001b[0m\u001b[0mMUS\u001b[0m\u001b[0;34m)\u001b[0m\u001b[0;34m\u001b[0m\u001b[0;34m\u001b[0m\u001b[0m\n\u001b[0m\u001b[1;32m      5\u001b[0m \u001b[0mprint\u001b[0m\u001b[0;34m(\u001b[0m\u001b[0mB\u001b[0m\u001b[0;34m)\u001b[0m\u001b[0;34m\u001b[0m\u001b[0;34m\u001b[0m\u001b[0m\n",
      "\u001b[0;32m<ipython-input-4-dc68eca5ba91>\u001b[0m in \u001b[0;36mgreedy_algorithm_fenics\u001b[0;34m(tol, MUs, n, N)\u001b[0m\n\u001b[1;32m     35\u001b[0m             \u001b[0;31m# A_rb_mu @ u_rb_mu = f_rb_mu\u001b[0m\u001b[0;34m\u001b[0m\u001b[0;34m\u001b[0m\u001b[0;34m\u001b[0m\u001b[0m\n\u001b[1;32m     36\u001b[0m             \u001b[0;31m# A_rb_mu = B.T @ A_delta_mu @ B\u001b[0m\u001b[0;34m\u001b[0m\u001b[0;34m\u001b[0m\u001b[0;34m\u001b[0m\u001b[0m\n\u001b[0;32m---> 37\u001b[0;31m             \u001b[0msolve\u001b[0m\u001b[0;34m(\u001b[0m\u001b[0mB\u001b[0m\u001b[0;34m.\u001b[0m\u001b[0mT\u001b[0m \u001b[0;34m@\u001b[0m \u001b[0mA_delta_mu\u001b[0m \u001b[0;34m@\u001b[0m \u001b[0mB\u001b[0m \u001b[0;34m==\u001b[0m \u001b[0mB\u001b[0m\u001b[0;34m.\u001b[0m\u001b[0mT\u001b[0m \u001b[0;34m@\u001b[0m \u001b[0mf_delta_mu\u001b[0m\u001b[0;34m,\u001b[0m \u001b[0mu_rb_mu\u001b[0m\u001b[0;34m)\u001b[0m\u001b[0;34m\u001b[0m\u001b[0;34m\u001b[0m\u001b[0m\n\u001b[0m\u001b[1;32m     38\u001b[0m \u001b[0;34m\u001b[0m\u001b[0m\n\u001b[1;32m     39\u001b[0m             \u001b[0;31m# Pour l'instant, eta(mu) = ||u_delta - u_rb||_L2\u001b[0m\u001b[0;34m\u001b[0m\u001b[0;34m\u001b[0m\u001b[0;34m\u001b[0m\u001b[0m\n",
      "\u001b[0;31mValueError\u001b[0m: matmul: Input operand 1 does not have enough dimensions (has 0, gufunc core with signature (n?,k),(k,m?)->(n?,m?) requires 1)"
     ]
    },
    {
     "data": {
      "image/png": "[encoded data removed]",
      "text/plain": [
       "<Figure size 432x288 with 1 Axes>"
      ]
     },
     "metadata": {
      "needs_background": "light"
     },
     "output_type": "display_data"
    }
   ],
   "source": [
    "MUS = np.linspace(0.1,10,3)\n",
    "tol = 0.1\n",
    "\n",
    "B = greedy_algorithm_fenics(tol,MUS)\n",
    "print(B)"
   ]
  },
  {
   "cell_type": "code",
   "execution_count": null,
   "metadata": {},
   "outputs": [],
   "source": []
  }
 ],
 "metadata": {
  "kernelspec": {
   "display_name": "Python 3",
   "language": "python",
   "name": "python3"
  },
  "language_info": {
   "codemirror_mode": {
    "name": "ipython",
    "version": 3
   },
   "file_extension": ".py",
   "mimetype": "text/x-python",
   "name": "python",
   "nbconvert_exporter": "python",
   "pygments_lexer": "ipython3",
   "version": "3.8.2"
  }
 },
 "nbformat": 4,
 "nbformat_minor": 4
}
