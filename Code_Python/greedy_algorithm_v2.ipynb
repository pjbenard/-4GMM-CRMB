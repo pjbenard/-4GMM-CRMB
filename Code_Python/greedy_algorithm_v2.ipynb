{
 "cells": [
  {
   "cell_type": "code",
   "execution_count": 1,
   "metadata": {},
   "outputs": [],
   "source": [
    "import numpy as np\n",
    "import numpy.linalg as npl"
   ]
  },
  {
   "cell_type": "code",
   "execution_count": 2,
   "metadata": {},
   "outputs": [],
   "source": [
    "def greedy_algorithm(tol, MUs, A_delta, f_delta, n=1):\n",
    "    mu_1 = MUs[0]\n",
    "    np.delete(MUs, 0)\n",
    "    u_delta_mu_1 = npl.solve(A_delta(mu_1), f_delta(mu_1))\n",
    "    \n",
    "    U_DELTA = np.array([npl.solve(A_delta(mu), f_delta(mu)) for mu in MUs])\n",
    "    \n",
    "    B = np.copy(u_delta_mu_1)\n",
    "    \n",
    "    err = 1e10\n",
    "    \n",
    "    while err > tol and MUs.shape[0] > 0:\n",
    "        \n",
    "        eta = np.zeros(MUs.shape[0])\n",
    "        \n",
    "        for idx_mu, mu in enumerate(MUs):\n",
    "            A_delta_mu = A_delta(mu)\n",
    "            f_delta_mu = f_delta(mu)\n",
    "        \n",
    "            u_delta_mu = U_DELTA[idx_mu]\n",
    "            u_rb_mu = npl.solve(B.T @ A_delta_mu @ B, B.T @ f_delta_mu)\n",
    "            eta[idx_mu] = npl.norm(u_delta_mu - u_rb_mu, ord=2)\n",
    "            \n",
    "        idx_worst_mu = np.argmax(eta)\n",
    "        \n",
    "        B = np.vstack((B, U_DELTA[idx_worst_mu]))\n",
    "        \n",
    "        np.delete(MUs, idx_worst_mu)\n",
    "        np.delete(U_DELTA[idx_worst_mu])\n",
    "        \n",
    "        err = eta[idx_worst_mu]\n",
    "        \n",
    "    return B"
   ]
  },
  {
   "cell_type": "code",
   "execution_count": null,
   "metadata": {},
   "outputs": [],
   "source": []
  }
 ],
 "metadata": {
  "kernelspec": {
   "display_name": "Python 3",
   "language": "python",
   "name": "python3"
  },
  "language_info": {
   "codemirror_mode": {
    "name": "ipython",
    "version": 3
   },
   "file_extension": ".py",
   "mimetype": "text/x-python",
   "name": "python",
   "nbconvert_exporter": "python",
   "pygments_lexer": "ipython3",
   "version": "3.7.7"
  }
 },
 "nbformat": 4,
 "nbformat_minor": 4
}
