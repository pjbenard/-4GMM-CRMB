{
 "cells": [
  {
   "cell_type": "code",
   "execution_count": 34,
   "metadata": {},
   "outputs": [],
   "source": [
    "import numpy as np\n",
    "import numpy.linalg as npl\n",
    "import scipy.sparse as spsp\n",
    "from scipy.interpolate import interp1d\n",
    "import matplotlib.pyplot as plt"
   ]
  },
  {
   "cell_type": "code",
   "execution_count": 2,
   "metadata": {},
   "outputs": [],
   "source": [
    "def training_set_creator(*args):\n",
    "    \"\"\"\n",
    "    args are a non-zero number of lists of size 3.\n",
    "    Example of use: we want the creation of an iteratable representing all possible elements on a n-dimensional grid\n",
    "    first dimension goes from a to b with c elements, then you pass \"[a,b,c]\" as a first argument.\n",
    "    return: n-dimensional grid on which you can iterate.\n",
    "    \n",
    "    \"\"\"\n",
    "    linspace_args = (np.linspace(arg[0],arg[1],arg[2]) for arg in args)\n",
    "    \n",
    "    meshes = np.meshgrid(*linspace_args)\n",
    "    dimensions = [mesh.ravel() for mesh in meshes]\n",
    "    \n",
    "    tuples = zip(*dimensions)\n",
    "    return list(tuples)\n",
    "#     for tup in tuples:\n",
    "#         yield(tuple(tup))"
   ]
  },
  {
   "cell_type": "code",
   "execution_count": 3,
   "metadata": {},
   "outputs": [],
   "source": [
    "n = 5\n",
    "N_diff = 2**n\n",
    "f_diff = np.zeros(N_diff+2)\n",
    "f_diff[0] = 1\n",
    "\n",
    "#construction des matrices A en format sparse\n",
    "tab_A_0 = [np.repeat([1,0],[N_diff//2,N_diff//2+1],0),np.repeat([0,-2,-1,0],[1,N_diff//2-1,1,N_diff//2+1],0),np.repeat([0,1,0],[1,N_diff//2-1,N_diff//2+1],0)]\n",
    "tab_A_1 = [np.repeat([0,((N_diff+2)**2),0],[N_diff//2,N_diff//2,1],0),np.repeat([1,0,-((N_diff+2)**2),-2*((N_diff+2)**2),1],[1,N_diff//2-1,1,N_diff//2,1],0),np.repeat([0,((N_diff+2)**2)],[N_diff//2,N_diff//2+1],0)]\n",
    "A_0 = spsp.diags(tab_A_0,[-1,0,1],(N_diff+2,N_diff+2))*((N_diff+2)**2)\n",
    "A_1 = spsp.diags(tab_A_1,[-1,0,1],(N_diff+2,N_diff+2))\n"
   ]
  },
  {
   "cell_type": "code",
   "execution_count": 4,
   "metadata": {},
   "outputs": [],
   "source": [
    "def apply_mu(mu):\n",
    "    \"\"\"\n",
    "    from output of pre_computer and a mu: computes A_rb and f_rb and u_rb, the solution of A_rb.u_rb=f_rb\n",
    "    \"\"\"\n",
    "    A = A_1.todense()\n",
    "    A += A_0.todense() * mu[0]\n",
    "    \n",
    "    f = f_diff * mu[1]      \n",
    "        \n",
    "    return [A, f]\n",
    "\n",
    "def to_array_A_and_f(MUs):\n",
    "    A = []\n",
    "    f = []\n",
    "    \n",
    "    for mu in MUs:\n",
    "        temp = apply_mu(mu)\n",
    "        A.append(temp[0])\n",
    "        f.append(temp[1])\n",
    "        \n",
    "    return np.array(A), np.array(f)"
   ]
  },
  {
   "cell_type": "code",
   "execution_count": 47,
   "metadata": {},
   "outputs": [],
   "source": [
    "def interpolate(u, fs):\n",
    "    ss = u.size\n",
    "    sr = np.arange(ss)\n",
    "    interp = interp1d(x=sr, y=u)\n",
    "    \n",
    "    fr = np.linspace(0, ss-1, fs)\n",
    "    return interp(fr)"
   ]
  },
  {
   "cell_type": "code",
   "execution_count": 74,
   "metadata": {},
   "outputs": [],
   "source": [
    "def greedy_algorithm(tol, MUs):\n",
    "    # On prend un mu (au hasard) pour initialiser l'algorithme\n",
    "    mu_1 = MUs[0]\n",
    "    A_delta_mu, f_delta_mu = apply_mu(mu_1)\n",
    "#     print(A_delta_mu, f_delta_mu)\n",
    "    u_delta_mu_1 = npl.solve(A_delta_mu, f_delta_mu)\n",
    "    np.delete(MUs, 0)\n",
    "    \n",
    "    # B est la matrice de changement de base de A_delta à A_rb\n",
    "    B = np.copy(u_delta_mu_1)\n",
    "    \n",
    "    # A @ u = f pour un mu donné\n",
    "    \n",
    "    # TODO: Repenser précomputing de A_DELTA et F_DELTA pour diminuer coûts mémoire\n",
    "    A_DELTA, F_DELTA = to_array_A_and_f(MUs)    \n",
    "    \n",
    "    # On calcule tous les u_delta pour éviter de le refair dans la boucle par la suite\n",
    "    U_DELTA = np.array([npl.solve(A_DELTA[idx], F_DELTA[idx]) for idx in range(len(MUs))])\n",
    "    \n",
    "    print(\"Offline phase done\")\n",
    "    \n",
    "    err = 1e10\n",
    "    \n",
    "    n = 1\n",
    "    \n",
    "    while err > tol and len(MUs) > 0:\n",
    "        print(f\"Itération n°{n}\")\n",
    "        print(err)\n",
    "        \n",
    "        eta = np.zeros(len(MUs))\n",
    "        \n",
    "        for idx_mu, mu in enumerate(MUs):\n",
    "            A_delta_mu = A_DELTA[idx_mu]\n",
    "            f_delta_mu = F_DELTA[idx_mu]\n",
    "        \n",
    "            u_delta_mu = U_DELTA[idx_mu]\n",
    "            \n",
    "            # A_rb_mu @ u_rb_mu = f_rb_mu\n",
    "            # A_rb_mu = B.T @ A_delta_mu @ B\n",
    "        \n",
    "            try:\n",
    "                u_rb_mu = npl.solve(B @ A_delta_mu @ B.T, B @ f_delta_mu)\n",
    "                \n",
    "            except npl.LinAlgError:\n",
    "                if n == 3:\n",
    "                    print(B.shape, A_delta_mu.shape, f_delta_mu.shape)\n",
    "                    return B, A_delta_mu, f_delta_mu\n",
    "                u_rb_mu = npl.solve(B[np.newaxis, :] @ A_delta_mu @ B[np.newaxis, :].T, \n",
    "                                    B[np.newaxis, :] @ f_delta_mu)\n",
    "            \n",
    "            except ValueError:\n",
    "                return B, A_delta_mu, f_delta_mu\n",
    "            \n",
    "            \n",
    "            # Pour l'instant, eta(mu) = ||u_delta - u_rb||_L2\n",
    "            try:\n",
    "                eta[idx_mu] = npl.norm(u_delta_mu - u_rb_mu, ord=2)\n",
    "            except ValueError:\n",
    "                streched_u_rb_mu = interpolate(u_rb_mu, u_delta_mu.size)\n",
    "                eta[idx_mu] = npl.norm(u_delta_mu - streched_u_rb_mu, ord=2)\n",
    "        \n",
    "        # On cherche la pire approximation\n",
    "        idx_worst_mu = np.argmax(eta)\n",
    "        \n",
    "        B = np.vstack((B, U_DELTA[idx_worst_mu]))\n",
    "        print(MUs[idx_worst_mu], idx_worst_mu)\n",
    "#         np.delete(MUs, idx_worst_mu)\n",
    "        MUs.pop(idx_worst_mu)\n",
    "        np.delete(U_DELTA, idx_worst_mu)\n",
    "        err = eta[idx_worst_mu]\n",
    "        n += 1\n",
    "        \n",
    "    return B, err"
   ]
  },
  {
   "cell_type": "code",
   "execution_count": 75,
   "metadata": {},
   "outputs": [
    {
     "name": "stdout",
     "output_type": "stream",
     "text": [
      "Offline phase done\n",
      "Itération n°1\n",
      "10000000000.0\n",
      "(50.0, 5.0) 4999\n",
      "Itération n°2\n",
      "23.248181187922434\n",
      "(49.0, 5.0) 4998\n",
      "Itération n°3\n",
      "21.438518263592048\n",
      "(25.0, 5.0) 4974\n",
      "Itération n°4\n",
      "1826.21204180356\n",
      "(24.0, 5.0) 4973\n",
      "Itération n°5\n",
      "8993.248953220684\n",
      "(38.0, 5.0) 4985\n",
      "Itération n°6\n",
      "86416.97378377977\n",
      "(9.0, 5.0) 4958\n",
      "Itération n°7\n",
      "214727.48851005218\n",
      "(30.0, 5.0) 4976\n",
      "Itération n°8\n",
      "13047.472637259709\n",
      "(32.0, 5.0) 4977\n",
      "Itération n°9\n",
      "113994.97792104955\n",
      "(14.0, 5.0) 4962\n",
      "Itération n°10\n",
      "3223.6288642587\n",
      "(41.0, 5.0) 4983\n",
      "Itération n°11\n",
      "27640.824755566744\n",
      "(44.0, 5.0) 4985\n",
      "Itération n°12\n",
      "36273.74756525793\n"
     ]
    },
    {
     "ename": "ValueError",
     "evalue": "matmul: Input operand 1 has a mismatch in its core dimension 0, with gufunc signature (n?,k),(k,m?)->(n?,m?) (size 12 is different from 34)",
     "output_type": "error",
     "traceback": [
      "\u001b[0;31m---------------------------------------------------------------------------\u001b[0m",
      "\u001b[0;31mLinAlgError\u001b[0m                               Traceback (most recent call last)",
      "\u001b[0;32m<ipython-input-74-59ffab42009e>\u001b[0m in \u001b[0;36mgreedy_algorithm\u001b[0;34m(tol, MUs)\u001b[0m\n\u001b[1;32m     41\u001b[0m             \u001b[0;32mtry\u001b[0m\u001b[0;34m:\u001b[0m\u001b[0;34m\u001b[0m\u001b[0;34m\u001b[0m\u001b[0m\n\u001b[0;32m---> 42\u001b[0;31m                 \u001b[0mu_rb_mu\u001b[0m \u001b[0;34m=\u001b[0m \u001b[0mnpl\u001b[0m\u001b[0;34m.\u001b[0m\u001b[0msolve\u001b[0m\u001b[0;34m(\u001b[0m\u001b[0mB\u001b[0m \u001b[0;34m@\u001b[0m \u001b[0mA_delta_mu\u001b[0m \u001b[0;34m@\u001b[0m \u001b[0mB\u001b[0m\u001b[0;34m.\u001b[0m\u001b[0mT\u001b[0m\u001b[0;34m,\u001b[0m \u001b[0mB\u001b[0m \u001b[0;34m@\u001b[0m \u001b[0mf_delta_mu\u001b[0m\u001b[0;34m)\u001b[0m\u001b[0;34m\u001b[0m\u001b[0;34m\u001b[0m\u001b[0m\n\u001b[0m\u001b[1;32m     43\u001b[0m \u001b[0;34m\u001b[0m\u001b[0m\n",
      "\u001b[0;32m<__array_function__ internals>\u001b[0m in \u001b[0;36msolve\u001b[0;34m(*args, **kwargs)\u001b[0m\n",
      "\u001b[0;32m~/anaconda3/lib/python3.7/site-packages/numpy/linalg/linalg.py\u001b[0m in \u001b[0;36msolve\u001b[0;34m(a, b)\u001b[0m\n\u001b[1;32m    398\u001b[0m     \u001b[0mextobj\u001b[0m \u001b[0;34m=\u001b[0m \u001b[0mget_linalg_error_extobj\u001b[0m\u001b[0;34m(\u001b[0m\u001b[0m_raise_linalgerror_singular\u001b[0m\u001b[0;34m)\u001b[0m\u001b[0;34m\u001b[0m\u001b[0;34m\u001b[0m\u001b[0m\n\u001b[0;32m--> 399\u001b[0;31m     \u001b[0mr\u001b[0m \u001b[0;34m=\u001b[0m \u001b[0mgufunc\u001b[0m\u001b[0;34m(\u001b[0m\u001b[0ma\u001b[0m\u001b[0;34m,\u001b[0m \u001b[0mb\u001b[0m\u001b[0;34m,\u001b[0m \u001b[0msignature\u001b[0m\u001b[0;34m=\u001b[0m\u001b[0msignature\u001b[0m\u001b[0;34m,\u001b[0m \u001b[0mextobj\u001b[0m\u001b[0;34m=\u001b[0m\u001b[0mextobj\u001b[0m\u001b[0;34m)\u001b[0m\u001b[0;34m\u001b[0m\u001b[0;34m\u001b[0m\u001b[0m\n\u001b[0m\u001b[1;32m    400\u001b[0m \u001b[0;34m\u001b[0m\u001b[0m\n",
      "\u001b[0;32m~/anaconda3/lib/python3.7/site-packages/numpy/linalg/linalg.py\u001b[0m in \u001b[0;36m_raise_linalgerror_singular\u001b[0;34m(err, flag)\u001b[0m\n\u001b[1;32m     96\u001b[0m \u001b[0;32mdef\u001b[0m \u001b[0m_raise_linalgerror_singular\u001b[0m\u001b[0;34m(\u001b[0m\u001b[0merr\u001b[0m\u001b[0;34m,\u001b[0m \u001b[0mflag\u001b[0m\u001b[0;34m)\u001b[0m\u001b[0;34m:\u001b[0m\u001b[0;34m\u001b[0m\u001b[0;34m\u001b[0m\u001b[0m\n\u001b[0;32m---> 97\u001b[0;31m     \u001b[0;32mraise\u001b[0m \u001b[0mLinAlgError\u001b[0m\u001b[0;34m(\u001b[0m\u001b[0;34m\"Singular matrix\"\u001b[0m\u001b[0;34m)\u001b[0m\u001b[0;34m\u001b[0m\u001b[0;34m\u001b[0m\u001b[0m\n\u001b[0m\u001b[1;32m     98\u001b[0m \u001b[0;34m\u001b[0m\u001b[0m\n",
      "\u001b[0;31mLinAlgError\u001b[0m: Singular matrix",
      "\nDuring handling of the above exception, another exception occurred:\n",
      "\u001b[0;31mValueError\u001b[0m                                Traceback (most recent call last)",
      "\u001b[0;32m<ipython-input-75-4cf506cdea95>\u001b[0m in \u001b[0;36m<module>\u001b[0;34m\u001b[0m\n\u001b[1;32m      4\u001b[0m \u001b[0mtraining_set\u001b[0m \u001b[0;34m=\u001b[0m \u001b[0mtraining_set_creator\u001b[0m\u001b[0;34m(\u001b[0m\u001b[0mT0\u001b[0m\u001b[0;34m,\u001b[0m\u001b[0mT1\u001b[0m\u001b[0;34m)\u001b[0m\u001b[0;34m\u001b[0m\u001b[0;34m\u001b[0m\u001b[0m\n\u001b[1;32m      5\u001b[0m \u001b[0;31m# Base, error = greedy_algorithm(0.0001, training_set)\u001b[0m\u001b[0;34m\u001b[0m\u001b[0;34m\u001b[0m\u001b[0;34m\u001b[0m\u001b[0m\n\u001b[0;32m----> 6\u001b[0;31m \u001b[0mB\u001b[0m\u001b[0;34m,\u001b[0m \u001b[0mA\u001b[0m\u001b[0;34m,\u001b[0m \u001b[0mf\u001b[0m \u001b[0;34m=\u001b[0m \u001b[0mgreedy_algorithm\u001b[0m\u001b[0;34m(\u001b[0m\u001b[0;36m0.0001\u001b[0m\u001b[0;34m,\u001b[0m \u001b[0mtraining_set\u001b[0m\u001b[0;34m)\u001b[0m\u001b[0;34m\u001b[0m\u001b[0;34m\u001b[0m\u001b[0m\n\u001b[0m\u001b[1;32m      7\u001b[0m \u001b[0;31m# u_delta, u_rb = greedy_algorithm(0.0001, training_set)\u001b[0m\u001b[0;34m\u001b[0m\u001b[0;34m\u001b[0m\u001b[0;34m\u001b[0m\u001b[0m\n",
      "\u001b[0;32m<ipython-input-74-59ffab42009e>\u001b[0m in \u001b[0;36mgreedy_algorithm\u001b[0;34m(tol, MUs)\u001b[0m\n\u001b[1;32m     46\u001b[0m                     \u001b[0mprint\u001b[0m\u001b[0;34m(\u001b[0m\u001b[0mB\u001b[0m\u001b[0;34m.\u001b[0m\u001b[0mshape\u001b[0m\u001b[0;34m,\u001b[0m \u001b[0mA_delta_mu\u001b[0m\u001b[0;34m.\u001b[0m\u001b[0mshape\u001b[0m\u001b[0;34m,\u001b[0m \u001b[0mf_delta_mu\u001b[0m\u001b[0;34m.\u001b[0m\u001b[0mshape\u001b[0m\u001b[0;34m)\u001b[0m\u001b[0;34m\u001b[0m\u001b[0;34m\u001b[0m\u001b[0m\n\u001b[1;32m     47\u001b[0m                     \u001b[0;32mreturn\u001b[0m \u001b[0mB\u001b[0m\u001b[0;34m,\u001b[0m \u001b[0mA_delta_mu\u001b[0m\u001b[0;34m,\u001b[0m \u001b[0mf_delta_mu\u001b[0m\u001b[0;34m\u001b[0m\u001b[0;34m\u001b[0m\u001b[0m\n\u001b[0;32m---> 48\u001b[0;31m                 u_rb_mu = npl.solve(B[np.newaxis, :] @ A_delta_mu @ B[np.newaxis, :].T, \n\u001b[0m\u001b[1;32m     49\u001b[0m                                     B[np.newaxis, :] @ f_delta_mu)\n\u001b[1;32m     50\u001b[0m \u001b[0;34m\u001b[0m\u001b[0m\n",
      "\u001b[0;31mValueError\u001b[0m: matmul: Input operand 1 has a mismatch in its core dimension 0, with gufunc signature (n?,k),(k,m?)->(n?,m?) (size 12 is different from 34)"
     ]
    }
   ],
   "source": [
    "### computes greedy_base\n",
    "T0 = np.array([1,50,50])\n",
    "T1 = np.array([1,5,100])\n",
    "training_set = training_set_creator(T0,T1)\n",
    "# Base, error = greedy_algorithm(0.0001, training_set)\n",
    "B, A, f = greedy_algorithm(0.0001, training_set)\n",
    "# u_delta, u_rb = greedy_algorithm(0.0001, training_set)"
   ]
  },
  {
   "cell_type": "code",
   "execution_count": 65,
   "metadata": {},
   "outputs": [
    {
     "data": {
      "text/plain": [
       "(array([[ 1.00000000e+00, -1.63477150e+02, -1.63477150e+02],\n",
       "        [ 5.00000000e+00, -1.58000749e+03, -1.58000749e+03],\n",
       "        [ 5.00000000e+00, -1.58000749e+03, -1.58000749e+03]]),\n",
       " array([1., 5., 5.]))"
      ]
     },
     "execution_count": 65,
     "metadata": {},
     "output_type": "execute_result"
    }
   ],
   "source": [
    "B @ A @ B.T, B @ f"
   ]
  },
  {
   "cell_type": "code",
   "execution_count": 67,
   "metadata": {},
   "outputs": [
    {
     "data": {
      "image/png": "[encoded data removed]",
      "text/plain": [
       "<Figure size 432x288 with 1 Axes>"
      ]
     },
     "metadata": {
      "needs_background": "light"
     },
     "output_type": "display_data"
    },
    {
     "data": {
      "image/png": "[encoded data removed]",
      "text/plain": [
       "<Figure size 432x288 with 1 Axes>"
      ]
     },
     "metadata": {
      "needs_background": "light"
     },
     "output_type": "display_data"
    },
    {
     "data": {
      "image/png": "[encoded data removed]",
      "text/plain": [
       "<Figure size 432x288 with 1 Axes>"
      ]
     },
     "metadata": {
      "needs_background": "light"
     },
     "output_type": "display_data"
    }
   ],
   "source": [
    "for b in B:\n",
    "    plt.plot(b)\n",
    "    plt.show()"
   ]
  },
  {
   "cell_type": "code",
   "execution_count": null,
   "metadata": {},
   "outputs": [],
   "source": [
    "### From Base, fast evaluates u_rb(mu_test)\n",
    "mu_test = (0.28,40)\n",
    "U_rb = reduced_solver(mu_test,A_q,shape)\n",
    "X,U_true = solver(mu_test,plot = True)\n",
    "plt.plot(X,U_true,label=\"true_sol\")\n",
    "plt.plot(X,Base.dot(U_rb),label=\"reduced_sol\")\n",
    "plt.legend()\n",
    "plt.show()\n",
    "print(np.sum(np.abs(U_true-Base.dot(U_rb))))"
   ]
  },
  {
   "cell_type": "code",
   "execution_count": 53,
   "metadata": {},
   "outputs": [
    {
     "data": {
      "text/plain": [
       "(34,)"
      ]
     },
     "execution_count": 53,
     "metadata": {},
     "output_type": "execute_result"
    }
   ],
   "source": [
    "apply_mu([2.5, 0.5])[1].shape"
   ]
  },
  {
   "cell_type": "code",
   "execution_count": 18,
   "metadata": {},
   "outputs": [
    {
     "data": {
      "text/plain": [
       "((2, 34), (34, 34), (34,))"
      ]
     },
     "execution_count": 18,
     "metadata": {},
     "output_type": "execute_result"
    }
   ],
   "source": [
    "B.shape, A.shape, f.shape"
   ]
  },
  {
   "cell_type": "code",
   "execution_count": 72,
   "metadata": {},
   "outputs": [
    {
     "data": {
      "text/plain": [
       "(34, 1)"
      ]
     },
     "execution_count": 72,
     "metadata": {},
     "output_type": "execute_result"
    }
   ],
   "source": [
    "B[:,np.newaxis].shape"
   ]
  },
  {
   "cell_type": "code",
   "execution_count": 71,
   "metadata": {},
   "outputs": [
    {
     "data": {
      "text/plain": [
       "(34,)"
      ]
     },
     "execution_count": 71,
     "metadata": {},
     "output_type": "execute_result"
    }
   ],
   "source": [
    "B.shape"
   ]
  },
  {
   "cell_type": "code",
   "execution_count": 19,
   "metadata": {},
   "outputs": [],
   "source": [
    "A_rb = B @ A @ B.T"
   ]
  },
  {
   "cell_type": "code",
   "execution_count": 21,
   "metadata": {},
   "outputs": [
    {
     "data": {
      "text/plain": [
       "(2, 2)"
      ]
     },
     "execution_count": 21,
     "metadata": {},
     "output_type": "execute_result"
    }
   ],
   "source": [
    "A_rb.shape"
   ]
  },
  {
   "cell_type": "code",
   "execution_count": 33,
   "metadata": {},
   "outputs": [
    {
     "data": {
      "text/plain": [
       "array([ 1.0000000e+00, -2.5669354e-16, -2.5669354e-16, -2.5669354e-16,\n",
       "       -2.5669354e-16, -2.5669354e-16, -2.5669354e-16, -2.5669354e-16,\n",
       "       -2.5669354e-16, -2.5669354e-16, -2.5669354e-16, -2.5669354e-16,\n",
       "       -2.5669354e-16, -2.5669354e-16, -2.5669354e-16, -2.5669354e-16,\n",
       "       -2.5669354e-16, -2.5669354e-16, -2.5669354e-16, -2.5669354e-16,\n",
       "       -2.5669354e-16, -2.5669354e-16, -2.5669354e-16, -2.5669354e-16,\n",
       "       -2.5669354e-16, -2.5669354e-16, -2.5669354e-16, -2.5669354e-16,\n",
       "       -2.5669354e-16, -2.5669354e-16, -2.5669354e-16, -2.5669354e-16,\n",
       "       -2.5669354e-16, -2.5669354e-16])"
      ]
     },
     "execution_count": 33,
     "metadata": {},
     "output_type": "execute_result"
    }
   ],
   "source": [
    "np.interp(x=np.arange(u_delta.size), xp=np.arange(u_rb.size), fp=u_rb)"
   ]
  },
  {
   "cell_type": "code",
   "execution_count": 49,
   "metadata": {},
   "outputs": [],
   "source": [
    "p = interpolate(u_rb, u_delta.size)"
   ]
  },
  {
   "cell_type": "code",
   "execution_count": 51,
   "metadata": {},
   "outputs": [
    {
     "data": {
      "image/png": "[encoded data removed]",
      "text/plain": [
       "<Figure size 432x288 with 1 Axes>"
      ]
     },
     "metadata": {
      "needs_background": "light"
     },
     "output_type": "display_data"
    },
    {
     "data": {
      "image/png": "[encoded data removed]",
      "text/plain": [
       "<Figure size 432x288 with 1 Axes>"
      ]
     },
     "metadata": {
      "needs_background": "light"
     },
     "output_type": "display_data"
    }
   ],
   "source": [
    "plt.figure()\n",
    "plt.plot(u_delta)\n",
    "plt.show()\n",
    "plt.figure()\n",
    "plt.plot(p)\n",
    "plt.show()"
   ]
  },
  {
   "cell_type": "code",
   "execution_count": null,
   "metadata": {},
   "outputs": [],
   "source": []
  },
  {
   "cell_type": "code",
   "execution_count": null,
   "metadata": {},
   "outputs": [],
   "source": []
  }
 ],
 "metadata": {
  "kernelspec": {
   "display_name": "Python 3",
   "language": "python",
   "name": "python3"
  },
  "language_info": {
   "codemirror_mode": {
    "name": "ipython",
    "version": 3
   },
   "file_extension": ".py",
   "mimetype": "text/x-python",
   "name": "python",
   "nbconvert_exporter": "python",
   "pygments_lexer": "ipython3",
   "version": "3.7.7"
  }
 },
 "nbformat": 4,
 "nbformat_minor": 4
}
