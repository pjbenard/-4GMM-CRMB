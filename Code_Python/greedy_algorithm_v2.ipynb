{
 "cells": [
  {
   "cell_type": "code",
   "execution_count": 40,
   "metadata": {},
   "outputs": [],
   "source": [
    "import numpy as np\n",
    "import numpy.linalg as npl\n",
    "import scipy.sparse as spsp"
   ]
  },
  {
   "cell_type": "code",
   "execution_count": 37,
   "metadata": {},
   "outputs": [],
   "source": [
    "def training_set_creator(*args):\n",
    "    \"\"\"\n",
    "    args are a non-zero number of lists of size 3.\n",
    "    Example of use: we want the creation of an iteratable representing all possible elements on a n-dimensional grid\n",
    "    first dimension goes from a to b with c elements, then you pass \"[a,b,c]\" as a first argument.\n",
    "    return: n-dimensional grid on which you can iterate.\n",
    "    \n",
    "    \"\"\"\n",
    "    linspace_args = (np.linspace(arg[0],arg[1],arg[2]) for arg in args)\n",
    "    \n",
    "    meshes = np.meshgrid(*linspace_args)\n",
    "    dimensions = [mesh.ravel() for mesh in meshes]\n",
    "    \n",
    "    tuples = zip(*dimensions)\n",
    "#     return tuples\n",
    "    for tup in tuples:\n",
    "        yield(tuple(tup))"
   ]
  },
  {
   "cell_type": "code",
   "execution_count": 38,
   "metadata": {},
   "outputs": [],
   "source": [
    "def apply_mu(mu, A_q, shape):\n",
    "    \"\"\"\n",
    "    from output of pre_computer and a mu: computes A_rb and f_rb and u_rb, the solution of A_rb.u_rb=f_rb\n",
    "    \"\"\"\n",
    "    A = A_q[1]\n",
    "    f = A_q[3]\n",
    "    \n",
    "    for i in range(len(mu) - shape):\n",
    "        A += A_q[0][i] * mu[i]\n",
    "        f += A_q[2][i] * mu[i]\n",
    "    \n",
    "    return A, f"
   ]
  },
  {
   "cell_type": "code",
   "execution_count": 55,
   "metadata": {},
   "outputs": [],
   "source": [
    "n = 2\n",
    "N_diff = 2**n\n",
    "f_diff = np.zeros(N_diff+2)\n",
    "f_diff[0] = 1\n",
    "\n",
    "#construction de la matrice A en format sparse\n",
    "tab_A_0 = [np.repeat([1,0], [N_diff//2,N_diff//2], 0),\n",
    "           np.repeat([0,-2,-1,0], [1,N_diff//2-1,1,N_diff//2], 0),\n",
    "           np.repeat([0,1,0], [1,N_diff//2-1,N_diff//2], 0)]\n",
    "tab_A_1 = [np.repeat([0,((N_diff+2)**2)], [N_diff//2,N_diff//2],0),\n",
    "           np.repeat([1,0,-((N_diff+2)**2),-2*((N_diff+2)**2)],[1,N_diff//2-1,1,N_diff//2],0),\n",
    "           np.repeat([0,((N_diff+2)**2)],[N_diff//2,N_diff//2],0)]\n",
    "A_0 = sp.sparse.diags(tab_A_0,[-1,0,1],(N_diff+1,N_diff+1)) * ((N_diff+2)**2)\n",
    "A_1 = sp.sparse.diags(tab_A_1,[-1,0,1],(N_diff+1,N_diff+1))\n"
   ]
  },
  {
   "cell_type": "code",
   "execution_count": 57,
   "metadata": {},
   "outputs": [
    {
     "data": {
      "text/plain": [
       "(matrix([[  0.,   0.,   0.,   0.,   0.],\n",
       "         [ 36., -72.,  36.,   0.,   0.],\n",
       "         [  0.,  36., -36.,   0.,   0.],\n",
       "         [  0.,   0.,   0.,   0.,   0.],\n",
       "         [  0.,   0.,   0.,   0.,   0.]]),\n",
       " matrix([[  1.,   0.,   0.,   0.,   0.],\n",
       "         [  0.,   0.,   0.,   0.,   0.],\n",
       "         [  0.,   0., -36.,  36.,   0.],\n",
       "         [  0.,   0.,  36., -72.,  36.],\n",
       "         [  0.,   0.,   0.,  36., -72.]]))"
      ]
     },
     "execution_count": 57,
     "metadata": {},
     "output_type": "execute_result"
    }
   ],
   "source": [
    "A_0.todense(), A_1.todense()"
   ]
  },
  {
   "cell_type": "code",
   "execution_count": 32,
   "metadata": {},
   "outputs": [],
   "source": [
    "#résolution par diff finies\n",
    "def pre_computer(Base):\n",
    "    \"\"\"\n",
    "    pre_computer take as input a reduced_base and pre_computes all quantities used for a reduced_solver.\n",
    "    output: [[A_rb^q](0<= i <=n1),A_rb^0,[f_rb^q](0<= i <=n2),f_rb^0],n\n",
    "    with A_rb = sum_(i in 0..n1){ mu[i]*A_rb^(q_1)_i } + A_rb^0\n",
    "    and  f_rb = sum_(i in n1+1..n2){ mu[i]*f_rb^(q_1)_i } + f_rb^0\n",
    "            n = n1+1\n",
    "    \"\"\"\n",
    "    \n",
    "    #A = A_1 + mu[0]*A_0\n",
    "    #f = mu[1] * f_diff\n",
    "    \n",
    "    return [[Base.T @ A_0.todense() @ Base],\n",
    "            Base.T @ A_1.todense() @ Base ,\n",
    "            [Base.T @ f_diff],\n",
    "            Base.T @ np.zeros_like(f_diff)], 1"
   ]
  },
  {
   "cell_type": "code",
   "execution_count": 2,
   "metadata": {},
   "outputs": [],
   "source": [
    "def greedy_algorithm(tol, MUs, A_delta, f_delta, n=1):\n",
    "    # On prend un mu (au hasard) pour initialiser l'algorithme\n",
    "    mu_1 = MUs[0]\n",
    "    u_delta_mu_1 = npl.solve(A_delta(mu_1), f_delta(mu_1))\n",
    "    np.delete(MUs, 0)\n",
    "    \n",
    "    # B est la matrice de changement de base de A_delta à A_rb\n",
    "    B = np.copy(u_delta_mu_1)\n",
    "    \n",
    "    # A @ u = f pour un mu donné\n",
    "    \n",
    "    # On calcule tous les u_delta pour éviter de le refair dans la boucle par la suite\n",
    "    U_DELTA = np.array([npl.solve(A_delta(mu), f_delta(mu)) for mu in MUs])\n",
    "    \n",
    "    err = 1e10\n",
    "    \n",
    "    while err > tol and MUs.shape[0] > 0:\n",
    "        \n",
    "        eta = np.zeros(MUs.shape[0])\n",
    "        \n",
    "        for idx_mu, mu in enumerate(MUs):\n",
    "            A_delta_mu = A_delta(mu)\n",
    "            f_delta_mu = f_delta(mu)\n",
    "        \n",
    "            u_delta_mu = U_DELTA[idx_mu]\n",
    "            \n",
    "            # A_rb_mu @ u_rb_mu = f_rb_mu\n",
    "            # A_rb_mu = B.T @ A_delta_mu @ B\n",
    "            u_rb_mu = npl.solve(B.T @ A_delta_mu @ B, B.T @ f_delta_mu)\n",
    "            \n",
    "            # Pour l'instant, eta(mu) = ||u_delta - u_rb||_L2\n",
    "            eta[idx_mu] = npl.norm(u_delta_mu - u_rb_mu, ord=2)\n",
    "        \n",
    "        # On cherche la pire approximation\n",
    "        idx_worst_mu = np.argmax(eta)\n",
    "        \n",
    "        B = np.vstack((B, U_DELTA[idx_worst_mu]))\n",
    "        \n",
    "        np.delete(MUs[idx_worst_mu])\n",
    "        np.delete(U_DELTA[idx_worst_mu])\n",
    "        \n",
    "        err = eta[idx_worst_mu]\n",
    "        \n",
    "    return B"
   ]
  },
  {
   "cell_type": "code",
   "execution_count": null,
   "metadata": {},
   "outputs": [],
   "source": []
  }
 ],
 "metadata": {
  "kernelspec": {
   "display_name": "Python 3",
   "language": "python",
   "name": "python3"
  },
  "language_info": {
   "codemirror_mode": {
    "name": "ipython",
    "version": 3
   },
   "file_extension": ".py",
   "mimetype": "text/x-python",
   "name": "python",
   "nbconvert_exporter": "python",
   "pygments_lexer": "ipython3",
   "version": "3.7.7"
  }
 },
 "nbformat": 4,
 "nbformat_minor": 4
}
