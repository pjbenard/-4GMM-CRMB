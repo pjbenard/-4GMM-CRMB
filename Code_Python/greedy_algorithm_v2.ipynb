{
 "cells": [
  {
   "cell_type": "code",
   "execution_count": 33,
   "metadata": {},
   "outputs": [],
   "source": [
    "import numpy as np\n",
    "import numpy.linalg as npl\n",
    "import scipy.sparse as spsp\n",
    "import matplotlib.pyplot as plt"
   ]
  },
  {
   "cell_type": "code",
   "execution_count": 34,
   "metadata": {},
   "outputs": [
    {
     "data": {
      "text/plain": [
       "array([ 1. ,  2.8,  4.6,  6.4,  8.2, 10. ])"
      ]
     },
     "execution_count": 34,
     "metadata": {},
     "output_type": "execute_result"
    }
   ],
   "source": [
    "args = [1, 10, 6]\n",
    "np.linspace(*args)"
   ]
  },
  {
   "cell_type": "code",
   "execution_count": 35,
   "metadata": {},
   "outputs": [],
   "source": [
    "def training_set_creator(*args):\n",
    "    \"\"\"\n",
    "    args are a non-zero number of lists of size 3.\n",
    "    Example of use: we want the creation of an iteratable representing all possible elements on a n-dimensional grid\n",
    "    first dimension goes from a to b with c elements, then you pass \"[a,b,c]\" as a first argument.\n",
    "    return: n-dimensional grid on which you can iterate.\n",
    "    \n",
    "    \"\"\"\n",
    "    linspace_args = (np.linspace(*arg) for arg in args)\n",
    "    \n",
    "    meshes = np.meshgrid(*linspace_args)\n",
    "    dimensions = map(np.ravel, meshes)\n",
    "#     dimensions = [mesh.ravel() for mesh in meshes]\n",
    "    \n",
    "    tuples = zip(*dimensions)\n",
    "    return list(tuples)\n",
    "#     for tup in tuples:\n",
    "#         yield(tuple(tup))"
   ]
  },
  {
   "cell_type": "code",
   "execution_count": 36,
   "metadata": {},
   "outputs": [
    {
     "name": "stdout",
     "output_type": "stream",
     "text": [
      "1.46 ms ± 44.1 µs per loop (mean ± std. dev. of 7 runs, 100 loops each)\n"
     ]
    }
   ],
   "source": [
    "%%timeit\n",
    "T0 = np.array([1,50,50])\n",
    "T1 = np.array([1,5,100])\n",
    "training_set = training_set_creator(T0,T1)"
   ]
  },
  {
   "cell_type": "code",
   "execution_count": 37,
   "metadata": {},
   "outputs": [],
   "source": [
    "n = 5\n",
    "N_diff = 2**n\n",
    "f_diff = np.zeros(N_diff+2)\n",
    "f_diff[0] = 1\n",
    "\n",
    "#construction des matrices A en format sparse\n",
    "tab_A_0 = [np.repeat([1,0],[N_diff//2,N_diff//2+1],0),np.repeat([0,-2,-1,0],[1,N_diff//2-1,1,N_diff//2+1],0),np.repeat([0,1,0],[1,N_diff//2-1,N_diff//2+1],0)]\n",
    "tab_A_1 = [np.repeat([0,((N_diff+2)**2),0],[N_diff//2,N_diff//2,1],0),np.repeat([1,0,-((N_diff+2)**2),-2*((N_diff+2)**2),1],[1,N_diff//2-1,1,N_diff//2,1],0),np.repeat([0,((N_diff+2)**2)],[N_diff//2,N_diff//2+1],0)]\n",
    "A_0 = spsp.diags(tab_A_0,[-1,0,1],(N_diff+2,N_diff+2))*((N_diff+2)**2)\n",
    "A_1 = spsp.diags(tab_A_1,[-1,0,1],(N_diff+2,N_diff+2))\n"
   ]
  },
  {
   "cell_type": "code",
   "execution_count": 38,
   "metadata": {},
   "outputs": [],
   "source": [
    "def apply_mu(mu):\n",
    "    \"\"\"\n",
    "    from output of pre_computer and a mu: computes A_rb and f_rb and u_rb, the solution of A_rb.u_rb=f_rb\n",
    "    \"\"\"\n",
    "    A = A_1.todense()\n",
    "    A += A_0.todense() * mu[0]\n",
    "    \n",
    "    f = f_diff * mu[1]      \n",
    "        \n",
    "    return [A, f]\n",
    "\n",
    "def to_array_A_and_f(MUs):\n",
    "    A = []\n",
    "    f = []\n",
    "    \n",
    "    for mu in MUs:\n",
    "        temp = apply_mu(mu)\n",
    "        A.append(temp[0])\n",
    "        f.append(temp[1])\n",
    "        \n",
    "    return np.array(A), np.array(f)"
   ]
  },
  {
   "cell_type": "code",
   "execution_count": 39,
   "metadata": {},
   "outputs": [],
   "source": [
    "def greedy_algorithm(tol, MUs):\n",
    "    # On prend un mu (au hasard) pour initialiser l'algorithme\n",
    "    mu_1 = MUs[0]\n",
    "    A_delta_mu, f_delta_mu = apply_mu(mu_1)\n",
    "#     print(A_delta_mu, f_delta_mu)\n",
    "    u_delta_mu_1 = npl.solve(A_delta_mu, f_delta_mu)\n",
    "    np.delete(MUs, 0)\n",
    "    \n",
    "    # B est la matrice de changement de base de A_delta à A_rb\n",
    "    B = np.copy(u_delta_mu_1)\n",
    "    \n",
    "    # A @ u = f pour un mu donné\n",
    "    \n",
    "    # TODO: Repenser précomputing de A_DELTA et F_DELTA pour diminuer coûts mémoire\n",
    "    A_DELTA, F_DELTA = to_array_A_and_f(MUs)    \n",
    "    \n",
    "    # On calcule tous les u_delta pour éviter de le refair dans la boucle par la suite\n",
    "    U_DELTA = np.array([npl.solve(A_DELTA[idx], F_DELTA[idx]) for idx in range(len(MUs))])\n",
    "    \n",
    "    print(\"Offline phase done\")\n",
    "    \n",
    "    err = 1e10\n",
    "    \n",
    "    n = 1\n",
    "    \n",
    "    while err > tol and len(MUs) > 0:\n",
    "        print(f\"Itération n°{n}\")\n",
    "        print(\"Erreur:\", err)\n",
    "        \n",
    "        eta = np.zeros(len(MUs))\n",
    "        \n",
    "        for idx_mu, mu in enumerate(MUs):\n",
    "            A_delta_mu = A_DELTA[idx_mu]\n",
    "            f_delta_mu = F_DELTA[idx_mu]\n",
    "        \n",
    "            u_delta_mu = U_DELTA[idx_mu]\n",
    "            \n",
    "            # A_rb_mu @ u_rb_mu = f_rb_mu\n",
    "            # A_rb_mu = B.T @ A_delta_mu @ B\n",
    "        \n",
    "            try:\n",
    "                u_rb_mu = npl.solve(B @ A_delta_mu @ B.T, B @ f_delta_mu)\n",
    "                \n",
    "            except npl.LinAlgError:\n",
    "#                 if n == 3:\n",
    "#                     print(B.shape, A_delta_mu.shape, f_delta_mu.shape)\n",
    "#                     return B, A_delta_mu, f_delta_mu\n",
    "                u_rb_mu = npl.solve(B[np.newaxis, :] @ A_delta_mu @ B[np.newaxis, :].T, \n",
    "                                    B[np.newaxis, :] @ f_delta_mu)\n",
    "            \n",
    "            except ValueError:\n",
    "                return B, A_delta_mu, f_delta_mu\n",
    "            \n",
    "            \n",
    "            # Pour l'instant, eta(mu) = ||u_delta - u_rb||_L2\n",
    "            try:\n",
    "                eta[idx_mu] = npl.norm(u_delta_mu - u_rb_mu, ord=2)\n",
    "            except ValueError:\n",
    "                streched_u_rb_mu = B.T @ u_rb_mu\n",
    "                eta[idx_mu] = npl.norm(u_delta_mu - streched_u_rb_mu, ord=2)\n",
    "        \n",
    "        # On cherche la pire approximation\n",
    "        idx_worst_mu = np.argmax(eta)\n",
    "        \n",
    "        B = np.vstack((B, U_DELTA[idx_worst_mu]))\n",
    "        print(\"Mu choisi et son index dans la liste:\", MUs[idx_worst_mu], idx_worst_mu)\n",
    "#         np.delete(MUs, idx_worst_mu)\n",
    "        MUs.pop(idx_worst_mu)\n",
    "        np.delete(U_DELTA, idx_worst_mu)\n",
    "        err = eta[idx_worst_mu]\n",
    "        n += 1\n",
    "        \n",
    "    print(\"Erreur:\", err)\n",
    "    return B, err"
   ]
  },
  {
   "cell_type": "code",
   "execution_count": 40,
   "metadata": {},
   "outputs": [
    {
     "name": "stdout",
     "output_type": "stream",
     "text": [
      "Offline phase done\n",
      "Itération n°1\n",
      "Erreur: 10000000000.0\n",
      "Mu choisi et son index dans la liste: (50.0, 5.0) 4999\n",
      "Itération n°2\n",
      "Erreur: 23.248181187922434\n",
      "Mu choisi et son index dans la liste: (48.0, 5.0) 4997\n",
      "Erreur: 1.857221148076631e-09\n"
     ]
    }
   ],
   "source": [
    "### computes greedy_base\n",
    "T0 = np.array([1,50,50])\n",
    "T1 = np.array([1,5,100])\n",
    "training_set = training_set_creator(T0,T1)\n",
    "Base, error = greedy_algorithm(0.0001, training_set)\n",
    "# B, A, f = greedy_algorithm(0.0001, training_set)\n",
    "# u_delta, u_rb = greedy_algorithm(0.0001, training_set)"
   ]
  },
  {
   "cell_type": "code",
   "execution_count": 41,
   "metadata": {},
   "outputs": [
    {
     "data": {
      "text/plain": [
       "array([[1.        , 0.96969697, 0.93939394, 0.90909091, 0.87878788,\n",
       "        0.84848485, 0.81818182, 0.78787879, 0.75757576, 0.72727273,\n",
       "        0.6969697 , 0.66666667, 0.63636364, 0.60606061, 0.57575758,\n",
       "        0.54545455, 0.51515152, 0.48484848, 0.45454545, 0.42424242,\n",
       "        0.39393939, 0.36363636, 0.33333333, 0.3030303 , 0.27272727,\n",
       "        0.24242424, 0.21212121, 0.18181818, 0.15151515, 0.12121212,\n",
       "        0.09090909, 0.06060606, 0.03030303, 0.        ],\n",
       "       [5.        , 4.99422633, 4.98845266, 4.98267898, 4.97690531,\n",
       "        4.97113164, 4.96535797, 4.9595843 , 4.95381062, 4.94803695,\n",
       "        4.94226328, 4.93648961, 4.93071594, 4.92494226, 4.91916859,\n",
       "        4.91339492, 4.90762125, 4.61893764, 4.33025404, 4.04157044,\n",
       "        3.75288684, 3.46420323, 3.17551963, 2.88683603, 2.59815242,\n",
       "        2.30946882, 2.02078522, 1.73210162, 1.44341801, 1.15473441,\n",
       "        0.86605081, 0.57736721, 0.2886836 , 0.        ],\n",
       "       [5.        , 4.99399038, 4.98798077, 4.98197115, 4.97596154,\n",
       "        4.96995192, 4.96394231, 4.95793269, 4.95192308, 4.94591346,\n",
       "        4.93990385, 4.93389423, 4.92788462, 4.921875  , 4.91586538,\n",
       "        4.90985577, 4.90384615, 4.61538462, 4.32692308, 4.03846154,\n",
       "        3.75      , 3.46153846, 3.17307692, 2.88461538, 2.59615385,\n",
       "        2.30769231, 2.01923077, 1.73076923, 1.44230769, 1.15384615,\n",
       "        0.86538462, 0.57692308, 0.28846154, 0.        ]])"
      ]
     },
     "execution_count": 41,
     "metadata": {},
     "output_type": "execute_result"
    }
   ],
   "source": [
    "Base"
   ]
  },
  {
   "cell_type": "code",
   "execution_count": 14,
   "metadata": {},
   "outputs": [
    {
     "data": {
      "image/png": "[encoded data removed]",
      "text/plain": [
       "<Figure size 432x288 with 1 Axes>"
      ]
     },
     "metadata": {
      "needs_background": "light"
     },
     "output_type": "display_data"
    },
    {
     "data": {
      "image/png": "[encoded data removed]",
      "text/plain": [
       "<Figure size 432x288 with 1 Axes>"
      ]
     },
     "metadata": {
      "needs_background": "light"
     },
     "output_type": "display_data"
    },
    {
     "data": {
      "image/png": "[encoded data removed]",
      "text/plain": [
       "<Figure size 432x288 with 1 Axes>"
      ]
     },
     "metadata": {
      "needs_background": "light"
     },
     "output_type": "display_data"
    }
   ],
   "source": [
    "for b in Base:\n",
    "    plt.plot(b)\n",
    "    plt.show()"
   ]
  },
  {
   "cell_type": "code",
   "execution_count": 42,
   "metadata": {},
   "outputs": [
    {
     "ename": "NameError",
     "evalue": "name 'reduced_solver' is not defined",
     "output_type": "error",
     "traceback": [
      "\u001b[0;31m---------------------------------------------------------------------------\u001b[0m",
      "\u001b[0;31mNameError\u001b[0m                                 Traceback (most recent call last)",
      "\u001b[0;32m<ipython-input-42-c26c9f776c7f>\u001b[0m in \u001b[0;36m<module>\u001b[0;34m\u001b[0m\n\u001b[1;32m      1\u001b[0m \u001b[0;31m### From Base, fast evaluates u_rb(mu_test)\u001b[0m\u001b[0;34m\u001b[0m\u001b[0;34m\u001b[0m\u001b[0;34m\u001b[0m\u001b[0m\n\u001b[1;32m      2\u001b[0m \u001b[0mmu_test\u001b[0m \u001b[0;34m=\u001b[0m \u001b[0;34m(\u001b[0m\u001b[0;36m0.28\u001b[0m\u001b[0;34m,\u001b[0m\u001b[0;36m40\u001b[0m\u001b[0;34m)\u001b[0m\u001b[0;34m\u001b[0m\u001b[0;34m\u001b[0m\u001b[0m\n\u001b[0;32m----> 3\u001b[0;31m \u001b[0mU_rb\u001b[0m \u001b[0;34m=\u001b[0m \u001b[0mreduced_solver\u001b[0m\u001b[0;34m(\u001b[0m\u001b[0mmu_test\u001b[0m\u001b[0;34m,\u001b[0m\u001b[0mA_q\u001b[0m\u001b[0;34m,\u001b[0m\u001b[0mshape\u001b[0m\u001b[0;34m)\u001b[0m\u001b[0;34m\u001b[0m\u001b[0;34m\u001b[0m\u001b[0m\n\u001b[0m\u001b[1;32m      4\u001b[0m \u001b[0mX\u001b[0m\u001b[0;34m,\u001b[0m\u001b[0mU_true\u001b[0m \u001b[0;34m=\u001b[0m \u001b[0msolver\u001b[0m\u001b[0;34m(\u001b[0m\u001b[0mmu_test\u001b[0m\u001b[0;34m,\u001b[0m\u001b[0mplot\u001b[0m \u001b[0;34m=\u001b[0m \u001b[0;32mTrue\u001b[0m\u001b[0;34m)\u001b[0m\u001b[0;34m\u001b[0m\u001b[0;34m\u001b[0m\u001b[0m\n\u001b[1;32m      5\u001b[0m \u001b[0mplt\u001b[0m\u001b[0;34m.\u001b[0m\u001b[0mplot\u001b[0m\u001b[0;34m(\u001b[0m\u001b[0mX\u001b[0m\u001b[0;34m,\u001b[0m\u001b[0mU_true\u001b[0m\u001b[0;34m,\u001b[0m\u001b[0mlabel\u001b[0m\u001b[0;34m=\u001b[0m\u001b[0;34m\"true_sol\"\u001b[0m\u001b[0;34m)\u001b[0m\u001b[0;34m\u001b[0m\u001b[0;34m\u001b[0m\u001b[0m\n",
      "\u001b[0;31mNameError\u001b[0m: name 'reduced_solver' is not defined"
     ]
    }
   ],
   "source": [
    "### From Base, fast evaluates u_rb(mu_test)\n",
    "mu_test = (0.28,40)\n",
    "U_rb = reduced_solver(mu_test,A_q,shape)\n",
    "X,U_true = solver(mu_test,plot = True)\n",
    "plt.plot(X,U_true,label=\"true_sol\")\n",
    "plt.plot(X,Base.dot(U_rb),label=\"reduced_sol\")\n",
    "plt.legend()\n",
    "plt.show()\n",
    "print(np.sum(np.abs(U_true-Base.dot(U_rb))))"
   ]
  },
  {
   "cell_type": "code",
   "execution_count": 53,
   "metadata": {},
   "outputs": [
    {
     "data": {
      "text/plain": [
       "(34,)"
      ]
     },
     "execution_count": 53,
     "metadata": {},
     "output_type": "execute_result"
    }
   ],
   "source": [
    "apply_mu([2.5, 0.5])[1].shape"
   ]
  },
  {
   "cell_type": "code",
   "execution_count": 18,
   "metadata": {},
   "outputs": [
    {
     "data": {
      "text/plain": [
       "((2, 34), (34, 34), (34,))"
      ]
     },
     "execution_count": 18,
     "metadata": {},
     "output_type": "execute_result"
    }
   ],
   "source": [
    "B.shape, A.shape, f.shape"
   ]
  },
  {
   "cell_type": "code",
   "execution_count": 72,
   "metadata": {},
   "outputs": [
    {
     "data": {
      "text/plain": [
       "(34, 1)"
      ]
     },
     "execution_count": 72,
     "metadata": {},
     "output_type": "execute_result"
    }
   ],
   "source": [
    "B[:,np.newaxis].shape"
   ]
  },
  {
   "cell_type": "code",
   "execution_count": 71,
   "metadata": {},
   "outputs": [
    {
     "data": {
      "text/plain": [
       "(34,)"
      ]
     },
     "execution_count": 71,
     "metadata": {},
     "output_type": "execute_result"
    }
   ],
   "source": [
    "B.shape"
   ]
  },
  {
   "cell_type": "code",
   "execution_count": 19,
   "metadata": {},
   "outputs": [],
   "source": [
    "A_rb = B @ A @ B.T"
   ]
  },
  {
   "cell_type": "code",
   "execution_count": 21,
   "metadata": {},
   "outputs": [
    {
     "data": {
      "text/plain": [
       "(2, 2)"
      ]
     },
     "execution_count": 21,
     "metadata": {},
     "output_type": "execute_result"
    }
   ],
   "source": [
    "A_rb.shape"
   ]
  },
  {
   "cell_type": "code",
   "execution_count": 33,
   "metadata": {},
   "outputs": [
    {
     "data": {
      "text/plain": [
       "array([ 1.0000000e+00, -2.5669354e-16, -2.5669354e-16, -2.5669354e-16,\n",
       "       -2.5669354e-16, -2.5669354e-16, -2.5669354e-16, -2.5669354e-16,\n",
       "       -2.5669354e-16, -2.5669354e-16, -2.5669354e-16, -2.5669354e-16,\n",
       "       -2.5669354e-16, -2.5669354e-16, -2.5669354e-16, -2.5669354e-16,\n",
       "       -2.5669354e-16, -2.5669354e-16, -2.5669354e-16, -2.5669354e-16,\n",
       "       -2.5669354e-16, -2.5669354e-16, -2.5669354e-16, -2.5669354e-16,\n",
       "       -2.5669354e-16, -2.5669354e-16, -2.5669354e-16, -2.5669354e-16,\n",
       "       -2.5669354e-16, -2.5669354e-16, -2.5669354e-16, -2.5669354e-16,\n",
       "       -2.5669354e-16, -2.5669354e-16])"
      ]
     },
     "execution_count": 33,
     "metadata": {},
     "output_type": "execute_result"
    }
   ],
   "source": [
    "np.interp(x=np.arange(u_delta.size), xp=np.arange(u_rb.size), fp=u_rb)"
   ]
  },
  {
   "cell_type": "code",
   "execution_count": 49,
   "metadata": {},
   "outputs": [],
   "source": [
    "p = interpolate(u_rb, u_delta.size)"
   ]
  },
  {
   "cell_type": "code",
   "execution_count": 51,
   "metadata": {},
   "outputs": [
    {
     "data": {
      "image/png": "[encoded data removed]",
      "text/plain": [
       "<Figure size 432x288 with 1 Axes>"
      ]
     },
     "metadata": {
      "needs_background": "light"
     },
     "output_type": "display_data"
    },
    {
     "data": {
      "image/png": "[encoded data removed]",
      "text/plain": [
       "<Figure size 432x288 with 1 Axes>"
      ]
     },
     "metadata": {
      "needs_background": "light"
     },
     "output_type": "display_data"
    }
   ],
   "source": [
    "plt.figure()\n",
    "plt.plot(u_delta)\n",
    "plt.show()\n",
    "plt.figure()\n",
    "plt.plot(p)\n",
    "plt.show()"
   ]
  },
  {
   "cell_type": "code",
   "execution_count": null,
   "metadata": {},
   "outputs": [],
   "source": []
  },
  {
   "cell_type": "code",
   "execution_count": null,
   "metadata": {},
   "outputs": [],
   "source": []
  }
 ],
 "metadata": {
  "kernelspec": {
   "display_name": "Python 3",
   "language": "python",
   "name": "python3"
  },
  "language_info": {
   "codemirror_mode": {
    "name": "ipython",
    "version": 3
   },
   "file_extension": ".py",
   "mimetype": "text/x-python",
   "name": "python",
   "nbconvert_exporter": "python",
   "pygments_lexer": "ipython3",
   "version": "3.7.7"
  }
 },
 "nbformat": 4,
 "nbformat_minor": 4
}
