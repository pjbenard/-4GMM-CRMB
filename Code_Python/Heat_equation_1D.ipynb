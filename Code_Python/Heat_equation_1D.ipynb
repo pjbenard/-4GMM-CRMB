{
 "cells": [
  {
   "cell_type": "markdown",
   "metadata": {},
   "source": [
    "# Equation de la chaleur"
   ]
  },
  {
   "cell_type": "code",
   "execution_count": null,
   "metadata": {},
   "outputs": [],
   "source": [
    "import numpy as np\n",
    "import numpy.linalg as npl\n",
    "import numpy.random as npr\n",
    "import matplotlib.pyplot as plt\n",
    "import scipy.sparse as scs\n",
    "from math import sqrt\n",
    "import seaborn as sns \n",
    "import matplotlib.pyplot as plt\n",
    "import matplotlib.colors as colors\n",
    "from mpl_toolkits.mplot3d import Axes3D\n",
    "import scipy.sparse.linalg as scsl"
   ]
  },
  {
   "cell_type": "markdown",
   "metadata": {},
   "source": [
    "On considère l'équation de la chaleur\n",
    "\n",
    "$$\\partial_{t}u(t,x)=\\mu\\partial_{xx}u(t,x),~~\\forall t>0,~\\forall x\\in ]0,1[$$\n",
    "\n",
    "avec les conditions aux limites de Dirichlet homogènes et une condition initiale notée $u_0$."
   ]
  },
  {
   "cell_type": "code",
   "execution_count": null,
   "metadata": {},
   "outputs": [],
   "source": [
    "# Explicit Euler :\n",
    "\n",
    "def Euler_Exp(dt,dx,U0,Tinit,Tend,mu):\n",
    "    N = int((Tend-Tinit)/dt)\n",
    "    U = np.zeros((len(U0),N))\n",
    "    U[:,0] = U0\n",
    "    Utmp = U0.copy()\n",
    "    boundaries = np.ones_like(U0,dtype=bool)\n",
    "    boundaries[0] = False\n",
    "    boundaries[-1] = False \n",
    "    for i in range(N):\n",
    "        U[:,i]=U0 + mu*(dt/dx**2)*(np.roll(U0,+1) + np.roll(U0,-1) - 2*U0)\n",
    "        U[0,i]=0\n",
    "        U[len(U0)-1,i]=0\n",
    "        U0=U[:,i]\n",
    "    return np.array(U)"
   ]
  },
  {
   "cell_type": "code",
   "execution_count": null,
   "metadata": {},
   "outputs": [],
   "source": [
    "# Implicit Euler :\n",
    "\n",
    "def Euler_Imp(dt,dx,U0,Tinit,Tend,mu):\n",
    "    N = int(T/dt)\n",
    "    X=int(L/dx)\n",
    "    U = np.zeros((len(U0),N))\n",
    "    U[:,0] = U0\n",
    "    c = dt/(dx*dx)   \n",
    "    A = np.zeros((X,X))\n",
    "    I = np.identity(X)\n",
    "    A[0,0] = A[X-1,X-1] = mu*2/(dx*dx)\n",
    "    for i in range(1,X-1):\n",
    "        A[i,i]= mu*2/(dx*dx)\n",
    "        A[i,i-1] = A[i,i+1]= -mu/(dx*dx)\n",
    "    Ainv = npl.inv(A*dt+I)\n",
    "    for i in range(N-1):\n",
    "        U[:,i+1] = np.dot(Ainv,U[:,i])\n",
    "    return U"
   ]
  },
  {
   "cell_type": "code",
   "execution_count": null,
   "metadata": {},
   "outputs": [],
   "source": [
    "# Theta-scheme :\n",
    "\n",
    "def Theta(dt,dx,U0,Tinit,Tend,mu,theta):\n",
    "    N = int((Tend-Tinit)/dt)\n",
    "    X = len(U0)\n",
    "    U = np.zeros((X,N))\n",
    "    U[:,0] = U0\n",
    "    c = dt/(dx*dx)\n",
    "    A = np.zeros((X,X))\n",
    "    I = np.identity(X)\n",
    "    A[0,0] = A[X-1,X-1] = mu*2/(dx*dx)\n",
    "    for i in range(1,X-1):\n",
    "        A[i,i]= mu*2/(dx*dx)\n",
    "        A[i,i-1] = A[i,i+1]= -mu/(dx*dx)\n",
    "    Ainv = npl.inv(I + dt*A*(1-theta))\n",
    "    interm = np.zeros(X)\n",
    "    for i in range(N-1):\n",
    "        M = np.dot((I-dt*theta*A),Ainv)\n",
    "        U[0,i] = 0\n",
    "        U[X-1,i] = 0\n",
    "        U[:,i+1] = np.dot(U[:,i],M)\n",
    "    return U\n",
    "\n",
    "\n",
    "# Définition des schémas d'Euler à partir du theta-schéma\n",
    "\n",
    "def Euler_Imp(dt,dx,U0,Tinit,Tend,mu):\n",
    "    return Theta(dt,dx,U0,Tinit,Tend,mu, theta=0)\n",
    "\n",
    "def Euler_Exp(dt,dx,U0,Tinit,Tend,mu):\n",
    "    return Theta(dt,dx,U0,Tinit,Tend,mu, theta=1)"
   ]
  },
  {
   "cell_type": "code",
   "execution_count": null,
   "metadata": {},
   "outputs": [],
   "source": [
    "Tinit  = 0                                      #init\n",
    "T      = 0.3                                    #end\n",
    "L      = 1                                      #space length\n",
    "dt     = 0.00002                                #time step\n",
    "dx     = 0.010                                  #space step\n",
    "mu     = 0.3                                    #viscosité\n",
    "theta  = 1/2                                    #theta\n",
    "temps  = np.linspace(Tinit,T,int((T-Tinit)/dt)) #time-vector\n",
    "NT     = len(temps)                             #time-vector size\n",
    "espace = np.linspace(0,1,int(L/dx))             #space\n",
    "\n",
    "scheme = 3   #1:Euler_Exp, 2:Euler_Imp, 3:Theta\n",
    "cinit  = 2   #1:sinus, 2:créneau\n",
    "\n",
    "if cinit == 1:    #sinus\n",
    "    U0 = np.sin(np.pi * espace)\n",
    "elif cinit == 2:  #créneau\n",
    "    X = len(espace)\n",
    "    U0 = np.zeros(X, dtype=float)\n",
    "    U0[round(X/2 - sqrt(X/2)):round(X/2 + sqrt(X/2))] = 1.\n",
    "\n",
    "\n",
    "if scheme == 2:\n",
    "    U = Euler_Imp(dt,dx,U0,Tinit,T,mu) \n",
    "    \n",
    "elif scheme in [1, 3]:\n",
    "    if mu * (dt/dx) > 1:\n",
    "        print(\"CFL condition !\")\n",
    "    else:        \n",
    "        U = Theta(dt,dx,U0,Tinit,T,mu,theta)\n",
    "        \n",
    "else:\n",
    "    print(\"Wrong scheme number ! Choose a number between 1 and 3\")"
   ]
  },
  {
   "cell_type": "code",
   "execution_count": null,
   "metadata": {},
   "outputs": [],
   "source": [
    "for i in range(10):\n",
    "    t = NT * i // 10\n",
    "    plt.plot(espace,U[:,t])#label=\"Instant {}\".format(temps[t]))\n",
    "    \n",
    "plt.grid()\n",
    "plt.title(\"Température à différents instants\",fontsize = 15)\n",
    "plt.ylabel(\"Température\")\n",
    "plt.xlabel(\"x\")\n",
    "plt.show()"
   ]
  },
  {
   "cell_type": "code",
   "execution_count": null,
   "metadata": {},
   "outputs": [],
   "source": [
    "fig = plt.figure(figsize=(14,8))\n",
    "ax = fig.add_subplot(111, projection='3d')\n",
    "ax.set_xlabel('X', fontsize = 16)\n",
    "ax.set_ylabel('temps', fontsize = 16)\n",
    "ax.set_zlabel('temperature', fontsize = 16)\n",
    "ax.view_init(elev=15, azim = 120)\n",
    "\n",
    "[SX,ST]=np.meshgrid(espace,temps)\n",
    "a = ax.plot_surface(SX,ST,U.T,cstride=1,linewidth=0,cmap='jet')\n",
    "plt.title(\"Température (vue en 3D)\",fontsize=15)\n",
    "plt.colorbar(a)\n",
    "plt.show()"
   ]
  },
  {
   "cell_type": "markdown",
   "metadata": {},
   "source": [
    "## Recalls"
   ]
  },
  {
   "cell_type": "markdown",
   "metadata": {},
   "source": [
    "## Explicit Euler"
   ]
  },
  {
   "cell_type": "markdown",
   "metadata": {},
   "source": [
    "$$\\frac{U_j^{n+1}-U_j^{n}}{\\delta_t}=\\mu\\frac{U_{j-1}^n-2U_j^n+U_{j+1}^n}{\\delta_x^2}$$\n",
    "\n",
    "s.t.\n",
    "\n",
    "$$U_j^{n+1}=U_j^{n} + \\mu\\frac{\\delta_t}{\\delta_x^2}(U_{j-1}^n-2U_j^n+U_{j+1}^n)$$"
   ]
  },
  {
   "cell_type": "markdown",
   "metadata": {},
   "source": [
    "## Implicit Euler"
   ]
  },
  {
   "cell_type": "markdown",
   "metadata": {},
   "source": [
    "$$\\frac{U_j^{n+1}-U_j^{n}}{\\delta_t}=\\mu\\frac{U_{j-1}^{n+1}-2U_j^{n+1}+U_{j+1}^{n+1}}{\\delta_x^2}$$"
   ]
  },
  {
   "cell_type": "markdown",
   "metadata": {},
   "source": [
    "## Theta-scheme"
   ]
  },
  {
   "cell_type": "markdown",
   "metadata": {},
   "source": [
    "$$\\frac{U_j^{n+1}-U_j^{n}}{\\delta_t}=\\mu(1-\\theta)\\frac{U_{j-1}^{n+1}-2U_j^{n+1}+U_{j+1}^{n+1}}{\\delta_x^2}+\\mu\\theta\\frac{U_{j-1}^{n}-2U_j^{n}+U_{j+1}^{n}}{\\delta_x^2}$$"
   ]
  },
  {
   "cell_type": "markdown",
   "metadata": {},
   "source": [
    "On se donne le problème stationnaire 1D suivant:\n",
    "$$\\begin{cases}\n",
    "    \\lambda(x) u''(x) = 0 \\; , \\; \\forall x \\in [0;1]\\\\\n",
    "    u(0)=T_0\\; , \\; u(1)=0\\\\\n",
    "\\end{cases}$$.\n",
    "Avec : $$\\lambda(x) = \\begin{cases}\n",
    "        \\lambda_0 \\; , \\; \\text{si } x \\in[0;\\frac{1}{2}]\\\\\n",
    "        1 \\; , \\; \\text{si } x \\in[\\frac{1}{2};1]\\\\\n",
    "\\end{cases}$$.\n",
    "Les paramètres de ce problème sont alors:\n",
    "$$\\mu = (\\lambda_0, T_0) \\in \\mathbb{R}\\times \\mathbb{R}$$"
   ]
  },
  {
   "cell_type": "markdown",
   "metadata": {},
   "source": [
    "# Toy problem: 1D-Stationnary-Heat for RB"
   ]
  },
  {
   "cell_type": "code",
   "execution_count": null,
   "metadata": {},
   "outputs": [],
   "source": [
    "import scipy as sp\n",
    "import numpy as np\n",
    "import scipy.sparse.linalg as spspl\n",
    "import matplotlib.pyplot as plt"
   ]
  },
  {
   "cell_type": "code",
   "execution_count": null,
   "metadata": {},
   "outputs": [],
   "source": [
    "def second_membre_nul(x,mu):\n",
    "    coucou = np.zeros(len(x))\n",
    "    coucou[0] = mu[1]\n",
    "    return coucou\n",
    "\n",
    "#résolution par diff finies\n",
    "def solver(n,second_membre,mu):\n",
    "    # mu = [lambda_0, T_0]\n",
    "    N_diff = 2**n\n",
    "    x_diff_plot = sp.linspace(0,1,N_diff+2)\n",
    "    x_diff = x_diff_plot[:-1]\n",
    "    f_diff = second_membre(x_diff,mu)\n",
    "\n",
    "    #construction de la matrice A en format sparse\n",
    "    tab_A_0 = [np.repeat([1,0], [N_diff//2,N_diff//2], 0),\n",
    "               np.repeat([0,-2,-1,0], [1,N_diff//2-1,1,N_diff//2], 0),\n",
    "               np.repeat([0,1,0], [1,N_diff//2-1,N_diff//2], 0)]\n",
    "    tab_A_1 = [np.repeat([0,((N_diff+2)**2)], [N_diff//2,N_diff//2],0),np.repeat([1,0,-((N_diff+2)**2),-2*((N_diff+2)**2)],[1,N_diff//2-1,1,N_diff//2],0),np.repeat([0,((N_diff+2)**2)],[N_diff//2,N_diff//2],0)]\n",
    "    A_0 = sp.sparse.diags(tab_A_0,[-1,0,1],(N_diff+1,N_diff+1))*mu[0]*((N_diff+2)**2)\n",
    "    A_1 = sp.sparse.diags(tab_A_1,[-1,0,1],(N_diff+1,N_diff+1))\n",
    "    #NPA_0 = A_0.todense()\n",
    "    #NPA_1 = A_1.todense()\n",
    "    #print(NPA_0+NPA_1)\n",
    "    #print(NPA_1)\n",
    "\n",
    "    #résolution des diff finies (Au=f)\n",
    "    U_diff = spspl.spsolve(A_0+A_1,f_diff)\n",
    "\n",
    "    #préparation au plot\n",
    "    U_diff_plot = sp.zeros(N_diff+2)\n",
    "    U_diff_plot[:-1] = U_diff\n",
    "    \n",
    "    return x_diff_plot, U_diff_plot\n",
    "        "
   ]
  },
  {
   "cell_type": "code",
   "execution_count": null,
   "metadata": {},
   "outputs": [],
   "source": [
    "X,U1 = solver(5,second_membre_nul,[200,50])\n",
    "_,U2 = solver(5,second_membre_nul,[0.8,50])\n",
    "_,U3 = solver(5,second_membre_nul,[0.1,50])"
   ]
  },
  {
   "cell_type": "code",
   "execution_count": null,
   "metadata": {},
   "outputs": [],
   "source": [
    "plt.plot(X,U1,label=\"u1\")\n",
    "plt.plot(X,U2,label=\"u2\")\n",
    "plt.plot(X,U3,label=\"u3\")\n",
    "plt.legend()\n",
    "plt.show()"
   ]
  }
 ],
 "metadata": {
  "kernelspec": {
   "display_name": "Python 3",
   "language": "python",
   "name": "python3"
  },
  "language_info": {
   "codemirror_mode": {
    "name": "ipython",
    "version": 3
   },
   "file_extension": ".py",
   "mimetype": "text/x-python",
   "name": "python",
   "nbconvert_exporter": "python",
   "pygments_lexer": "ipython3",
   "version": "3.6.4"
  },
  "latex_envs": {
   "LaTeX_envs_menu_present": true,
   "autoclose": false,
   "autocomplete": true,
   "bibliofile": "biblio.bib",
   "cite_by": "apalike",
   "current_citInitial": 1,
   "eqLabelWithNumbers": true,
   "eqNumInitial": 1,
   "hotkeys": {
    "equation": "Ctrl-E",
    "itemize": "Ctrl-I"
   },
   "labels_anchors": false,
   "latex_user_defs": false,
   "report_style_numbering": false,
   "user_envs_cfg": false
  }
 },
 "nbformat": 4,
 "nbformat_minor": 4
}
