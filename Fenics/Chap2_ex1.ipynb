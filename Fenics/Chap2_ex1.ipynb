{
 "cells": [
  {
   "cell_type": "code",
   "execution_count": 70,
   "metadata": {
    "scrolled": false
   },
   "outputs": [
    {
     "name": "stdout",
     "output_type": "stream",
     "text": [
      "Populating the interactive namespace from numpy and matplotlib\n"
     ]
    },
    {
     "name": "stderr",
     "output_type": "stream",
     "text": [
      "/home/treillou/anaconda3/envs/fenicsproject/lib/python3.8/site-packages/IPython/core/magics/pylab.py:159: UserWarning: pylab import has clobbered these variables: ['norm', 'sqrt', 'exp', 'det', 'outer', 'plot', 'pi', 'inner', 'info', 'solve', 'cross', 'diff', 'split', 'gamma', 'sin', 'inv', 'tan', 'dot', 'cos']\n",
      "`%matplotlib` prevents importing * from pylab and numpy\n",
      "  warn(\"pylab import has clobbered these variables: %s\"  % clobbered +\n"
     ]
    }
   ],
   "source": [
    "%pylab inline\n",
    "from dolfin import *\n",
    "import numpy as np\n",
    "import matplotlib.pyplot as plt"
   ]
  },
  {
   "cell_type": "code",
   "execution_count": 80,
   "metadata": {},
   "outputs": [],
   "source": [
    "#Rayon rho\n",
    "r=0.35\n",
    "\n",
    "#Nx=Ny=N\n",
    "N=50\n",
    "\n",
    "#Paramètres mu             #mu0 entre 0.1 et 10\n",
    "mu = np.array([10,-1])     #mu1 entre  -1 et 1\n",
    "\n",
    "\n",
    "def Solver(mu0,mu1,N=50,r=0.2):\n",
    "    mu = np.array([mu0,mu1])\n",
    "    # Create classes for defining parts of the boundaries and the interior\n",
    "    # of the domain\n",
    "    class Left(SubDomain):\n",
    "        def inside(self, x, on_boundary):\n",
    "            return near(x[0], 0.0)\n",
    "\n",
    "    class Right(SubDomain):\n",
    "        def inside(self, x, on_boundary):\n",
    "            return near(x[0], 1.0)\n",
    "\n",
    "    class Bottom(SubDomain):\n",
    "        def inside(self, x, on_boundary):\n",
    "            return near(x[1], 0.0)\n",
    "\n",
    "    class Top(SubDomain):\n",
    "        def inside(self, x, on_boundary):\n",
    "            return near(x[1], 1.0)\n",
    "\n",
    "    class Gamma0(SubDomain):\n",
    "        def inside(self, x, on_boundary):\n",
    "            return (x[1]-0.5)**2<=r**2-(x[0]-0.5)**2 and (x[1]-0.5)**2<=r**2-(x[0]-0.5)**2\n",
    "\n",
    "    # Initialize sub-domain instances\n",
    "    left   = Left()\n",
    "    top    = Top()\n",
    "    right  = Right()\n",
    "    bottom = Bottom()\n",
    "    gamma  = Gamma0()\n",
    "\n",
    "    # Define mesh\n",
    "    mesh = UnitSquareMesh(N,N)\n",
    "\n",
    "    # Initialize mesh function for interior domains\n",
    "    domains = MeshFunction(\"size_t\", mesh, mesh.topology().dim())\n",
    "    domains.set_all(0)         #domains 0 = all space\n",
    "    gamma.mark(domains, 1)     #domains 1 = all gamma0\n",
    "\n",
    "    # Initialize mesh function for boundary domains\n",
    "    boundaries = MeshFunction(\"size_t\", mesh, mesh.topology().dim()-1) #1d domains\n",
    "    boundaries.set_all(0)      #boundaries 0 = all boundaries\n",
    "    left.mark(boundaries, 1)   #boundaries 1 = left (Neumann)\n",
    "    top.mark(boundaries, 2)    #boundaries 2 = top (Dirichlet)\n",
    "    right.mark(boundaries, 3)  #boundaries 3 = right (Neumann)\n",
    "    bottom.mark(boundaries, 4) #boundaries 4 = bottom (Neumann parametrized)\n",
    "\n",
    "    # Define input data\n",
    "    a1 = Constant(mu[0])  \n",
    "    a2 = Constant(mu[1])\n",
    "\n",
    "    # Define function space and basis functions\n",
    "    V = FunctionSpace(mesh, \"CG\", 1)\n",
    "    u = TrialFunction(V)\n",
    "    v = TestFunction(V)\n",
    "\n",
    "    # Define Dirichlet boundary conditions at top and bottom boundaries\n",
    "    bcs = [DirichletBC(V, 0.0, boundaries, 2)]\n",
    "\n",
    "    # Define new measures associated with the interior domains and\n",
    "    # exterior boundaries\n",
    "    dx = Measure('dx', domain=mesh, subdomain_data=domains)\n",
    "    ds = Measure('ds', domain=mesh, subdomain_data=boundaries)\n",
    "\n",
    "    # Separate left and right hand sides of equation\n",
    "    a = inner(grad(u),grad(v))*dx(0) + inner(a1*grad(u),grad(v))*dx(1)\n",
    "    L = a2*v*ds(4)\n",
    "\n",
    "    # Solve problem\n",
    "    u = Function(V)\n",
    "    solve(a == L, u, bcs)\n",
    "    return u"
   ]
  },
  {
   "cell_type": "code",
   "execution_count": 82,
   "metadata": {},
   "outputs": [
    {
     "data": {
      "image/png": "[encoded data removed]",
      "text/plain": [
       "<Figure size 432x288 with 2 Axes>"
      ]
     },
     "metadata": {
      "needs_background": "light"
     },
     "output_type": "display_data"
    }
   ],
   "source": [
    "u = Solver(2,0.9)\n",
    "\n",
    "# Plot solution\n",
    "plt.figure()\n",
    "c = plot(u, title=\"Heat\")\n",
    "plt.xlabel(\"x\")\n",
    "plt.ylabel(\"y\")\n",
    "plt.colorbar(c)\n",
    "plt.show()"
   ]
  },
  {
   "cell_type": "code",
   "execution_count": 66,
   "metadata": {},
   "outputs": [
    {
     "name": "stderr",
     "output_type": "stream",
     "text": [
      "Traceback (most recent call last):\n",
      "  File \"/home/treillou/anaconda3/envs/fenicsproject/lib/python3.8/site-packages/matplotlib/cbook/__init__.py\", line 196, in process\n",
      "    func(*args, **kwargs)\n",
      "  File \"/home/treillou/anaconda3/envs/fenicsproject/lib/python3.8/site-packages/matplotlib/animation.py\", line 951, in _start\n",
      "    self._init_draw()\n",
      "  File \"/home/treillou/anaconda3/envs/fenicsproject/lib/python3.8/site-packages/matplotlib/animation.py\", line 1525, in _init_draw\n",
      "    artist.set_visible(False)\n",
      "AttributeError: 'TriContourSet' object has no attribute 'set_visible'\n"
     ]
    },
    {
     "data": {
      "image/png": "[encoded data removed]",
      "text/plain": [
       "<Figure size 432x288 with 1 Axes>"
      ]
     },
     "metadata": {
      "needs_background": "light"
     },
     "output_type": "display_data"
    }
   ],
   "source": [
    "import matplotlib.animation as animation\n",
    "mu1 = np.linspace(-1,1,10)\n",
    "mu0 = np.linspace(0.1,10,10)\n",
    "U = []\n",
    "n = 0\n",
    "fig = plt.figure()\n",
    "ims = []\n",
    "for i in range(10):\n",
    "    for j in range(10):\n",
    "            im=plot(Solver(mu0[i],mu1[j],N=10),animated=True)\n",
    "            ims.append([im])\n",
    "\n",
    "ani = animation.ArtistAnimation(fig, ims, interval=50, blit=True,\n",
    "                                repeat_delay=1000)\n",
    "\n",
    "plt.show()"
   ]
  },
  {
   "cell_type": "code",
   "execution_count": null,
   "metadata": {},
   "outputs": [],
   "source": []
  }
 ],
 "metadata": {
  "kernelspec": {
   "display_name": "Python 3",
   "language": "python",
   "name": "python3"
  },
  "language_info": {
   "codemirror_mode": {
    "name": "ipython",
    "version": 3
   },
   "file_extension": ".py",
   "mimetype": "text/x-python",
   "name": "python",
   "nbconvert_exporter": "python",
   "pygments_lexer": "ipython3",
   "version": "3.8.2"
  }
 },
 "nbformat": 4,
 "nbformat_minor": 4
}
