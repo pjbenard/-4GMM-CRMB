{
 "cells": [
  {
   "cell_type": "code",
   "execution_count": 1,
   "metadata": {
    "scrolled": false
   },
   "outputs": [
    {
     "name": "stdout",
     "output_type": "stream",
     "text": [
      "Populating the interactive namespace from numpy and matplotlib\n"
     ]
    }
   ],
   "source": [
    "%pylab inline\n",
    "from dolfin import *\n",
    "import numpy as np\n",
    "import numpy.linalg as npl\n",
    "import matplotlib.pyplot as plt"
   ]
  },
  {
   "cell_type": "code",
   "execution_count": 37,
   "metadata": {},
   "outputs": [],
   "source": [
    "#Rayon rho\n",
    "r=0.35\n",
    "\n",
    "#Nx=Ny=N\n",
    "N=50\n",
    "\n",
    "#Paramètres mu             #mu0 entre 0.1 et 10\n",
    "mu = np.array([10,-1])     #mu1 entre  -1 et 1\n",
    "\n",
    "\n",
    "def Solver(mu0,mu1,N=50,r=0.1):\n",
    "    mu = np.array([mu0,mu1])\n",
    "    # Create classes for defining parts of the boundaries and the interior\n",
    "    # of the domain\n",
    "    class Left(SubDomain):\n",
    "        def inside(self, x, on_boundary):\n",
    "            return near(x[0], 0.0)\n",
    "\n",
    "    class Right(SubDomain):\n",
    "        def inside(self, x, on_boundary):\n",
    "            return near(x[0], 1.0)\n",
    "\n",
    "    class Bottom(SubDomain):\n",
    "        def inside(self, x, on_boundary):\n",
    "            return near(x[1], 0.0)\n",
    "\n",
    "    class Top(SubDomain):\n",
    "        def inside(self, x, on_boundary):\n",
    "            return near(x[1], 1.0)\n",
    "\n",
    "    class Gamma0(SubDomain):\n",
    "        def inside(self, x, on_boundary):\n",
    "            return (x[1]-0.5)**2<=r**2-(x[0]-0.5)**2 and (x[1]-0.5)**2<=r**2-(x[0]-0.5)**2\n",
    "\n",
    "    # Initialize sub-domain instances\n",
    "    left   = Left()\n",
    "    top    = Top()\n",
    "    right  = Right()\n",
    "    bottom = Bottom()\n",
    "    gamma  = Gamma0()\n",
    "\n",
    "    # Define mesh\n",
    "    mesh = UnitSquareMesh(N,N)\n",
    "    #mesh = RectangleMesh(Point(-1, -1.0), Point(1.0, 1.0), 10, 10)\n",
    "    #plot(mesh)\n",
    "\n",
    "    # Initialize mesh function for interior domains\n",
    "    domains = MeshFunction(\"size_t\", mesh, mesh.topology().dim())\n",
    "    domains.set_all(0)         #domains 0 = all space\n",
    "    gamma.mark(domains, 1)     #domains 1 = all gamma0\n",
    "\n",
    "    # Initialize mesh function for boundary domains\n",
    "    boundaries = MeshFunction(\"size_t\", mesh, mesh.topology().dim()-1) #1d domains\n",
    "    #boundaries = FacetFunction(\"size_t\",mesh,0)\n",
    "    boundaries.set_all(0)      #boundaries 0 = all boundaries\n",
    "    left.mark(boundaries, 1)   #boundaries 1 = left (Neumann)\n",
    "    top.mark(boundaries, 2)    #boundaries 2 = top (Dirichlet)\n",
    "    right.mark(boundaries, 3)  #boundaries 3 = right (Neumann)\n",
    "    bottom.mark(boundaries, 4) #boundaries 4 = bottom (Neumann parametrized)\n",
    "\n",
    "    # Define input data\n",
    "    a1 = Constant(mu[0])  \n",
    "    a2 = Constant(mu[1])\n",
    "\n",
    "    # Define function space and basis functions\n",
    "    V = FunctionSpace(mesh, \"Lagrange\", 1)\n",
    "    u = TrialFunction(V)\n",
    "    v = TestFunction(V)\n",
    "\n",
    "    # Define Dirichlet boundary conditions at top and bottom boundaries\n",
    "    bcs = [DirichletBC(V, 0.0, boundaries, 2)]\n",
    "\n",
    "    # Define new measures associated with the interior domains and\n",
    "    # exterior boundaries\n",
    "    dx = Measure('dx', domain=mesh, subdomain_data=domains)\n",
    "    ds = Measure('ds', domain=mesh, subdomain_data=boundaries)\n",
    "\n",
    "    # Separate left and right hand sides of equation\n",
    "    a = inner(grad(u),grad(v))*dx(0) + inner(a1*grad(u),grad(v))*dx(1)\n",
    "    L = a2*v*ds(4)\n",
    "\n",
    "    #A = assemble(a)\n",
    "    #b = assemble(L)\n",
    "    #Ad = A.convert(\"dense\")\n",
    "\n",
    "    #A = assemble(a)\n",
    "    #b = assemble(L)\n",
    "    #print(type(A.array()))\n",
    "    #u2 = npl.solve(A.array(),b.get_local())\n",
    "    #print(b.get_local())\n",
    "    #u2arr = u2.reshape(51,51)\n",
    "    #plt.plot(b.get_local())\n",
    "    \n",
    "    \n",
    "    # Solve problem\n",
    "    u = Function(V)\n",
    "    solve(a == L,u, bcs)\n",
    "    #solve(A,u,b,bcs)\n",
    "    c = plot(u)\n",
    "    plt.colorbar(c)\n",
    "    \n",
    "    return u"
   ]
  },
  {
   "cell_type": "code",
   "execution_count": 38,
   "metadata": {},
   "outputs": [
    {
     "data": {
      "image/png": "[encoded data removed]",
      "text/plain": [
       "<Figure size 432x288 with 2 Axes>"
      ]
     },
     "metadata": {
      "needs_background": "light"
     },
     "output_type": "display_data"
    }
   ],
   "source": [
    "u = Solver(10,0.5,r=0.3,N=50)\n",
    "\n",
    "# Plot solution\n",
    "#print(type(u))\n",
    "#plt.figure()\n",
    "#c = plot(u, title=\"Heat\")\n",
    "#plt.xlabel(\"x\")\n",
    "#plt.ylabel(\"y\")\n",
    "#plt.colorbar(c)\n",
    "#plt.show()"
   ]
  },
  {
   "cell_type": "code",
   "execution_count": 13,
   "metadata": {},
   "outputs": [
    {
     "data": {
      "text/plain": [
       "[<matplotlib.lines.Line2D at 0x7ff0bc196550>,\n",
       " <matplotlib.lines.Line2D at 0x7ff0bc1968e0>]"
      ]
     },
     "execution_count": 13,
     "metadata": {},
     "output_type": "execute_result"
    },
    {
     "data": {
      "image/png": "[encoded data removed]",
      "text/plain": [
       "<Figure size 432x288 with 1 Axes>"
      ]
     },
     "metadata": {
      "needs_background": "light"
     },
     "output_type": "display_data"
    }
   ],
   "source": [
    "mesh = RectangleMesh(Point(-1, -1.0), Point(1.0, 1.0), 10, 10)\n",
    "plot(mesh)"
   ]
  },
  {
   "cell_type": "markdown",
   "metadata": {},
   "source": [
    "# Passer de Function (Fenics) à nd.array (et inversement)"
   ]
  },
  {
   "cell_type": "code",
   "execution_count": 20,
   "metadata": {},
   "outputs": [
    {
     "name": "stdout",
     "output_type": "stream",
     "text": [
      "Type de u :  <class 'dolfin.function.function.Function'>\n",
      "(2601,)\n"
     ]
    },
    {
     "data": {
      "image/png": "[encoded data removed]",
      "text/plain": [
       "<Figure size 432x288 with 1 Axes>"
      ]
     },
     "metadata": {
      "needs_background": "light"
     },
     "output_type": "display_data"
    },
    {
     "data": {
      "image/png": "[encoded data removed]",
      "text/plain": [
       "<Figure size 432x288 with 2 Axes>"
      ]
     },
     "metadata": {
      "needs_background": "light"
     },
     "output_type": "display_data"
    },
    {
     "data": {
      "image/png": "[encoded data removed]",
      "text/plain": [
       "<Figure size 432x288 with 1 Axes>"
      ]
     },
     "metadata": {
      "needs_background": "light"
     },
     "output_type": "display_data"
    }
   ],
   "source": [
    "# On a u qui est de type Function\n",
    "print(\"Type de u : \",type(u))\n",
    "plot(u)\n",
    "# On passe u en vecteur Numpy, uar\n",
    "uar = u.vector().get_local()\n",
    "print(np.shape(uar))\n",
    "# On peut reshape uar pour avoir une matrice mais ça fait un peu n'imp\n",
    "uarrs = uar.reshape((51,51))\n",
    "plt.figure()\n",
    "plt.imshow(uarrs)\n",
    "plt.colorbar()\n",
    "plt.show()\n",
    "\n",
    "# On prend u = Function(V) (défini dans la fonction Solver ici) et on passe en Function\n",
    "u.vector().set_local(uarrs.reshape(2601))\n",
    "plt.figure()\n",
    "plot(u)\n",
    "plt.show()"
   ]
  },
  {
   "cell_type": "code",
   "execution_count": 7,
   "metadata": {},
   "outputs": [
    {
     "name": "stderr",
     "output_type": "stream",
     "text": [
      "/home/treillou/anaconda3/envs/fenicsproject/lib/python3.8/site-packages/dolfin/common/plotting.py:152: UserWarning: The following kwargs were not used by contour: 'animated'\n",
      "  return ax.tricontourf(mesh2triang(mesh), C, levels, **kwargs)\n",
      "/home/treillou/anaconda3/envs/fenicsproject/lib/python3.8/site-packages/dolfin/common/plotting.py:152: UserWarning: The following kwargs were not used by contour: 'animated'\n",
      "  return ax.tricontourf(mesh2triang(mesh), C, levels, **kwargs)\n",
      "/home/treillou/anaconda3/envs/fenicsproject/lib/python3.8/site-packages/dolfin/common/plotting.py:152: UserWarning: The following kwargs were not used by contour: 'animated'\n",
      "  return ax.tricontourf(mesh2triang(mesh), C, levels, **kwargs)\n",
      "/home/treillou/anaconda3/envs/fenicsproject/lib/python3.8/site-packages/dolfin/common/plotting.py:152: UserWarning: The following kwargs were not used by contour: 'animated'\n",
      "  return ax.tricontourf(mesh2triang(mesh), C, levels, **kwargs)\n",
      "/home/treillou/anaconda3/envs/fenicsproject/lib/python3.8/site-packages/dolfin/common/plotting.py:152: UserWarning: The following kwargs were not used by contour: 'animated'\n",
      "  return ax.tricontourf(mesh2triang(mesh), C, levels, **kwargs)\n",
      "/home/treillou/anaconda3/envs/fenicsproject/lib/python3.8/site-packages/dolfin/common/plotting.py:152: UserWarning: The following kwargs were not used by contour: 'animated'\n",
      "  return ax.tricontourf(mesh2triang(mesh), C, levels, **kwargs)\n",
      "/home/treillou/anaconda3/envs/fenicsproject/lib/python3.8/site-packages/dolfin/common/plotting.py:152: UserWarning: The following kwargs were not used by contour: 'animated'\n",
      "  return ax.tricontourf(mesh2triang(mesh), C, levels, **kwargs)\n",
      "/home/treillou/anaconda3/envs/fenicsproject/lib/python3.8/site-packages/dolfin/common/plotting.py:152: UserWarning: The following kwargs were not used by contour: 'animated'\n",
      "  return ax.tricontourf(mesh2triang(mesh), C, levels, **kwargs)\n",
      "/home/treillou/anaconda3/envs/fenicsproject/lib/python3.8/site-packages/dolfin/common/plotting.py:152: UserWarning: The following kwargs were not used by contour: 'animated'\n",
      "  return ax.tricontourf(mesh2triang(mesh), C, levels, **kwargs)\n",
      "/home/treillou/anaconda3/envs/fenicsproject/lib/python3.8/site-packages/dolfin/common/plotting.py:152: UserWarning: The following kwargs were not used by contour: 'animated'\n",
      "  return ax.tricontourf(mesh2triang(mesh), C, levels, **kwargs)\n",
      "/home/treillou/anaconda3/envs/fenicsproject/lib/python3.8/site-packages/dolfin/common/plotting.py:152: UserWarning: The following kwargs were not used by contour: 'animated'\n",
      "  return ax.tricontourf(mesh2triang(mesh), C, levels, **kwargs)\n",
      "/home/treillou/anaconda3/envs/fenicsproject/lib/python3.8/site-packages/dolfin/common/plotting.py:152: UserWarning: The following kwargs were not used by contour: 'animated'\n",
      "  return ax.tricontourf(mesh2triang(mesh), C, levels, **kwargs)\n",
      "/home/treillou/anaconda3/envs/fenicsproject/lib/python3.8/site-packages/dolfin/common/plotting.py:152: UserWarning: The following kwargs were not used by contour: 'animated'\n",
      "  return ax.tricontourf(mesh2triang(mesh), C, levels, **kwargs)\n",
      "/home/treillou/anaconda3/envs/fenicsproject/lib/python3.8/site-packages/dolfin/common/plotting.py:152: UserWarning: The following kwargs were not used by contour: 'animated'\n",
      "  return ax.tricontourf(mesh2triang(mesh), C, levels, **kwargs)\n",
      "/home/treillou/anaconda3/envs/fenicsproject/lib/python3.8/site-packages/dolfin/common/plotting.py:152: UserWarning: The following kwargs were not used by contour: 'animated'\n",
      "  return ax.tricontourf(mesh2triang(mesh), C, levels, **kwargs)\n",
      "/home/treillou/anaconda3/envs/fenicsproject/lib/python3.8/site-packages/dolfin/common/plotting.py:152: UserWarning: The following kwargs were not used by contour: 'animated'\n",
      "  return ax.tricontourf(mesh2triang(mesh), C, levels, **kwargs)\n",
      "/home/treillou/anaconda3/envs/fenicsproject/lib/python3.8/site-packages/dolfin/common/plotting.py:152: UserWarning: The following kwargs were not used by contour: 'animated'\n",
      "  return ax.tricontourf(mesh2triang(mesh), C, levels, **kwargs)\n",
      "/home/treillou/anaconda3/envs/fenicsproject/lib/python3.8/site-packages/dolfin/common/plotting.py:152: UserWarning: The following kwargs were not used by contour: 'animated'\n",
      "  return ax.tricontourf(mesh2triang(mesh), C, levels, **kwargs)\n",
      "/home/treillou/anaconda3/envs/fenicsproject/lib/python3.8/site-packages/dolfin/common/plotting.py:152: UserWarning: The following kwargs were not used by contour: 'animated'\n",
      "  return ax.tricontourf(mesh2triang(mesh), C, levels, **kwargs)\n",
      "/home/treillou/anaconda3/envs/fenicsproject/lib/python3.8/site-packages/dolfin/common/plotting.py:152: UserWarning: The following kwargs were not used by contour: 'animated'\n",
      "  return ax.tricontourf(mesh2triang(mesh), C, levels, **kwargs)\n",
      "/home/treillou/anaconda3/envs/fenicsproject/lib/python3.8/site-packages/dolfin/common/plotting.py:152: UserWarning: The following kwargs were not used by contour: 'animated'\n",
      "  return ax.tricontourf(mesh2triang(mesh), C, levels, **kwargs)\n",
      "/home/treillou/anaconda3/envs/fenicsproject/lib/python3.8/site-packages/dolfin/common/plotting.py:152: UserWarning: The following kwargs were not used by contour: 'animated'\n",
      "  return ax.tricontourf(mesh2triang(mesh), C, levels, **kwargs)\n",
      "/home/treillou/anaconda3/envs/fenicsproject/lib/python3.8/site-packages/dolfin/common/plotting.py:152: UserWarning: The following kwargs were not used by contour: 'animated'\n",
      "  return ax.tricontourf(mesh2triang(mesh), C, levels, **kwargs)\n",
      "/home/treillou/anaconda3/envs/fenicsproject/lib/python3.8/site-packages/dolfin/common/plotting.py:152: UserWarning: The following kwargs were not used by contour: 'animated'\n",
      "  return ax.tricontourf(mesh2triang(mesh), C, levels, **kwargs)\n",
      "/home/treillou/anaconda3/envs/fenicsproject/lib/python3.8/site-packages/dolfin/common/plotting.py:152: UserWarning: The following kwargs were not used by contour: 'animated'\n",
      "  return ax.tricontourf(mesh2triang(mesh), C, levels, **kwargs)\n",
      "/home/treillou/anaconda3/envs/fenicsproject/lib/python3.8/site-packages/dolfin/common/plotting.py:152: UserWarning: The following kwargs were not used by contour: 'animated'\n",
      "  return ax.tricontourf(mesh2triang(mesh), C, levels, **kwargs)\n",
      "/home/treillou/anaconda3/envs/fenicsproject/lib/python3.8/site-packages/dolfin/common/plotting.py:152: UserWarning: The following kwargs were not used by contour: 'animated'\n",
      "  return ax.tricontourf(mesh2triang(mesh), C, levels, **kwargs)\n",
      "/home/treillou/anaconda3/envs/fenicsproject/lib/python3.8/site-packages/dolfin/common/plotting.py:152: UserWarning: The following kwargs were not used by contour: 'animated'\n",
      "  return ax.tricontourf(mesh2triang(mesh), C, levels, **kwargs)\n",
      "/home/treillou/anaconda3/envs/fenicsproject/lib/python3.8/site-packages/dolfin/common/plotting.py:152: UserWarning: The following kwargs were not used by contour: 'animated'\n",
      "  return ax.tricontourf(mesh2triang(mesh), C, levels, **kwargs)\n",
      "/home/treillou/anaconda3/envs/fenicsproject/lib/python3.8/site-packages/dolfin/common/plotting.py:152: UserWarning: The following kwargs were not used by contour: 'animated'\n",
      "  return ax.tricontourf(mesh2triang(mesh), C, levels, **kwargs)\n",
      "/home/treillou/anaconda3/envs/fenicsproject/lib/python3.8/site-packages/dolfin/common/plotting.py:152: UserWarning: The following kwargs were not used by contour: 'animated'\n",
      "  return ax.tricontourf(mesh2triang(mesh), C, levels, **kwargs)\n",
      "/home/treillou/anaconda3/envs/fenicsproject/lib/python3.8/site-packages/dolfin/common/plotting.py:152: UserWarning: The following kwargs were not used by contour: 'animated'\n",
      "  return ax.tricontourf(mesh2triang(mesh), C, levels, **kwargs)\n",
      "/home/treillou/anaconda3/envs/fenicsproject/lib/python3.8/site-packages/dolfin/common/plotting.py:152: UserWarning: The following kwargs were not used by contour: 'animated'\n",
      "  return ax.tricontourf(mesh2triang(mesh), C, levels, **kwargs)\n",
      "/home/treillou/anaconda3/envs/fenicsproject/lib/python3.8/site-packages/dolfin/common/plotting.py:152: UserWarning: The following kwargs were not used by contour: 'animated'\n",
      "  return ax.tricontourf(mesh2triang(mesh), C, levels, **kwargs)\n",
      "/home/treillou/anaconda3/envs/fenicsproject/lib/python3.8/site-packages/dolfin/common/plotting.py:152: UserWarning: The following kwargs were not used by contour: 'animated'\n",
      "  return ax.tricontourf(mesh2triang(mesh), C, levels, **kwargs)\n",
      "/home/treillou/anaconda3/envs/fenicsproject/lib/python3.8/site-packages/dolfin/common/plotting.py:152: UserWarning: The following kwargs were not used by contour: 'animated'\n",
      "  return ax.tricontourf(mesh2triang(mesh), C, levels, **kwargs)\n"
     ]
    },
    {
     "name": "stderr",
     "output_type": "stream",
     "text": [
      "/home/treillou/anaconda3/envs/fenicsproject/lib/python3.8/site-packages/dolfin/common/plotting.py:152: UserWarning: The following kwargs were not used by contour: 'animated'\n",
      "  return ax.tricontourf(mesh2triang(mesh), C, levels, **kwargs)\n",
      "/home/treillou/anaconda3/envs/fenicsproject/lib/python3.8/site-packages/dolfin/common/plotting.py:152: UserWarning: The following kwargs were not used by contour: 'animated'\n",
      "  return ax.tricontourf(mesh2triang(mesh), C, levels, **kwargs)\n",
      "/home/treillou/anaconda3/envs/fenicsproject/lib/python3.8/site-packages/dolfin/common/plotting.py:152: UserWarning: The following kwargs were not used by contour: 'animated'\n",
      "  return ax.tricontourf(mesh2triang(mesh), C, levels, **kwargs)\n",
      "/home/treillou/anaconda3/envs/fenicsproject/lib/python3.8/site-packages/dolfin/common/plotting.py:152: UserWarning: The following kwargs were not used by contour: 'animated'\n",
      "  return ax.tricontourf(mesh2triang(mesh), C, levels, **kwargs)\n",
      "/home/treillou/anaconda3/envs/fenicsproject/lib/python3.8/site-packages/dolfin/common/plotting.py:152: UserWarning: The following kwargs were not used by contour: 'animated'\n",
      "  return ax.tricontourf(mesh2triang(mesh), C, levels, **kwargs)\n",
      "/home/treillou/anaconda3/envs/fenicsproject/lib/python3.8/site-packages/dolfin/common/plotting.py:152: UserWarning: The following kwargs were not used by contour: 'animated'\n",
      "  return ax.tricontourf(mesh2triang(mesh), C, levels, **kwargs)\n",
      "/home/treillou/anaconda3/envs/fenicsproject/lib/python3.8/site-packages/dolfin/common/plotting.py:152: UserWarning: The following kwargs were not used by contour: 'animated'\n",
      "  return ax.tricontourf(mesh2triang(mesh), C, levels, **kwargs)\n",
      "/home/treillou/anaconda3/envs/fenicsproject/lib/python3.8/site-packages/dolfin/common/plotting.py:152: UserWarning: The following kwargs were not used by contour: 'animated'\n",
      "  return ax.tricontourf(mesh2triang(mesh), C, levels, **kwargs)\n",
      "/home/treillou/anaconda3/envs/fenicsproject/lib/python3.8/site-packages/dolfin/common/plotting.py:152: UserWarning: The following kwargs were not used by contour: 'animated'\n",
      "  return ax.tricontourf(mesh2triang(mesh), C, levels, **kwargs)\n",
      "/home/treillou/anaconda3/envs/fenicsproject/lib/python3.8/site-packages/dolfin/common/plotting.py:152: UserWarning: The following kwargs were not used by contour: 'animated'\n",
      "  return ax.tricontourf(mesh2triang(mesh), C, levels, **kwargs)\n",
      "/home/treillou/anaconda3/envs/fenicsproject/lib/python3.8/site-packages/dolfin/common/plotting.py:152: UserWarning: The following kwargs were not used by contour: 'animated'\n",
      "  return ax.tricontourf(mesh2triang(mesh), C, levels, **kwargs)\n",
      "/home/treillou/anaconda3/envs/fenicsproject/lib/python3.8/site-packages/dolfin/common/plotting.py:152: UserWarning: The following kwargs were not used by contour: 'animated'\n",
      "  return ax.tricontourf(mesh2triang(mesh), C, levels, **kwargs)\n",
      "/home/treillou/anaconda3/envs/fenicsproject/lib/python3.8/site-packages/dolfin/common/plotting.py:152: UserWarning: The following kwargs were not used by contour: 'animated'\n",
      "  return ax.tricontourf(mesh2triang(mesh), C, levels, **kwargs)\n",
      "/home/treillou/anaconda3/envs/fenicsproject/lib/python3.8/site-packages/dolfin/common/plotting.py:152: UserWarning: The following kwargs were not used by contour: 'animated'\n",
      "  return ax.tricontourf(mesh2triang(mesh), C, levels, **kwargs)\n",
      "/home/treillou/anaconda3/envs/fenicsproject/lib/python3.8/site-packages/dolfin/common/plotting.py:152: UserWarning: The following kwargs were not used by contour: 'animated'\n",
      "  return ax.tricontourf(mesh2triang(mesh), C, levels, **kwargs)\n",
      "/home/treillou/anaconda3/envs/fenicsproject/lib/python3.8/site-packages/dolfin/common/plotting.py:152: UserWarning: The following kwargs were not used by contour: 'animated'\n",
      "  return ax.tricontourf(mesh2triang(mesh), C, levels, **kwargs)\n",
      "/home/treillou/anaconda3/envs/fenicsproject/lib/python3.8/site-packages/dolfin/common/plotting.py:152: UserWarning: The following kwargs were not used by contour: 'animated'\n",
      "  return ax.tricontourf(mesh2triang(mesh), C, levels, **kwargs)\n",
      "/home/treillou/anaconda3/envs/fenicsproject/lib/python3.8/site-packages/dolfin/common/plotting.py:152: UserWarning: The following kwargs were not used by contour: 'animated'\n",
      "  return ax.tricontourf(mesh2triang(mesh), C, levels, **kwargs)\n",
      "/home/treillou/anaconda3/envs/fenicsproject/lib/python3.8/site-packages/dolfin/common/plotting.py:152: UserWarning: The following kwargs were not used by contour: 'animated'\n",
      "  return ax.tricontourf(mesh2triang(mesh), C, levels, **kwargs)\n",
      "/home/treillou/anaconda3/envs/fenicsproject/lib/python3.8/site-packages/dolfin/common/plotting.py:152: UserWarning: The following kwargs were not used by contour: 'animated'\n",
      "  return ax.tricontourf(mesh2triang(mesh), C, levels, **kwargs)\n",
      "/home/treillou/anaconda3/envs/fenicsproject/lib/python3.8/site-packages/dolfin/common/plotting.py:152: UserWarning: The following kwargs were not used by contour: 'animated'\n",
      "  return ax.tricontourf(mesh2triang(mesh), C, levels, **kwargs)\n",
      "/home/treillou/anaconda3/envs/fenicsproject/lib/python3.8/site-packages/dolfin/common/plotting.py:152: UserWarning: The following kwargs were not used by contour: 'animated'\n",
      "  return ax.tricontourf(mesh2triang(mesh), C, levels, **kwargs)\n",
      "/home/treillou/anaconda3/envs/fenicsproject/lib/python3.8/site-packages/dolfin/common/plotting.py:152: UserWarning: The following kwargs were not used by contour: 'animated'\n",
      "  return ax.tricontourf(mesh2triang(mesh), C, levels, **kwargs)\n",
      "/home/treillou/anaconda3/envs/fenicsproject/lib/python3.8/site-packages/dolfin/common/plotting.py:152: UserWarning: The following kwargs were not used by contour: 'animated'\n",
      "  return ax.tricontourf(mesh2triang(mesh), C, levels, **kwargs)\n",
      "/home/treillou/anaconda3/envs/fenicsproject/lib/python3.8/site-packages/dolfin/common/plotting.py:152: UserWarning: The following kwargs were not used by contour: 'animated'\n",
      "  return ax.tricontourf(mesh2triang(mesh), C, levels, **kwargs)\n",
      "/home/treillou/anaconda3/envs/fenicsproject/lib/python3.8/site-packages/dolfin/common/plotting.py:152: UserWarning: The following kwargs were not used by contour: 'animated'\n",
      "  return ax.tricontourf(mesh2triang(mesh), C, levels, **kwargs)\n",
      "/home/treillou/anaconda3/envs/fenicsproject/lib/python3.8/site-packages/dolfin/common/plotting.py:152: UserWarning: The following kwargs were not used by contour: 'animated'\n",
      "  return ax.tricontourf(mesh2triang(mesh), C, levels, **kwargs)\n",
      "/home/treillou/anaconda3/envs/fenicsproject/lib/python3.8/site-packages/dolfin/common/plotting.py:152: UserWarning: The following kwargs were not used by contour: 'animated'\n",
      "  return ax.tricontourf(mesh2triang(mesh), C, levels, **kwargs)\n",
      "/home/treillou/anaconda3/envs/fenicsproject/lib/python3.8/site-packages/dolfin/common/plotting.py:152: UserWarning: The following kwargs were not used by contour: 'animated'\n",
      "  return ax.tricontourf(mesh2triang(mesh), C, levels, **kwargs)\n",
      "/home/treillou/anaconda3/envs/fenicsproject/lib/python3.8/site-packages/dolfin/common/plotting.py:152: UserWarning: The following kwargs were not used by contour: 'animated'\n",
      "  return ax.tricontourf(mesh2triang(mesh), C, levels, **kwargs)\n",
      "/home/treillou/anaconda3/envs/fenicsproject/lib/python3.8/site-packages/dolfin/common/plotting.py:152: UserWarning: The following kwargs were not used by contour: 'animated'\n",
      "  return ax.tricontourf(mesh2triang(mesh), C, levels, **kwargs)\n",
      "/home/treillou/anaconda3/envs/fenicsproject/lib/python3.8/site-packages/dolfin/common/plotting.py:152: UserWarning: The following kwargs were not used by contour: 'animated'\n",
      "  return ax.tricontourf(mesh2triang(mesh), C, levels, **kwargs)\n",
      "/home/treillou/anaconda3/envs/fenicsproject/lib/python3.8/site-packages/dolfin/common/plotting.py:152: UserWarning: The following kwargs were not used by contour: 'animated'\n",
      "  return ax.tricontourf(mesh2triang(mesh), C, levels, **kwargs)\n",
      "/home/treillou/anaconda3/envs/fenicsproject/lib/python3.8/site-packages/dolfin/common/plotting.py:152: UserWarning: The following kwargs were not used by contour: 'animated'\n",
      "  return ax.tricontourf(mesh2triang(mesh), C, levels, **kwargs)\n",
      "/home/treillou/anaconda3/envs/fenicsproject/lib/python3.8/site-packages/dolfin/common/plotting.py:152: UserWarning: The following kwargs were not used by contour: 'animated'\n",
      "  return ax.tricontourf(mesh2triang(mesh), C, levels, **kwargs)\n",
      "/home/treillou/anaconda3/envs/fenicsproject/lib/python3.8/site-packages/dolfin/common/plotting.py:152: UserWarning: The following kwargs were not used by contour: 'animated'\n",
      "  return ax.tricontourf(mesh2triang(mesh), C, levels, **kwargs)\n"
     ]
    },
    {
     "name": "stderr",
     "output_type": "stream",
     "text": [
      "/home/treillou/anaconda3/envs/fenicsproject/lib/python3.8/site-packages/dolfin/common/plotting.py:152: UserWarning: The following kwargs were not used by contour: 'animated'\n",
      "  return ax.tricontourf(mesh2triang(mesh), C, levels, **kwargs)\n",
      "/home/treillou/anaconda3/envs/fenicsproject/lib/python3.8/site-packages/dolfin/common/plotting.py:152: UserWarning: The following kwargs were not used by contour: 'animated'\n",
      "  return ax.tricontourf(mesh2triang(mesh), C, levels, **kwargs)\n",
      "/home/treillou/anaconda3/envs/fenicsproject/lib/python3.8/site-packages/dolfin/common/plotting.py:152: UserWarning: The following kwargs were not used by contour: 'animated'\n",
      "  return ax.tricontourf(mesh2triang(mesh), C, levels, **kwargs)\n",
      "/home/treillou/anaconda3/envs/fenicsproject/lib/python3.8/site-packages/dolfin/common/plotting.py:152: UserWarning: The following kwargs were not used by contour: 'animated'\n",
      "  return ax.tricontourf(mesh2triang(mesh), C, levels, **kwargs)\n",
      "/home/treillou/anaconda3/envs/fenicsproject/lib/python3.8/site-packages/dolfin/common/plotting.py:152: UserWarning: The following kwargs were not used by contour: 'animated'\n",
      "  return ax.tricontourf(mesh2triang(mesh), C, levels, **kwargs)\n",
      "/home/treillou/anaconda3/envs/fenicsproject/lib/python3.8/site-packages/dolfin/common/plotting.py:152: UserWarning: The following kwargs were not used by contour: 'animated'\n",
      "  return ax.tricontourf(mesh2triang(mesh), C, levels, **kwargs)\n",
      "/home/treillou/anaconda3/envs/fenicsproject/lib/python3.8/site-packages/dolfin/common/plotting.py:152: UserWarning: The following kwargs were not used by contour: 'animated'\n",
      "  return ax.tricontourf(mesh2triang(mesh), C, levels, **kwargs)\n",
      "/home/treillou/anaconda3/envs/fenicsproject/lib/python3.8/site-packages/dolfin/common/plotting.py:152: UserWarning: The following kwargs were not used by contour: 'animated'\n",
      "  return ax.tricontourf(mesh2triang(mesh), C, levels, **kwargs)\n",
      "/home/treillou/anaconda3/envs/fenicsproject/lib/python3.8/site-packages/dolfin/common/plotting.py:152: UserWarning: The following kwargs were not used by contour: 'animated'\n",
      "  return ax.tricontourf(mesh2triang(mesh), C, levels, **kwargs)\n",
      "/home/treillou/anaconda3/envs/fenicsproject/lib/python3.8/site-packages/dolfin/common/plotting.py:152: UserWarning: The following kwargs were not used by contour: 'animated'\n",
      "  return ax.tricontourf(mesh2triang(mesh), C, levels, **kwargs)\n",
      "/home/treillou/anaconda3/envs/fenicsproject/lib/python3.8/site-packages/dolfin/common/plotting.py:152: UserWarning: The following kwargs were not used by contour: 'animated'\n",
      "  return ax.tricontourf(mesh2triang(mesh), C, levels, **kwargs)\n",
      "/home/treillou/anaconda3/envs/fenicsproject/lib/python3.8/site-packages/dolfin/common/plotting.py:152: UserWarning: The following kwargs were not used by contour: 'animated'\n",
      "  return ax.tricontourf(mesh2triang(mesh), C, levels, **kwargs)\n",
      "/home/treillou/anaconda3/envs/fenicsproject/lib/python3.8/site-packages/dolfin/common/plotting.py:152: UserWarning: The following kwargs were not used by contour: 'animated'\n",
      "  return ax.tricontourf(mesh2triang(mesh), C, levels, **kwargs)\n",
      "/home/treillou/anaconda3/envs/fenicsproject/lib/python3.8/site-packages/dolfin/common/plotting.py:152: UserWarning: The following kwargs were not used by contour: 'animated'\n",
      "  return ax.tricontourf(mesh2triang(mesh), C, levels, **kwargs)\n",
      "/home/treillou/anaconda3/envs/fenicsproject/lib/python3.8/site-packages/dolfin/common/plotting.py:152: UserWarning: The following kwargs were not used by contour: 'animated'\n",
      "  return ax.tricontourf(mesh2triang(mesh), C, levels, **kwargs)\n",
      "/home/treillou/anaconda3/envs/fenicsproject/lib/python3.8/site-packages/dolfin/common/plotting.py:152: UserWarning: The following kwargs were not used by contour: 'animated'\n",
      "  return ax.tricontourf(mesh2triang(mesh), C, levels, **kwargs)\n",
      "/home/treillou/anaconda3/envs/fenicsproject/lib/python3.8/site-packages/dolfin/common/plotting.py:152: UserWarning: The following kwargs were not used by contour: 'animated'\n",
      "  return ax.tricontourf(mesh2triang(mesh), C, levels, **kwargs)\n",
      "/home/treillou/anaconda3/envs/fenicsproject/lib/python3.8/site-packages/dolfin/common/plotting.py:152: UserWarning: The following kwargs were not used by contour: 'animated'\n",
      "  return ax.tricontourf(mesh2triang(mesh), C, levels, **kwargs)\n",
      "/home/treillou/anaconda3/envs/fenicsproject/lib/python3.8/site-packages/dolfin/common/plotting.py:152: UserWarning: The following kwargs were not used by contour: 'animated'\n",
      "  return ax.tricontourf(mesh2triang(mesh), C, levels, **kwargs)\n",
      "/home/treillou/anaconda3/envs/fenicsproject/lib/python3.8/site-packages/dolfin/common/plotting.py:152: UserWarning: The following kwargs were not used by contour: 'animated'\n",
      "  return ax.tricontourf(mesh2triang(mesh), C, levels, **kwargs)\n",
      "/home/treillou/anaconda3/envs/fenicsproject/lib/python3.8/site-packages/dolfin/common/plotting.py:152: UserWarning: The following kwargs were not used by contour: 'animated'\n",
      "  return ax.tricontourf(mesh2triang(mesh), C, levels, **kwargs)\n",
      "/home/treillou/anaconda3/envs/fenicsproject/lib/python3.8/site-packages/dolfin/common/plotting.py:152: UserWarning: The following kwargs were not used by contour: 'animated'\n",
      "  return ax.tricontourf(mesh2triang(mesh), C, levels, **kwargs)\n",
      "/home/treillou/anaconda3/envs/fenicsproject/lib/python3.8/site-packages/dolfin/common/plotting.py:152: UserWarning: The following kwargs were not used by contour: 'animated'\n",
      "  return ax.tricontourf(mesh2triang(mesh), C, levels, **kwargs)\n",
      "/home/treillou/anaconda3/envs/fenicsproject/lib/python3.8/site-packages/dolfin/common/plotting.py:152: UserWarning: The following kwargs were not used by contour: 'animated'\n",
      "  return ax.tricontourf(mesh2triang(mesh), C, levels, **kwargs)\n",
      "/home/treillou/anaconda3/envs/fenicsproject/lib/python3.8/site-packages/dolfin/common/plotting.py:152: UserWarning: The following kwargs were not used by contour: 'animated'\n",
      "  return ax.tricontourf(mesh2triang(mesh), C, levels, **kwargs)\n",
      "/home/treillou/anaconda3/envs/fenicsproject/lib/python3.8/site-packages/dolfin/common/plotting.py:152: UserWarning: The following kwargs were not used by contour: 'animated'\n",
      "  return ax.tricontourf(mesh2triang(mesh), C, levels, **kwargs)\n",
      "/home/treillou/anaconda3/envs/fenicsproject/lib/python3.8/site-packages/dolfin/common/plotting.py:152: UserWarning: The following kwargs were not used by contour: 'animated'\n",
      "  return ax.tricontourf(mesh2triang(mesh), C, levels, **kwargs)\n",
      "/home/treillou/anaconda3/envs/fenicsproject/lib/python3.8/site-packages/dolfin/common/plotting.py:152: UserWarning: The following kwargs were not used by contour: 'animated'\n",
      "  return ax.tricontourf(mesh2triang(mesh), C, levels, **kwargs)\n",
      "Traceback (most recent call last):\n",
      "  File \"/home/treillou/anaconda3/envs/fenicsproject/lib/python3.8/site-packages/matplotlib/cbook/__init__.py\", line 196, in process\n",
      "    func(*args, **kwargs)\n",
      "  File \"/home/treillou/anaconda3/envs/fenicsproject/lib/python3.8/site-packages/matplotlib/animation.py\", line 951, in _start\n",
      "    self._init_draw()\n",
      "  File \"/home/treillou/anaconda3/envs/fenicsproject/lib/python3.8/site-packages/matplotlib/animation.py\", line 1525, in _init_draw\n",
      "    artist.set_visible(False)\n",
      "AttributeError: 'TriContourSet' object has no attribute 'set_visible'\n"
     ]
    },
    {
     "data": {
      "image/png": "[encoded data removed]",
      "text/plain": [
       "<Figure size 432x288 with 1 Axes>"
      ]
     },
     "metadata": {
      "needs_background": "light"
     },
     "output_type": "display_data"
    }
   ],
   "source": [
    "import matplotlib.animation as animation\n",
    "mu1 = np.linspace(-1,1,10)\n",
    "mu0 = np.linspace(0.1,10,10)\n",
    "U = []\n",
    "n = 0\n",
    "fig = plt.figure()\n",
    "ims = []\n",
    "for i in range(10):\n",
    "    for j in range(10):\n",
    "            im=plot(Solver(mu0[i],mu1[j],N=10),animated=True)\n",
    "            ims.append([im])\n",
    "\n",
    "ani = animation.ArtistAnimation(fig, ims, interval=50, blit=True,\n",
    "                                repeat_delay=1000)\n",
    "\n",
    "plt.show()"
   ]
  },
  {
   "cell_type": "code",
   "execution_count": null,
   "metadata": {},
   "outputs": [],
   "source": [
    "def greedy_algorithm(tol, MUs, A_delta, f_delta, n=1):\n",
    "    # On prend un mu (au hasard) pour initialiser l'algorithme\n",
    "    mu_1 = MUs[0]\n",
    "    np.delete(MUs, 0)\n",
    "    u_delta_mu_1 = npl.solve(A_delta(mu_1), f_delta(mu_1))\n",
    "    \n",
    "    # On calcule tous les u_delta pour éviter de le refair dans la boucle par la suite\n",
    "    U_DELTA = np.array([npl.solve(A_delta(mu), f_delta(mu)) for mu in MUs])\n",
    "    \n",
    "    # B est la matrice de changement de base de A_delta à A_rb\n",
    "    B = np.copy(u_delta_mu_1)\n",
    "    \n",
    "    err = 1e10\n",
    "    \n",
    "    while err > tol and MUs.shape[0] > 0:\n",
    "        \n",
    "        eta = np.zeros(MUs.shape[0])\n",
    "        \n",
    "        for idx_mu, mu in enumerate(MUs):\n",
    "            A_delta_mu = A_delta(mu)\n",
    "            f_delta_mu = f_delta(mu)\n",
    "        \n",
    "            u_delta_mu = U_DELTA[idx_mu]\n",
    "            \n",
    "            # A_rb_mu @ u_rb_mu = f_rb_mu\n",
    "            # A_rb_mu = B.T @ A_delta_mu @ B\n",
    "            u_rb_mu = npl.solve(B.T @ A_delta_mu @ B, B.T @ f_delta_mu)\n",
    "            \n",
    "            # Pour l'instant, eta(mu) = ||u_delta - u_rb||_L2\n",
    "            eta[idx_mu] = npl.norm(u_delta_mu - u_rb_mu, ord=2)\n",
    "        \n",
    "        # On cherche la pire approximation\n",
    "        idx_worst_mu = np.argmax(eta)\n",
    "        \n",
    "        B = np.vstack((B, U_DELTA[idx_worst_mu]))\n",
    "        \n",
    "        np.delete(MUs, idx_worst_mu)\n",
    "        np.delete(U_DELTA[idx_worst_mu])\n",
    "        \n",
    "        err = eta[idx_worst_mu]\n",
    "        \n",
    "    return B"
   ]
  }
 ],
 "metadata": {
  "kernelspec": {
   "display_name": "Python 3",
   "language": "python",
   "name": "python3"
  },
  "language_info": {
   "codemirror_mode": {
    "name": "ipython",
    "version": 3
   },
   "file_extension": ".py",
   "mimetype": "text/x-python",
   "name": "python",
   "nbconvert_exporter": "python",
   "pygments_lexer": "ipython3",
   "version": "3.8.2"
  }
 },
 "nbformat": 4,
 "nbformat_minor": 4
}
